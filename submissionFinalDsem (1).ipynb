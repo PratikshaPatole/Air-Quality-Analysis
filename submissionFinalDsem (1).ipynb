{
 "cells": [
  {
   "cell_type": "markdown",
   "metadata": {
    "id": "pm2TipOuVvyX"
   },
   "source": [
    "## Lets discuss about Air Quality "
   ]
  },
  {
   "cell_type": "markdown",
   "metadata": {
    "id": "hWd5vA7KVvHT"
   },
   "source": [
    "Air Quality is one of the important aspects of day to day life.Air Quality is included in the action plans promoted by the Ministry of Health to reduce\n",
    "population exposure to air pollution. Recent studies indicate that The 2020 National Energy Strategy could prevent 17%\n",
    "of the PM2.5, and 57% of the NO2 attributable deaths.\n",
    "Compliance with the EU Directive 50/2008 with a 2005 baseline situation could reduce attributable mortality due to\n",
    "PM2.5 or NO2 by around 20% (30% in urban areas).Humidity and temperature are two important compenents of Air.\n",
    "Humidity is the concentration of water vapor present in the air.The amount of water vapor contained within a parcel of air can vary significantly. \n",
    "For example, a parcel of air near saturation may contain 28 g (0.99 oz) of water per cubic metre of air at 30 °C (86 °F),\n",
    " but only 8 g (0.28 oz) of water per cubic metre of air at 8 °C (46 °F).\n",
    "Absolute humidity describes the water content of air and is expressed in either grams per cubic metre[2] or grams per kilogram.\n",
    "We have taken a dataset which contains 9358 instances of hourly averaged responses from an array of 5 metal oxide chemical sensors embedded in an Air Quality Chemical Multisensor Device. \n",
    "The device was located on the field in a significantly polluted area, at road level,within an Italian city. \n",
    "Data were recorded from March 2004 to February 2005 (one year)representing the longest freely available recordings of on field deployed air quality chemical sensor devices responses.\n",
    "Ground Truth hourly averaged concentrations for CO, Non Metanic Hydrocarbons, Benzene, Total Nitrogen Oxides (NOx) and Nitrogen Dioxide (NO2) and were provided by a co-located\n",
    "reference certified analyzer. Evidences of cross-sensitivities as well as both concept and sensor drifts are present as described in De Vito et al., Sens. And Act. B, Vol. 129,2,2008\n",
    " (citation required) eventually affecting sensors concentration estimation capabilities.This dataset can be used exclusively for research.\n",
    " \n",
    " <img src=\"humid2.png\" width=400 />\n"
   ]
  },
  {
   "cell_type": "markdown",
   "metadata": {},
   "source": [
    "# Data Set Information:\n",
    "\n",
    "The dataset contains 9358 instances of hourly averaged responses from an array of 5 metal oxide chemical sensors embedded in an Air Quality Chemical Multisensor Device. The device was located on the field in a significantly polluted area, at road level,within an Italian city. Data were recorded from March 2004 to February 2005 (one year)representing the longest freely available recordings of on field deployed air quality chemical sensor devices responses. Ground Truth hourly averaged concentrations for CO, Non Metanic Hydrocarbons, Benzene, Total Nitrogen Oxides (NOx) and Nitrogen Dioxide (NO2) and were provided by a co-located reference certified analyzer. Evidences of cross-sensitivities as well as both concept and sensor drifts are present as described in De Vito et al., Sens. And Act. B, Vol. 129,2,2008 (citation required) eventually affecting sensors concentration estimation capabilities. Missing values are tagged with -200 value.\n",
    "This dataset can be used exclusively for research purposes. Commercial purposes are fully excluded.\n",
    "\n",
    "\n",
    "# Attribute Information:\n",
    "0 Date (DD/MM/YYYY)\n",
    "\n",
    "1 Time (HH.MM.SS)\n",
    "\n",
    "2 True hourly averaged concentration CO in mg/m^3 (reference analyzer)\n",
    "\n",
    "3 PT08.S1 (tin oxide) hourly averaged sensor response (nominally CO targeted)\n",
    "\n",
    "4 True hourly averaged overall Non Metanic HydroCarbons concentration in microg/m^3 (reference analyzer)\n",
    "\n",
    "5 True hourly averaged Benzene concentration in microg/m^3 (reference analyzer)\n",
    "\n",
    "6 PT08.S2 (titania) hourly averaged sensor response (nominally NMHC targeted)\n",
    "\n",
    "7 True hourly averaged NOx concentration in ppb (reference analyzer)\n",
    "\n",
    "8 PT08.S3 (tungsten oxide) hourly averaged sensor response (nominally NOx targeted)\n",
    "\n",
    "9 True hourly averaged NO2 concentration in microg/m^3 (reference analyzer)\n",
    "\n",
    "10 PT08.S4 (tungsten oxide) hourly averaged sensor response (nominally NO2 targeted)\n",
    "\n",
    "11 PT08.S5 (indium oxide) hourly averaged sensor response (nominally O3 targeted)\n",
    "\n",
    "12 Temperature in Â°C\n",
    "\n",
    "13 Relative Humidity (%)\n",
    "\n",
    "14 AH Absolute Humidity"
   ]
  },
  {
   "cell_type": "code",
   "execution_count": 101,
   "metadata": {
    "colab": {
     "base_uri": "https://localhost:8080/"
    },
    "id": "b2ea-LAQTR7W",
    "outputId": "60d4ce44-ce65-4e05-bf2e-5ad720b63b47"
   },
   "outputs": [
    {
     "name": "stdout",
     "output_type": "stream",
     "text": [
      "Collecting arviz==0.6.1\n",
      "  Using cached arviz-0.6.1-py3-none-any.whl (1.4 MB)\n",
      "Requirement already satisfied: pandas>=0.23 in c:\\users\\patol\\anaconda3\\lib\\site-packages (from arviz==0.6.1) (1.1.3)\n",
      "Requirement already satisfied: numpy>=1.12 in c:\\users\\patol\\anaconda3\\lib\\site-packages (from arviz==0.6.1) (1.19.2)\n",
      "Requirement already satisfied: netcdf4 in c:\\users\\patol\\anaconda3\\lib\\site-packages (from arviz==0.6.1) (1.5.6)\n",
      "Requirement already satisfied: packaging in c:\\users\\patol\\anaconda3\\lib\\site-packages (from arviz==0.6.1) (20.4)\n",
      "Requirement already satisfied: scipy>=0.19 in c:\\users\\patol\\anaconda3\\lib\\site-packages (from arviz==0.6.1) (1.5.2)\n",
      "Requirement already satisfied: xarray>=0.11 in c:\\users\\patol\\anaconda3\\lib\\site-packages (from arviz==0.6.1) (0.17.0)\n",
      "Requirement already satisfied: matplotlib>=3.0 in c:\\users\\patol\\anaconda3\\lib\\site-packages (from arviz==0.6.1) (3.3.2)\n",
      "Requirement already satisfied: python-dateutil>=2.7.3 in c:\\users\\patol\\anaconda3\\lib\\site-packages (from pandas>=0.23->arviz==0.6.1) (2.8.1)\n",
      "Requirement already satisfied: pytz>=2017.2 in c:\\users\\patol\\anaconda3\\lib\\site-packages (from pandas>=0.23->arviz==0.6.1) (2020.1)\n",
      "Requirement already satisfied: cftime in c:\\users\\patol\\anaconda3\\lib\\site-packages (from netcdf4->arviz==0.6.1) (1.4.1)\n",
      "Requirement already satisfied: pyparsing>=2.0.2 in c:\\users\\patol\\anaconda3\\lib\\site-packages (from packaging->arviz==0.6.1) (2.4.7)\n",
      "Requirement already satisfied: six in c:\\users\\patol\\anaconda3\\lib\\site-packages (from packaging->arviz==0.6.1) (1.15.0)\n",
      "Requirement already satisfied: setuptools>=40.4 in c:\\users\\patol\\anaconda3\\lib\\site-packages (from xarray>=0.11->arviz==0.6.1) (50.3.1.post20201107)\n",
      "Requirement already satisfied: certifi>=2020.06.20 in c:\\users\\patol\\anaconda3\\lib\\site-packages (from matplotlib>=3.0->arviz==0.6.1) (2021.10.8)\n",
      "Requirement already satisfied: cycler>=0.10 in c:\\users\\patol\\anaconda3\\lib\\site-packages (from matplotlib>=3.0->arviz==0.6.1) (0.10.0)\n",
      "Requirement already satisfied: pillow>=6.2.0 in c:\\users\\patol\\anaconda3\\lib\\site-packages (from matplotlib>=3.0->arviz==0.6.1) (8.0.1)\n",
      "Requirement already satisfied: kiwisolver>=1.0.1 in c:\\users\\patol\\anaconda3\\lib\\site-packages (from matplotlib>=3.0->arviz==0.6.1) (1.3.0)\n",
      "Installing collected packages: arviz\n",
      "  Attempting uninstall: arviz\n",
      "    Found existing installation: arviz 0.11.4\n",
      "    Uninstalling arviz-0.11.4:\n",
      "      Successfully uninstalled arviz-0.11.4\n",
      "Successfully installed arviz-0.6.1\n"
     ]
    },
    {
     "name": "stderr",
     "output_type": "stream",
     "text": [
      "ERROR: After October 2020 you may experience errors when installing or updating packages. This is because pip will change the way that it resolves dependency conflicts.\n",
      "\n",
      "We recommend you use --use-feature=2020-resolver to test your packages with the new resolver before it becomes the default.\n",
      "\n",
      "pymc3 3.11.0 requires arviz>=0.11.0, but you'll have arviz 0.6.1 which is incompatible.\n"
     ]
    },
    {
     "name": "stdout",
     "output_type": "stream",
     "text": [
      "Collecting pymc3==3.11.1\n",
      "  Using cached pymc3-3.11.1-py3-none-any.whl (868 kB)\n",
      "Requirement already satisfied: numpy>=1.15.0 in c:\\users\\patol\\anaconda3\\lib\\site-packages (from pymc3==3.11.1) (1.19.2)\n",
      "Requirement already satisfied: patsy>=0.5.1 in c:\\users\\patol\\anaconda3\\lib\\site-packages (from pymc3==3.11.1) (0.5.1)\n",
      "Requirement already satisfied: dill in c:\\users\\patol\\anaconda3\\lib\\site-packages (from pymc3==3.11.1) (0.3.3)\n",
      "Requirement already satisfied: pandas>=0.24.0 in c:\\users\\patol\\anaconda3\\lib\\site-packages (from pymc3==3.11.1) (1.1.3)\n",
      "Requirement already satisfied: scipy>=1.2.0 in c:\\users\\patol\\anaconda3\\lib\\site-packages (from pymc3==3.11.1) (1.5.2)\n",
      "Collecting arviz>=0.11.0\n",
      "  Using cached arviz-0.11.4-py3-none-any.whl (1.6 MB)\n",
      "Processing c:\\users\\patol\\appdata\\local\\pip\\cache\\wheels\\0e\\41\\d2\\82c7b771236f987def7fe2e51855cce22b270327f3fedec57c\\theano_pymc-1.1.2-py3-none-any.whl\n",
      "Requirement already satisfied: typing-extensions>=3.7.4 in c:\\users\\patol\\anaconda3\\lib\\site-packages (from pymc3==3.11.1) (3.7.4.3)\n",
      "Requirement already satisfied: fastprogress>=0.2.0 in c:\\users\\patol\\anaconda3\\lib\\site-packages (from pymc3==3.11.1) (1.0.0)\n",
      "Requirement already satisfied: six in c:\\users\\patol\\anaconda3\\lib\\site-packages (from patsy>=0.5.1->pymc3==3.11.1) (1.15.0)\n",
      "Requirement already satisfied: pytz>=2017.2 in c:\\users\\patol\\anaconda3\\lib\\site-packages (from pandas>=0.24.0->pymc3==3.11.1) (2020.1)\n",
      "Requirement already satisfied: python-dateutil>=2.7.3 in c:\\users\\patol\\anaconda3\\lib\\site-packages (from pandas>=0.24.0->pymc3==3.11.1) (2.8.1)\n",
      "Requirement already satisfied: matplotlib>=3.0 in c:\\users\\patol\\anaconda3\\lib\\site-packages (from arviz>=0.11.0->pymc3==3.11.1) (3.3.2)\n",
      "Requirement already satisfied: packaging in c:\\users\\patol\\anaconda3\\lib\\site-packages (from arviz>=0.11.0->pymc3==3.11.1) (20.4)\n",
      "Requirement already satisfied: xarray>=0.16.1 in c:\\users\\patol\\anaconda3\\lib\\site-packages (from arviz>=0.11.0->pymc3==3.11.1) (0.17.0)\n",
      "Requirement already satisfied: netcdf4 in c:\\users\\patol\\anaconda3\\lib\\site-packages (from arviz>=0.11.0->pymc3==3.11.1) (1.5.6)\n",
      "Requirement already satisfied: setuptools>=38.4 in c:\\users\\patol\\anaconda3\\lib\\site-packages (from arviz>=0.11.0->pymc3==3.11.1) (50.3.1.post20201107)\n",
      "Requirement already satisfied: filelock in c:\\users\\patol\\anaconda3\\lib\\site-packages (from theano-pymc==1.1.2->pymc3==3.11.1) (3.0.12)\n",
      "Requirement already satisfied: certifi>=2020.06.20 in c:\\users\\patol\\anaconda3\\lib\\site-packages (from matplotlib>=3.0->arviz>=0.11.0->pymc3==3.11.1) (2021.10.8)\n",
      "Requirement already satisfied: cycler>=0.10 in c:\\users\\patol\\anaconda3\\lib\\site-packages (from matplotlib>=3.0->arviz>=0.11.0->pymc3==3.11.1) (0.10.0)\n",
      "Requirement already satisfied: pyparsing!=2.0.4,!=2.1.2,!=2.1.6,>=2.0.3 in c:\\users\\patol\\anaconda3\\lib\\site-packages (from matplotlib>=3.0->arviz>=0.11.0->pymc3==3.11.1) (2.4.7)\n",
      "Requirement already satisfied: kiwisolver>=1.0.1 in c:\\users\\patol\\anaconda3\\lib\\site-packages (from matplotlib>=3.0->arviz>=0.11.0->pymc3==3.11.1) (1.3.0)\n",
      "Requirement already satisfied: pillow>=6.2.0 in c:\\users\\patol\\anaconda3\\lib\\site-packages (from matplotlib>=3.0->arviz>=0.11.0->pymc3==3.11.1) (8.0.1)\n",
      "Requirement already satisfied: cftime in c:\\users\\patol\\anaconda3\\lib\\site-packages (from netcdf4->arviz>=0.11.0->pymc3==3.11.1) (1.4.1)\n",
      "Installing collected packages: arviz, theano-pymc, pymc3\n",
      "  Attempting uninstall: arviz\n",
      "    Found existing installation: arviz 0.6.1\n",
      "    Uninstalling arviz-0.6.1:\n",
      "      Successfully uninstalled arviz-0.6.1\n",
      "  Attempting uninstall: theano-pymc\n",
      "    Found existing installation: Theano-PyMC 1.1.0\n",
      "    Uninstalling Theano-PyMC-1.1.0:\n",
      "      Successfully uninstalled Theano-PyMC-1.1.0\n",
      "  Attempting uninstall: pymc3\n",
      "    Found existing installation: pymc3 3.11.0\n",
      "    Uninstalling pymc3-3.11.0:\n",
      "      Successfully uninstalled pymc3-3.11.0\n",
      "Successfully installed arviz-0.11.4 pymc3-3.11.1 theano-pymc-1.1.2\n",
      "Requirement already satisfied: Theano==1.0.4 in c:\\users\\patol\\anaconda3\\lib\\site-packages (1.0.4)\n",
      "Requirement already satisfied: numpy>=1.9.1 in c:\\users\\patol\\anaconda3\\lib\\site-packages (from Theano==1.0.4) (1.19.2)\n",
      "Requirement already satisfied: scipy>=0.14 in c:\\users\\patol\\anaconda3\\lib\\site-packages (from Theano==1.0.4) (1.5.2)\n",
      "Requirement already satisfied: six>=1.9.0 in c:\\users\\patol\\anaconda3\\lib\\site-packages (from Theano==1.0.4) (1.15.0)\n"
     ]
    }
   ],
   "source": [
    "!pip install arviz==0.6.1\n",
    "!pip install pymc3==3.11.1\n",
    "!pip install Theano==1.0.4"
   ]
  },
  {
   "cell_type": "code",
   "execution_count": 51,
   "metadata": {
    "id": "XJFhbWw5TUbL"
   },
   "outputs": [],
   "source": [
    "import numpy as np\n",
    "import pandas as pd\n",
    "import matplotlib.pyplot as plt\n",
    "%matplotlib inline\n",
    "import seaborn as sns\n",
    "import scipy.stats as st"
   ]
  },
  {
   "cell_type": "code",
   "execution_count": 52,
   "metadata": {
    "id": "0WzDq3lSTeGF"
   },
   "outputs": [],
   "source": [
    "airUCI = pd.read_csv(\"AirQualityUCI.csv\", sep = \";\", decimal = \",\")"
   ]
  },
  {
   "cell_type": "code",
   "execution_count": 53,
   "metadata": {
    "colab": {
     "base_uri": "https://localhost:8080/",
     "height": 195
    },
    "id": "JuN7qq6CTg9S",
    "outputId": "fa7e922f-0d8f-4390-d2a0-2a5a8429e6a2"
   },
   "outputs": [
    {
     "data": {
      "text/html": [
       "<div>\n",
       "<style scoped>\n",
       "    .dataframe tbody tr th:only-of-type {\n",
       "        vertical-align: middle;\n",
       "    }\n",
       "\n",
       "    .dataframe tbody tr th {\n",
       "        vertical-align: top;\n",
       "    }\n",
       "\n",
       "    .dataframe thead th {\n",
       "        text-align: right;\n",
       "    }\n",
       "</style>\n",
       "<table border=\"1\" class=\"dataframe\">\n",
       "  <thead>\n",
       "    <tr style=\"text-align: right;\">\n",
       "      <th></th>\n",
       "      <th>Date</th>\n",
       "      <th>Time</th>\n",
       "      <th>CO(GT)</th>\n",
       "      <th>PT08.S1(CO)</th>\n",
       "      <th>NMHC(GT)</th>\n",
       "      <th>C6H6(GT)</th>\n",
       "      <th>PT08.S2(NMHC)</th>\n",
       "      <th>NOx(GT)</th>\n",
       "      <th>PT08.S3(NOx)</th>\n",
       "      <th>NO2(GT)</th>\n",
       "      <th>PT08.S4(NO2)</th>\n",
       "      <th>PT08.S5(O3)</th>\n",
       "      <th>T</th>\n",
       "      <th>RH</th>\n",
       "      <th>AH</th>\n",
       "      <th>Unnamed: 15</th>\n",
       "      <th>Unnamed: 16</th>\n",
       "    </tr>\n",
       "  </thead>\n",
       "  <tbody>\n",
       "    <tr>\n",
       "      <th>0</th>\n",
       "      <td>10/03/2004</td>\n",
       "      <td>18.00.00</td>\n",
       "      <td>2.60</td>\n",
       "      <td>1,360.00</td>\n",
       "      <td>150.00</td>\n",
       "      <td>11.90</td>\n",
       "      <td>1,046.00</td>\n",
       "      <td>166.00</td>\n",
       "      <td>1,056.00</td>\n",
       "      <td>113.00</td>\n",
       "      <td>1,692.00</td>\n",
       "      <td>1,268.00</td>\n",
       "      <td>13.60</td>\n",
       "      <td>48.90</td>\n",
       "      <td>0.76</td>\n",
       "      <td>nan</td>\n",
       "      <td>nan</td>\n",
       "    </tr>\n",
       "    <tr>\n",
       "      <th>1</th>\n",
       "      <td>10/03/2004</td>\n",
       "      <td>19.00.00</td>\n",
       "      <td>2.00</td>\n",
       "      <td>1,292.00</td>\n",
       "      <td>112.00</td>\n",
       "      <td>9.40</td>\n",
       "      <td>955.00</td>\n",
       "      <td>103.00</td>\n",
       "      <td>1,174.00</td>\n",
       "      <td>92.00</td>\n",
       "      <td>1,559.00</td>\n",
       "      <td>972.00</td>\n",
       "      <td>13.30</td>\n",
       "      <td>47.70</td>\n",
       "      <td>0.73</td>\n",
       "      <td>nan</td>\n",
       "      <td>nan</td>\n",
       "    </tr>\n",
       "    <tr>\n",
       "      <th>2</th>\n",
       "      <td>10/03/2004</td>\n",
       "      <td>20.00.00</td>\n",
       "      <td>2.20</td>\n",
       "      <td>1,402.00</td>\n",
       "      <td>88.00</td>\n",
       "      <td>9.00</td>\n",
       "      <td>939.00</td>\n",
       "      <td>131.00</td>\n",
       "      <td>1,140.00</td>\n",
       "      <td>114.00</td>\n",
       "      <td>1,555.00</td>\n",
       "      <td>1,074.00</td>\n",
       "      <td>11.90</td>\n",
       "      <td>54.00</td>\n",
       "      <td>0.75</td>\n",
       "      <td>nan</td>\n",
       "      <td>nan</td>\n",
       "    </tr>\n",
       "    <tr>\n",
       "      <th>3</th>\n",
       "      <td>10/03/2004</td>\n",
       "      <td>21.00.00</td>\n",
       "      <td>2.20</td>\n",
       "      <td>1,376.00</td>\n",
       "      <td>80.00</td>\n",
       "      <td>9.20</td>\n",
       "      <td>948.00</td>\n",
       "      <td>172.00</td>\n",
       "      <td>1,092.00</td>\n",
       "      <td>122.00</td>\n",
       "      <td>1,584.00</td>\n",
       "      <td>1,203.00</td>\n",
       "      <td>11.00</td>\n",
       "      <td>60.00</td>\n",
       "      <td>0.79</td>\n",
       "      <td>nan</td>\n",
       "      <td>nan</td>\n",
       "    </tr>\n",
       "    <tr>\n",
       "      <th>4</th>\n",
       "      <td>10/03/2004</td>\n",
       "      <td>22.00.00</td>\n",
       "      <td>1.60</td>\n",
       "      <td>1,272.00</td>\n",
       "      <td>51.00</td>\n",
       "      <td>6.50</td>\n",
       "      <td>836.00</td>\n",
       "      <td>131.00</td>\n",
       "      <td>1,205.00</td>\n",
       "      <td>116.00</td>\n",
       "      <td>1,490.00</td>\n",
       "      <td>1,110.00</td>\n",
       "      <td>11.20</td>\n",
       "      <td>59.60</td>\n",
       "      <td>0.79</td>\n",
       "      <td>nan</td>\n",
       "      <td>nan</td>\n",
       "    </tr>\n",
       "  </tbody>\n",
       "</table>\n",
       "</div>"
      ],
      "text/plain": [
       "         Date      Time  CO(GT)  PT08.S1(CO)  NMHC(GT)  C6H6(GT)  \\\n",
       "0  10/03/2004  18.00.00    2.60     1,360.00    150.00     11.90   \n",
       "1  10/03/2004  19.00.00    2.00     1,292.00    112.00      9.40   \n",
       "2  10/03/2004  20.00.00    2.20     1,402.00     88.00      9.00   \n",
       "3  10/03/2004  21.00.00    2.20     1,376.00     80.00      9.20   \n",
       "4  10/03/2004  22.00.00    1.60     1,272.00     51.00      6.50   \n",
       "\n",
       "   PT08.S2(NMHC)  NOx(GT)  PT08.S3(NOx)  NO2(GT)  PT08.S4(NO2)  PT08.S5(O3)  \\\n",
       "0       1,046.00   166.00      1,056.00   113.00      1,692.00     1,268.00   \n",
       "1         955.00   103.00      1,174.00    92.00      1,559.00       972.00   \n",
       "2         939.00   131.00      1,140.00   114.00      1,555.00     1,074.00   \n",
       "3         948.00   172.00      1,092.00   122.00      1,584.00     1,203.00   \n",
       "4         836.00   131.00      1,205.00   116.00      1,490.00     1,110.00   \n",
       "\n",
       "      T    RH   AH  Unnamed: 15  Unnamed: 16  \n",
       "0 13.60 48.90 0.76          nan          nan  \n",
       "1 13.30 47.70 0.73          nan          nan  \n",
       "2 11.90 54.00 0.75          nan          nan  \n",
       "3 11.00 60.00 0.79          nan          nan  \n",
       "4 11.20 59.60 0.79          nan          nan  "
      ]
     },
     "execution_count": 53,
     "metadata": {},
     "output_type": "execute_result"
    }
   ],
   "source": [
    "airUCI.head(5)"
   ]
  },
  {
   "cell_type": "markdown",
   "metadata": {
    "id": "fKFN8tthTnXA"
   },
   "source": [
    "# Data Cleaning"
   ]
  },
  {
   "cell_type": "markdown",
   "metadata": {},
   "source": [
    "Dropping unnecesary columns"
   ]
  },
  {
   "cell_type": "code",
   "execution_count": 54,
   "metadata": {
    "id": "JBPfqNuVTiF7"
   },
   "outputs": [],
   "source": [
    "airUCI = airUCI.drop([\"Unnamed: 15\", \"Unnamed: 16\"], axis = 1)"
   ]
  },
  {
   "cell_type": "code",
   "execution_count": 55,
   "metadata": {
    "colab": {
     "base_uri": "https://localhost:8080/"
    },
    "id": "-egu3wC6TjZM",
    "outputId": "3d402260-8fe9-420a-b7a3-caf38fb0eadf"
   },
   "outputs": [
    {
     "data": {
      "text/plain": [
       "Index(['Date', 'Time', 'CO(GT)', 'PT08.S1(CO)', 'NMHC(GT)', 'C6H6(GT)',\n",
       "       'PT08.S2(NMHC)', 'NOx(GT)', 'PT08.S3(NOx)', 'NO2(GT)', 'PT08.S4(NO2)',\n",
       "       'PT08.S5(O3)', 'T', 'RH', 'AH'],\n",
       "      dtype='object')"
      ]
     },
     "execution_count": 55,
     "metadata": {},
     "output_type": "execute_result"
    }
   ],
   "source": [
    "airUCI.columns"
   ]
  },
  {
   "cell_type": "markdown",
   "metadata": {},
   "source": [
    "renaming columns for easy analysis"
   ]
  },
  {
   "cell_type": "code",
   "execution_count": 56,
   "metadata": {
    "id": "cS4X4SdrTtcg"
   },
   "outputs": [],
   "source": [
    "df = airUCI\n",
    "df = df.rename(columns={\"CO(GT)\": \"COGT\", \"PT08.S1(CO)\": \"PT08S1\", \"NMHC(GT)\": \"NMHC\", \"C6H6(GT)\" : \"C6H6\", \"PT08.S2(NMHC)\": \"PT08S2\", \"NOx(GT)\": \"NOxGT\", \"PT08.S3(NOx)\":\"PT08S3\", \"NO2(GT)\":\"NO2GT\", \"PT08.S4(NO2)\": \"PT08S4\", \"PT08.S5(O3)\":\"PT08S5\" })"
   ]
  },
  {
   "cell_type": "code",
   "execution_count": 57,
   "metadata": {
    "id": "Koq_x1GKTurN"
   },
   "outputs": [],
   "source": [
    "for col in df.columns:\n",
    "    if(col == 'Date' or col == 'Time'):\n",
    "        continue\n",
    "    df[col] = df[col].replace(-200,float(np.NaN))\n",
    "    df[col] = df[col].fillna(df[col].mean())"
   ]
  },
  {
   "cell_type": "code",
   "execution_count": 58,
   "metadata": {
    "id": "vbZa2wWOTvwd"
   },
   "outputs": [],
   "source": [
    "df[\"Date\"] = pd.to_datetime(df[\"Date\"])"
   ]
  },
  {
   "cell_type": "code",
   "execution_count": 59,
   "metadata": {
    "colab": {
     "base_uri": "https://localhost:8080/",
     "height": 402
    },
    "id": "VgI-IgcwTww2",
    "outputId": "6a61c9ca-f537-4aea-a6a2-bbdd0c4fa058"
   },
   "outputs": [
    {
     "data": {
      "text/html": [
       "<div>\n",
       "<style scoped>\n",
       "    .dataframe tbody tr th:only-of-type {\n",
       "        vertical-align: middle;\n",
       "    }\n",
       "\n",
       "    .dataframe tbody tr th {\n",
       "        vertical-align: top;\n",
       "    }\n",
       "\n",
       "    .dataframe thead th {\n",
       "        text-align: right;\n",
       "    }\n",
       "</style>\n",
       "<table border=\"1\" class=\"dataframe\">\n",
       "  <thead>\n",
       "    <tr style=\"text-align: right;\">\n",
       "      <th></th>\n",
       "      <th>Date</th>\n",
       "      <th>Time</th>\n",
       "      <th>COGT</th>\n",
       "      <th>PT08S1</th>\n",
       "      <th>NMHC</th>\n",
       "      <th>C6H6</th>\n",
       "      <th>PT08S2</th>\n",
       "      <th>NOxGT</th>\n",
       "      <th>PT08S3</th>\n",
       "      <th>NO2GT</th>\n",
       "      <th>PT08S4</th>\n",
       "      <th>PT08S5</th>\n",
       "      <th>T</th>\n",
       "      <th>RH</th>\n",
       "      <th>AH</th>\n",
       "    </tr>\n",
       "  </thead>\n",
       "  <tbody>\n",
       "    <tr>\n",
       "      <th>0</th>\n",
       "      <td>2004-10-03</td>\n",
       "      <td>18.00.00</td>\n",
       "      <td>2.60</td>\n",
       "      <td>1,360.00</td>\n",
       "      <td>150.00</td>\n",
       "      <td>11.90</td>\n",
       "      <td>1,046.00</td>\n",
       "      <td>166.00</td>\n",
       "      <td>1,056.00</td>\n",
       "      <td>113.00</td>\n",
       "      <td>1,692.00</td>\n",
       "      <td>1,268.00</td>\n",
       "      <td>13.60</td>\n",
       "      <td>48.90</td>\n",
       "      <td>0.76</td>\n",
       "    </tr>\n",
       "    <tr>\n",
       "      <th>1</th>\n",
       "      <td>2004-10-03</td>\n",
       "      <td>19.00.00</td>\n",
       "      <td>2.00</td>\n",
       "      <td>1,292.00</td>\n",
       "      <td>112.00</td>\n",
       "      <td>9.40</td>\n",
       "      <td>955.00</td>\n",
       "      <td>103.00</td>\n",
       "      <td>1,174.00</td>\n",
       "      <td>92.00</td>\n",
       "      <td>1,559.00</td>\n",
       "      <td>972.00</td>\n",
       "      <td>13.30</td>\n",
       "      <td>47.70</td>\n",
       "      <td>0.73</td>\n",
       "    </tr>\n",
       "    <tr>\n",
       "      <th>2</th>\n",
       "      <td>2004-10-03</td>\n",
       "      <td>20.00.00</td>\n",
       "      <td>2.20</td>\n",
       "      <td>1,402.00</td>\n",
       "      <td>88.00</td>\n",
       "      <td>9.00</td>\n",
       "      <td>939.00</td>\n",
       "      <td>131.00</td>\n",
       "      <td>1,140.00</td>\n",
       "      <td>114.00</td>\n",
       "      <td>1,555.00</td>\n",
       "      <td>1,074.00</td>\n",
       "      <td>11.90</td>\n",
       "      <td>54.00</td>\n",
       "      <td>0.75</td>\n",
       "    </tr>\n",
       "    <tr>\n",
       "      <th>3</th>\n",
       "      <td>2004-10-03</td>\n",
       "      <td>21.00.00</td>\n",
       "      <td>2.20</td>\n",
       "      <td>1,376.00</td>\n",
       "      <td>80.00</td>\n",
       "      <td>9.20</td>\n",
       "      <td>948.00</td>\n",
       "      <td>172.00</td>\n",
       "      <td>1,092.00</td>\n",
       "      <td>122.00</td>\n",
       "      <td>1,584.00</td>\n",
       "      <td>1,203.00</td>\n",
       "      <td>11.00</td>\n",
       "      <td>60.00</td>\n",
       "      <td>0.79</td>\n",
       "    </tr>\n",
       "    <tr>\n",
       "      <th>4</th>\n",
       "      <td>2004-10-03</td>\n",
       "      <td>22.00.00</td>\n",
       "      <td>1.60</td>\n",
       "      <td>1,272.00</td>\n",
       "      <td>51.00</td>\n",
       "      <td>6.50</td>\n",
       "      <td>836.00</td>\n",
       "      <td>131.00</td>\n",
       "      <td>1,205.00</td>\n",
       "      <td>116.00</td>\n",
       "      <td>1,490.00</td>\n",
       "      <td>1,110.00</td>\n",
       "      <td>11.20</td>\n",
       "      <td>59.60</td>\n",
       "      <td>0.79</td>\n",
       "    </tr>\n",
       "  </tbody>\n",
       "</table>\n",
       "</div>"
      ],
      "text/plain": [
       "        Date      Time  COGT   PT08S1   NMHC  C6H6   PT08S2  NOxGT   PT08S3  \\\n",
       "0 2004-10-03  18.00.00  2.60 1,360.00 150.00 11.90 1,046.00 166.00 1,056.00   \n",
       "1 2004-10-03  19.00.00  2.00 1,292.00 112.00  9.40   955.00 103.00 1,174.00   \n",
       "2 2004-10-03  20.00.00  2.20 1,402.00  88.00  9.00   939.00 131.00 1,140.00   \n",
       "3 2004-10-03  21.00.00  2.20 1,376.00  80.00  9.20   948.00 172.00 1,092.00   \n",
       "4 2004-10-03  22.00.00  1.60 1,272.00  51.00  6.50   836.00 131.00 1,205.00   \n",
       "\n",
       "   NO2GT   PT08S4   PT08S5     T    RH   AH  \n",
       "0 113.00 1,692.00 1,268.00 13.60 48.90 0.76  \n",
       "1  92.00 1,559.00   972.00 13.30 47.70 0.73  \n",
       "2 114.00 1,555.00 1,074.00 11.90 54.00 0.75  \n",
       "3 122.00 1,584.00 1,203.00 11.00 60.00 0.79  \n",
       "4 116.00 1,490.00 1,110.00 11.20 59.60 0.79  "
      ]
     },
     "execution_count": 59,
     "metadata": {},
     "output_type": "execute_result"
    }
   ],
   "source": [
    "df = df.dropna()\n",
    "df.head(5)"
   ]
  },
  {
   "cell_type": "markdown",
   "metadata": {},
   "source": [
    "Confirming for how many times data was recorded each day"
   ]
  },
  {
   "cell_type": "code",
   "execution_count": 60,
   "metadata": {
    "colab": {
     "base_uri": "https://localhost:8080/"
    },
    "id": "lFf8FVbMTyCH",
    "outputId": "cfae2c55-a64c-49de-e664-a3bb368055a5"
   },
   "outputs": [
    {
     "data": {
      "text/plain": [
       "2004-09-07    24\n",
       "2004-12-29    24\n",
       "2004-10-28    24\n",
       "2004-05-23    24\n",
       "2004-03-27    24\n",
       "              ..\n",
       "2004-07-31    24\n",
       "2004-11-09    24\n",
       "2004-06-04    24\n",
       "2005-04-04    15\n",
       "2004-10-03     6\n",
       "Name: Date, Length: 391, dtype: int64"
      ]
     },
     "execution_count": 60,
     "metadata": {},
     "output_type": "execute_result"
    }
   ],
   "source": [
    "df['Date'].value_counts()"
   ]
  },
  {
   "cell_type": "markdown",
   "metadata": {},
   "source": [
    "Dividing data into three quaters as the temparature majorly varies in morning, afternoon, and at night\n",
    "\n",
    "First Quater: timeframe is from 12 Am to 8 AM\n",
    "    \n",
    "Second Quater time frame is from 8 AM to 4 PM\n",
    "\n",
    "Third Quater time frame is from 4 PM to 11 PM"
   ]
  },
  {
   "cell_type": "code",
   "execution_count": 61,
   "metadata": {
    "colab": {
     "base_uri": "https://localhost:8080/",
     "height": 195
    },
    "id": "FHhWYbFUTzWf",
    "outputId": "70f73217-bd86-411f-f24f-5970fc297b7e"
   },
   "outputs": [
    {
     "data": {
      "text/html": [
       "<div>\n",
       "<style scoped>\n",
       "    .dataframe tbody tr th:only-of-type {\n",
       "        vertical-align: middle;\n",
       "    }\n",
       "\n",
       "    .dataframe tbody tr th {\n",
       "        vertical-align: top;\n",
       "    }\n",
       "\n",
       "    .dataframe thead th {\n",
       "        text-align: right;\n",
       "    }\n",
       "</style>\n",
       "<table border=\"1\" class=\"dataframe\">\n",
       "  <thead>\n",
       "    <tr style=\"text-align: right;\">\n",
       "      <th></th>\n",
       "      <th>Date</th>\n",
       "      <th>Time</th>\n",
       "      <th>COGT</th>\n",
       "      <th>PT08S1</th>\n",
       "      <th>NMHC</th>\n",
       "      <th>C6H6</th>\n",
       "      <th>PT08S2</th>\n",
       "      <th>NOxGT</th>\n",
       "      <th>PT08S3</th>\n",
       "      <th>NO2GT</th>\n",
       "      <th>PT08S4</th>\n",
       "      <th>PT08S5</th>\n",
       "      <th>T</th>\n",
       "      <th>RH</th>\n",
       "      <th>AH</th>\n",
       "    </tr>\n",
       "  </thead>\n",
       "  <tbody>\n",
       "    <tr>\n",
       "      <th>15</th>\n",
       "      <td>2004-11-03</td>\n",
       "      <td>09.00.00</td>\n",
       "      <td>2.20</td>\n",
       "      <td>1,351.00</td>\n",
       "      <td>87.00</td>\n",
       "      <td>9.50</td>\n",
       "      <td>960.00</td>\n",
       "      <td>129.00</td>\n",
       "      <td>1,079.00</td>\n",
       "      <td>101.00</td>\n",
       "      <td>1,583.00</td>\n",
       "      <td>1,028.00</td>\n",
       "      <td>10.50</td>\n",
       "      <td>60.60</td>\n",
       "      <td>0.77</td>\n",
       "    </tr>\n",
       "    <tr>\n",
       "      <th>16</th>\n",
       "      <td>2004-11-03</td>\n",
       "      <td>10.00.00</td>\n",
       "      <td>1.70</td>\n",
       "      <td>1,233.00</td>\n",
       "      <td>77.00</td>\n",
       "      <td>6.30</td>\n",
       "      <td>827.00</td>\n",
       "      <td>112.00</td>\n",
       "      <td>1,218.00</td>\n",
       "      <td>98.00</td>\n",
       "      <td>1,446.00</td>\n",
       "      <td>860.00</td>\n",
       "      <td>10.80</td>\n",
       "      <td>58.40</td>\n",
       "      <td>0.76</td>\n",
       "    </tr>\n",
       "    <tr>\n",
       "      <th>17</th>\n",
       "      <td>2004-11-03</td>\n",
       "      <td>11.00.00</td>\n",
       "      <td>1.50</td>\n",
       "      <td>1,179.00</td>\n",
       "      <td>43.00</td>\n",
       "      <td>5.00</td>\n",
       "      <td>762.00</td>\n",
       "      <td>95.00</td>\n",
       "      <td>1,328.00</td>\n",
       "      <td>92.00</td>\n",
       "      <td>1,362.00</td>\n",
       "      <td>671.00</td>\n",
       "      <td>10.50</td>\n",
       "      <td>57.90</td>\n",
       "      <td>0.74</td>\n",
       "    </tr>\n",
       "    <tr>\n",
       "      <th>18</th>\n",
       "      <td>2004-11-03</td>\n",
       "      <td>12.00.00</td>\n",
       "      <td>1.60</td>\n",
       "      <td>1,236.00</td>\n",
       "      <td>61.00</td>\n",
       "      <td>5.20</td>\n",
       "      <td>774.00</td>\n",
       "      <td>104.00</td>\n",
       "      <td>1,301.00</td>\n",
       "      <td>95.00</td>\n",
       "      <td>1,401.00</td>\n",
       "      <td>664.00</td>\n",
       "      <td>9.50</td>\n",
       "      <td>66.80</td>\n",
       "      <td>0.80</td>\n",
       "    </tr>\n",
       "    <tr>\n",
       "      <th>19</th>\n",
       "      <td>2004-11-03</td>\n",
       "      <td>13.00.00</td>\n",
       "      <td>1.90</td>\n",
       "      <td>1,286.00</td>\n",
       "      <td>63.00</td>\n",
       "      <td>7.30</td>\n",
       "      <td>869.00</td>\n",
       "      <td>146.00</td>\n",
       "      <td>1,162.00</td>\n",
       "      <td>112.00</td>\n",
       "      <td>1,537.00</td>\n",
       "      <td>799.00</td>\n",
       "      <td>8.30</td>\n",
       "      <td>76.40</td>\n",
       "      <td>0.84</td>\n",
       "    </tr>\n",
       "  </tbody>\n",
       "</table>\n",
       "</div>"
      ],
      "text/plain": [
       "         Date      Time  COGT   PT08S1  NMHC  C6H6  PT08S2  NOxGT   PT08S3  \\\n",
       "15 2004-11-03  09.00.00  2.20 1,351.00 87.00  9.50  960.00 129.00 1,079.00   \n",
       "16 2004-11-03  10.00.00  1.70 1,233.00 77.00  6.30  827.00 112.00 1,218.00   \n",
       "17 2004-11-03  11.00.00  1.50 1,179.00 43.00  5.00  762.00  95.00 1,328.00   \n",
       "18 2004-11-03  12.00.00  1.60 1,236.00 61.00  5.20  774.00 104.00 1,301.00   \n",
       "19 2004-11-03  13.00.00  1.90 1,286.00 63.00  7.30  869.00 146.00 1,162.00   \n",
       "\n",
       "    NO2GT   PT08S4   PT08S5     T    RH   AH  \n",
       "15 101.00 1,583.00 1,028.00 10.50 60.60 0.77  \n",
       "16  98.00 1,446.00   860.00 10.80 58.40 0.76  \n",
       "17  92.00 1,362.00   671.00 10.50 57.90 0.74  \n",
       "18  95.00 1,401.00   664.00  9.50 66.80 0.80  \n",
       "19 112.00 1,537.00   799.00  8.30 76.40 0.84  "
      ]
     },
     "execution_count": 61,
     "metadata": {},
     "output_type": "execute_result"
    }
   ],
   "source": [
    "dfFQ = df[(df[\"Time\"]<= \"08.00.00\") & (df[\"Time\"]> \"00.00.00\")]\n",
    "dfSQ = df[(df[\"Time\"]<= \"16.00.00\") & (df[\"Time\"]> \"08.00.00\")]\n",
    "dfTQ = df[(df[\"Time\"]<= \"23.00.00\") & (df[\"Time\"]> \"16.00.00\")]\n",
    "dfSQ.head()"
   ]
  },
  {
   "cell_type": "markdown",
   "metadata": {},
   "source": [
    "# data Visualization and analysis"
   ]
  },
  {
   "cell_type": "code",
   "execution_count": 62,
   "metadata": {},
   "outputs": [
    {
     "data": {
      "text/html": [
       "<div>\n",
       "<style scoped>\n",
       "    .dataframe tbody tr th:only-of-type {\n",
       "        vertical-align: middle;\n",
       "    }\n",
       "\n",
       "    .dataframe tbody tr th {\n",
       "        vertical-align: top;\n",
       "    }\n",
       "\n",
       "    .dataframe thead th {\n",
       "        text-align: right;\n",
       "    }\n",
       "</style>\n",
       "<table border=\"1\" class=\"dataframe\">\n",
       "  <thead>\n",
       "    <tr style=\"text-align: right;\">\n",
       "      <th></th>\n",
       "      <th>COGT</th>\n",
       "      <th>PT08S1</th>\n",
       "      <th>NMHC</th>\n",
       "      <th>C6H6</th>\n",
       "      <th>PT08S2</th>\n",
       "      <th>NOxGT</th>\n",
       "      <th>PT08S3</th>\n",
       "      <th>NO2GT</th>\n",
       "      <th>PT08S4</th>\n",
       "      <th>PT08S5</th>\n",
       "      <th>T</th>\n",
       "      <th>RH</th>\n",
       "      <th>AH</th>\n",
       "    </tr>\n",
       "    <tr>\n",
       "      <th>Time</th>\n",
       "      <th></th>\n",
       "      <th></th>\n",
       "      <th></th>\n",
       "      <th></th>\n",
       "      <th></th>\n",
       "      <th></th>\n",
       "      <th></th>\n",
       "      <th></th>\n",
       "      <th></th>\n",
       "      <th></th>\n",
       "      <th></th>\n",
       "      <th></th>\n",
       "      <th></th>\n",
       "    </tr>\n",
       "  </thead>\n",
       "  <tbody>\n",
       "    <tr>\n",
       "      <th>00.00.00</th>\n",
       "      <td>1.84</td>\n",
       "      <td>1,066.62</td>\n",
       "      <td>207.24</td>\n",
       "      <td>7.79</td>\n",
       "      <td>872.54</td>\n",
       "      <td>198.24</td>\n",
       "      <td>848.01</td>\n",
       "      <td>104.67</td>\n",
       "      <td>1,390.59</td>\n",
       "      <td>1,000.19</td>\n",
       "      <td>16.21</td>\n",
       "      <td>55.13</td>\n",
       "      <td>1.05</td>\n",
       "    </tr>\n",
       "    <tr>\n",
       "      <th>01.00.00</th>\n",
       "      <td>1.59</td>\n",
       "      <td>1,007.76</td>\n",
       "      <td>204.99</td>\n",
       "      <td>6.16</td>\n",
       "      <td>801.85</td>\n",
       "      <td>170.19</td>\n",
       "      <td>909.74</td>\n",
       "      <td>93.75</td>\n",
       "      <td>1,334.56</td>\n",
       "      <td>907.83</td>\n",
       "      <td>15.83</td>\n",
       "      <td>56.25</td>\n",
       "      <td>1.05</td>\n",
       "    </tr>\n",
       "    <tr>\n",
       "      <th>02.00.00</th>\n",
       "      <td>1.29</td>\n",
       "      <td>949.92</td>\n",
       "      <td>203.52</td>\n",
       "      <td>4.60</td>\n",
       "      <td>724.14</td>\n",
       "      <td>137.66</td>\n",
       "      <td>995.63</td>\n",
       "      <td>81.04</td>\n",
       "      <td>1,281.54</td>\n",
       "      <td>811.28</td>\n",
       "      <td>15.40</td>\n",
       "      <td>57.49</td>\n",
       "      <td>1.05</td>\n",
       "    </tr>\n",
       "    <tr>\n",
       "      <th>03.00.00</th>\n",
       "      <td>1.14</td>\n",
       "      <td>911.11</td>\n",
       "      <td>203.08</td>\n",
       "      <td>3.62</td>\n",
       "      <td>668.59</td>\n",
       "      <td>238.08</td>\n",
       "      <td>1,072.35</td>\n",
       "      <td>110.89</td>\n",
       "      <td>1,245.97</td>\n",
       "      <td>743.73</td>\n",
       "      <td>14.96</td>\n",
       "      <td>58.69</td>\n",
       "      <td>1.04</td>\n",
       "    </tr>\n",
       "    <tr>\n",
       "      <th>04.00.00</th>\n",
       "      <td>1.51</td>\n",
       "      <td>891.94</td>\n",
       "      <td>201.87</td>\n",
       "      <td>3.16</td>\n",
       "      <td>641.17</td>\n",
       "      <td>105.80</td>\n",
       "      <td>1,111.32</td>\n",
       "      <td>66.72</td>\n",
       "      <td>1,229.32</td>\n",
       "      <td>710.92</td>\n",
       "      <td>14.57</td>\n",
       "      <td>59.85</td>\n",
       "      <td>1.04</td>\n",
       "    </tr>\n",
       "    <tr>\n",
       "      <th>05.00.00</th>\n",
       "      <td>0.98</td>\n",
       "      <td>899.02</td>\n",
       "      <td>201.40</td>\n",
       "      <td>3.30</td>\n",
       "      <td>651.36</td>\n",
       "      <td>110.20</td>\n",
       "      <td>1,098.05</td>\n",
       "      <td>67.43</td>\n",
       "      <td>1,239.08</td>\n",
       "      <td>723.63</td>\n",
       "      <td>14.32</td>\n",
       "      <td>60.52</td>\n",
       "      <td>1.03</td>\n",
       "    </tr>\n",
       "    <tr>\n",
       "      <th>06.00.00</th>\n",
       "      <td>1.14</td>\n",
       "      <td>958.39</td>\n",
       "      <td>204.45</td>\n",
       "      <td>4.95</td>\n",
       "      <td>738.70</td>\n",
       "      <td>143.10</td>\n",
       "      <td>993.45</td>\n",
       "      <td>77.68</td>\n",
       "      <td>1,307.42</td>\n",
       "      <td>821.54</td>\n",
       "      <td>14.14</td>\n",
       "      <td>61.04</td>\n",
       "      <td>1.03</td>\n",
       "    </tr>\n",
       "    <tr>\n",
       "      <th>07.00.00</th>\n",
       "      <td>1.87</td>\n",
       "      <td>1,112.94</td>\n",
       "      <td>220.45</td>\n",
       "      <td>10.39</td>\n",
       "      <td>943.94</td>\n",
       "      <td>227.82</td>\n",
       "      <td>829.99</td>\n",
       "      <td>97.35</td>\n",
       "      <td>1,507.02</td>\n",
       "      <td>1,047.20</td>\n",
       "      <td>14.43</td>\n",
       "      <td>59.99</td>\n",
       "      <td>1.03</td>\n",
       "    </tr>\n",
       "    <tr>\n",
       "      <th>08.00.00</th>\n",
       "      <td>2.70</td>\n",
       "      <td>1,233.33</td>\n",
       "      <td>238.57</td>\n",
       "      <td>15.69</td>\n",
       "      <td>1,123.64</td>\n",
       "      <td>329.42</td>\n",
       "      <td>706.30</td>\n",
       "      <td>119.97</td>\n",
       "      <td>1,683.65</td>\n",
       "      <td>1,253.04</td>\n",
       "      <td>15.31</td>\n",
       "      <td>57.21</td>\n",
       "      <td>1.04</td>\n",
       "    </tr>\n",
       "    <tr>\n",
       "      <th>09.00.00</th>\n",
       "      <td>2.84</td>\n",
       "      <td>1,217.80</td>\n",
       "      <td>234.64</td>\n",
       "      <td>14.62</td>\n",
       "      <td>1,099.91</td>\n",
       "      <td>344.90</td>\n",
       "      <td>710.95</td>\n",
       "      <td>128.28</td>\n",
       "      <td>1,621.56</td>\n",
       "      <td>1,270.32</td>\n",
       "      <td>16.80</td>\n",
       "      <td>52.78</td>\n",
       "      <td>1.04</td>\n",
       "    </tr>\n",
       "    <tr>\n",
       "      <th>10.00.00</th>\n",
       "      <td>2.50</td>\n",
       "      <td>1,171.93</td>\n",
       "      <td>224.17</td>\n",
       "      <td>12.17</td>\n",
       "      <td>1,028.28</td>\n",
       "      <td>326.68</td>\n",
       "      <td>753.44</td>\n",
       "      <td>130.83</td>\n",
       "      <td>1,529.38</td>\n",
       "      <td>1,201.36</td>\n",
       "      <td>19.19</td>\n",
       "      <td>46.18</td>\n",
       "      <td>1.03</td>\n",
       "    </tr>\n",
       "    <tr>\n",
       "      <th>11.00.00</th>\n",
       "      <td>2.24</td>\n",
       "      <td>1,138.93</td>\n",
       "      <td>219.73</td>\n",
       "      <td>10.98</td>\n",
       "      <td>990.83</td>\n",
       "      <td>297.95</td>\n",
       "      <td>779.03</td>\n",
       "      <td>127.93</td>\n",
       "      <td>1,478.53</td>\n",
       "      <td>1,111.45</td>\n",
       "      <td>20.97</td>\n",
       "      <td>41.60</td>\n",
       "      <td>1.02</td>\n",
       "    </tr>\n",
       "    <tr>\n",
       "      <th>12.00.00</th>\n",
       "      <td>2.17</td>\n",
       "      <td>1,125.28</td>\n",
       "      <td>220.90</td>\n",
       "      <td>10.80</td>\n",
       "      <td>984.68</td>\n",
       "      <td>269.37</td>\n",
       "      <td>787.31</td>\n",
       "      <td>122.85</td>\n",
       "      <td>1,466.55</td>\n",
       "      <td>1,043.97</td>\n",
       "      <td>22.11</td>\n",
       "      <td>38.82</td>\n",
       "      <td>1.01</td>\n",
       "    </tr>\n",
       "    <tr>\n",
       "      <th>13.00.00</th>\n",
       "      <td>2.19</td>\n",
       "      <td>1,117.52</td>\n",
       "      <td>223.02</td>\n",
       "      <td>10.95</td>\n",
       "      <td>987.75</td>\n",
       "      <td>252.35</td>\n",
       "      <td>792.59</td>\n",
       "      <td>118.40</td>\n",
       "      <td>1,466.64</td>\n",
       "      <td>999.34</td>\n",
       "      <td>22.64</td>\n",
       "      <td>37.56</td>\n",
       "      <td>0.99</td>\n",
       "    </tr>\n",
       "    <tr>\n",
       "      <th>14.00.00</th>\n",
       "      <td>2.13</td>\n",
       "      <td>1,095.07</td>\n",
       "      <td>219.60</td>\n",
       "      <td>10.31</td>\n",
       "      <td>962.36</td>\n",
       "      <td>243.78</td>\n",
       "      <td>819.04</td>\n",
       "      <td>115.97</td>\n",
       "      <td>1,436.50</td>\n",
       "      <td>943.08</td>\n",
       "      <td>22.72</td>\n",
       "      <td>36.99</td>\n",
       "      <td>0.98</td>\n",
       "    </tr>\n",
       "    <tr>\n",
       "      <th>15.00.00</th>\n",
       "      <td>2.07</td>\n",
       "      <td>1,100.47</td>\n",
       "      <td>219.35</td>\n",
       "      <td>10.26</td>\n",
       "      <td>962.64</td>\n",
       "      <td>239.82</td>\n",
       "      <td>820.74</td>\n",
       "      <td>116.61</td>\n",
       "      <td>1,435.17</td>\n",
       "      <td>937.62</td>\n",
       "      <td>23.11</td>\n",
       "      <td>36.47</td>\n",
       "      <td>0.98</td>\n",
       "    </tr>\n",
       "    <tr>\n",
       "      <th>16.00.00</th>\n",
       "      <td>2.25</td>\n",
       "      <td>1,129.63</td>\n",
       "      <td>220.05</td>\n",
       "      <td>11.08</td>\n",
       "      <td>991.76</td>\n",
       "      <td>259.36</td>\n",
       "      <td>799.07</td>\n",
       "      <td>121.89</td>\n",
       "      <td>1,461.18</td>\n",
       "      <td>974.99</td>\n",
       "      <td>23.14</td>\n",
       "      <td>36.71</td>\n",
       "      <td>0.98</td>\n",
       "    </tr>\n",
       "    <tr>\n",
       "      <th>17.00.00</th>\n",
       "      <td>2.72</td>\n",
       "      <td>1,187.87</td>\n",
       "      <td>226.84</td>\n",
       "      <td>13.76</td>\n",
       "      <td>1,076.10</td>\n",
       "      <td>299.87</td>\n",
       "      <td>749.05</td>\n",
       "      <td>132.77</td>\n",
       "      <td>1,552.30</td>\n",
       "      <td>1,086.84</td>\n",
       "      <td>22.50</td>\n",
       "      <td>38.35</td>\n",
       "      <td>0.99</td>\n",
       "    </tr>\n",
       "    <tr>\n",
       "      <th>18.00.00</th>\n",
       "      <td>3.25</td>\n",
       "      <td>1,244.24</td>\n",
       "      <td>235.99</td>\n",
       "      <td>16.35</td>\n",
       "      <td>1,155.32</td>\n",
       "      <td>336.29</td>\n",
       "      <td>699.09</td>\n",
       "      <td>141.37</td>\n",
       "      <td>1,642.45</td>\n",
       "      <td>1,210.39</td>\n",
       "      <td>21.10</td>\n",
       "      <td>41.58</td>\n",
       "      <td>1.01</td>\n",
       "    </tr>\n",
       "    <tr>\n",
       "      <th>19.00.00</th>\n",
       "      <td>3.51</td>\n",
       "      <td>1,272.96</td>\n",
       "      <td>244.87</td>\n",
       "      <td>17.36</td>\n",
       "      <td>1,188.43</td>\n",
       "      <td>348.09</td>\n",
       "      <td>672.39</td>\n",
       "      <td>145.06</td>\n",
       "      <td>1,681.84</td>\n",
       "      <td>1,282.46</td>\n",
       "      <td>19.74</td>\n",
       "      <td>44.82</td>\n",
       "      <td>1.03</td>\n",
       "    </tr>\n",
       "    <tr>\n",
       "      <th>20.00.00</th>\n",
       "      <td>3.28</td>\n",
       "      <td>1,236.74</td>\n",
       "      <td>237.72</td>\n",
       "      <td>15.15</td>\n",
       "      <td>1,126.78</td>\n",
       "      <td>335.21</td>\n",
       "      <td>693.79</td>\n",
       "      <td>140.77</td>\n",
       "      <td>1,620.64</td>\n",
       "      <td>1,257.14</td>\n",
       "      <td>18.71</td>\n",
       "      <td>47.78</td>\n",
       "      <td>1.04</td>\n",
       "    </tr>\n",
       "    <tr>\n",
       "      <th>21.00.00</th>\n",
       "      <td>2.53</td>\n",
       "      <td>1,144.54</td>\n",
       "      <td>218.03</td>\n",
       "      <td>11.05</td>\n",
       "      <td>995.52</td>\n",
       "      <td>283.49</td>\n",
       "      <td>766.53</td>\n",
       "      <td>128.44</td>\n",
       "      <td>1,492.59</td>\n",
       "      <td>1,132.73</td>\n",
       "      <td>17.86</td>\n",
       "      <td>50.11</td>\n",
       "      <td>1.04</td>\n",
       "    </tr>\n",
       "    <tr>\n",
       "      <th>22.00.00</th>\n",
       "      <td>2.00</td>\n",
       "      <td>1,094.45</td>\n",
       "      <td>211.12</td>\n",
       "      <td>9.03</td>\n",
       "      <td>922.18</td>\n",
       "      <td>223.22</td>\n",
       "      <td>816.94</td>\n",
       "      <td>114.81</td>\n",
       "      <td>1,430.54</td>\n",
       "      <td>1,050.50</td>\n",
       "      <td>17.22</td>\n",
       "      <td>51.91</td>\n",
       "      <td>1.05</td>\n",
       "    </tr>\n",
       "    <tr>\n",
       "      <th>23.00.00</th>\n",
       "      <td>1.92</td>\n",
       "      <td>1,087.84</td>\n",
       "      <td>209.93</td>\n",
       "      <td>8.49</td>\n",
       "      <td>901.78</td>\n",
       "      <td>204.79</td>\n",
       "      <td>826.70</td>\n",
       "      <td>108.78</td>\n",
       "      <td>1,415.52</td>\n",
       "      <td>1,028.03</td>\n",
       "      <td>16.67</td>\n",
       "      <td>53.69</td>\n",
       "      <td>1.05</td>\n",
       "    </tr>\n",
       "  </tbody>\n",
       "</table>\n",
       "</div>"
      ],
      "text/plain": [
       "          COGT   PT08S1   NMHC  C6H6   PT08S2  NOxGT   PT08S3  NO2GT   PT08S4  \\\n",
       "Time                                                                            \n",
       "00.00.00  1.84 1,066.62 207.24  7.79   872.54 198.24   848.01 104.67 1,390.59   \n",
       "01.00.00  1.59 1,007.76 204.99  6.16   801.85 170.19   909.74  93.75 1,334.56   \n",
       "02.00.00  1.29   949.92 203.52  4.60   724.14 137.66   995.63  81.04 1,281.54   \n",
       "03.00.00  1.14   911.11 203.08  3.62   668.59 238.08 1,072.35 110.89 1,245.97   \n",
       "04.00.00  1.51   891.94 201.87  3.16   641.17 105.80 1,111.32  66.72 1,229.32   \n",
       "05.00.00  0.98   899.02 201.40  3.30   651.36 110.20 1,098.05  67.43 1,239.08   \n",
       "06.00.00  1.14   958.39 204.45  4.95   738.70 143.10   993.45  77.68 1,307.42   \n",
       "07.00.00  1.87 1,112.94 220.45 10.39   943.94 227.82   829.99  97.35 1,507.02   \n",
       "08.00.00  2.70 1,233.33 238.57 15.69 1,123.64 329.42   706.30 119.97 1,683.65   \n",
       "09.00.00  2.84 1,217.80 234.64 14.62 1,099.91 344.90   710.95 128.28 1,621.56   \n",
       "10.00.00  2.50 1,171.93 224.17 12.17 1,028.28 326.68   753.44 130.83 1,529.38   \n",
       "11.00.00  2.24 1,138.93 219.73 10.98   990.83 297.95   779.03 127.93 1,478.53   \n",
       "12.00.00  2.17 1,125.28 220.90 10.80   984.68 269.37   787.31 122.85 1,466.55   \n",
       "13.00.00  2.19 1,117.52 223.02 10.95   987.75 252.35   792.59 118.40 1,466.64   \n",
       "14.00.00  2.13 1,095.07 219.60 10.31   962.36 243.78   819.04 115.97 1,436.50   \n",
       "15.00.00  2.07 1,100.47 219.35 10.26   962.64 239.82   820.74 116.61 1,435.17   \n",
       "16.00.00  2.25 1,129.63 220.05 11.08   991.76 259.36   799.07 121.89 1,461.18   \n",
       "17.00.00  2.72 1,187.87 226.84 13.76 1,076.10 299.87   749.05 132.77 1,552.30   \n",
       "18.00.00  3.25 1,244.24 235.99 16.35 1,155.32 336.29   699.09 141.37 1,642.45   \n",
       "19.00.00  3.51 1,272.96 244.87 17.36 1,188.43 348.09   672.39 145.06 1,681.84   \n",
       "20.00.00  3.28 1,236.74 237.72 15.15 1,126.78 335.21   693.79 140.77 1,620.64   \n",
       "21.00.00  2.53 1,144.54 218.03 11.05   995.52 283.49   766.53 128.44 1,492.59   \n",
       "22.00.00  2.00 1,094.45 211.12  9.03   922.18 223.22   816.94 114.81 1,430.54   \n",
       "23.00.00  1.92 1,087.84 209.93  8.49   901.78 204.79   826.70 108.78 1,415.52   \n",
       "\n",
       "           PT08S5     T    RH   AH  \n",
       "Time                                \n",
       "00.00.00 1,000.19 16.21 55.13 1.05  \n",
       "01.00.00   907.83 15.83 56.25 1.05  \n",
       "02.00.00   811.28 15.40 57.49 1.05  \n",
       "03.00.00   743.73 14.96 58.69 1.04  \n",
       "04.00.00   710.92 14.57 59.85 1.04  \n",
       "05.00.00   723.63 14.32 60.52 1.03  \n",
       "06.00.00   821.54 14.14 61.04 1.03  \n",
       "07.00.00 1,047.20 14.43 59.99 1.03  \n",
       "08.00.00 1,253.04 15.31 57.21 1.04  \n",
       "09.00.00 1,270.32 16.80 52.78 1.04  \n",
       "10.00.00 1,201.36 19.19 46.18 1.03  \n",
       "11.00.00 1,111.45 20.97 41.60 1.02  \n",
       "12.00.00 1,043.97 22.11 38.82 1.01  \n",
       "13.00.00   999.34 22.64 37.56 0.99  \n",
       "14.00.00   943.08 22.72 36.99 0.98  \n",
       "15.00.00   937.62 23.11 36.47 0.98  \n",
       "16.00.00   974.99 23.14 36.71 0.98  \n",
       "17.00.00 1,086.84 22.50 38.35 0.99  \n",
       "18.00.00 1,210.39 21.10 41.58 1.01  \n",
       "19.00.00 1,282.46 19.74 44.82 1.03  \n",
       "20.00.00 1,257.14 18.71 47.78 1.04  \n",
       "21.00.00 1,132.73 17.86 50.11 1.04  \n",
       "22.00.00 1,050.50 17.22 51.91 1.05  \n",
       "23.00.00 1,028.03 16.67 53.69 1.05  "
      ]
     },
     "execution_count": 62,
     "metadata": {},
     "output_type": "execute_result"
    }
   ],
   "source": [
    "dfPlot = df.groupby(df[\"Time\"]).mean()\n",
    "dfPlot.head(24)"
   ]
  },
  {
   "cell_type": "code",
   "execution_count": 63,
   "metadata": {},
   "outputs": [
    {
     "name": "stderr",
     "output_type": "stream",
     "text": [
      "C:\\Users\\patol\\anaconda3\\lib\\site-packages\\seaborn\\distributions.py:2551: FutureWarning: `distplot` is a deprecated function and will be removed in a future version. Please adapt your code to use either `displot` (a figure-level function with similar flexibility) or `histplot` (an axes-level function for histograms).\n",
      "  warnings.warn(msg, FutureWarning)\n"
     ]
    },
    {
     "data": {
      "text/plain": [
       "<AxesSubplot:xlabel='AH', ylabel='Density'>"
      ]
     },
     "execution_count": 63,
     "metadata": {},
     "output_type": "execute_result"
    },
    {
     "data": {
      "image/png": "[encoded data removed]",
      "text/plain": [
       "<Figure size 432x288 with 1 Axes>"
      ]
     },
     "metadata": {
      "needs_background": "light"
     },
     "output_type": "display_data"
    }
   ],
   "source": [
    "sns.distplot(dfPlot['AH'], kde = True)"
   ]
  },
  {
   "cell_type": "code",
   "execution_count": 64,
   "metadata": {
    "colab": {
     "base_uri": "https://localhost:8080/",
     "height": 350
    },
    "id": "zn9I8Ra_T0oX",
    "outputId": "196460a5-379b-445b-d0b3-cb9c301492e7"
   },
   "outputs": [
    {
     "name": "stderr",
     "output_type": "stream",
     "text": [
      "C:\\Users\\patol\\anaconda3\\lib\\site-packages\\seaborn\\distributions.py:2551: FutureWarning: `distplot` is a deprecated function and will be removed in a future version. Please adapt your code to use either `displot` (a figure-level function with similar flexibility) or `histplot` (an axes-level function for histograms).\n",
      "  warnings.warn(msg, FutureWarning)\n"
     ]
    },
    {
     "data": {
      "text/plain": [
       "<AxesSubplot:xlabel='AH', ylabel='Density'>"
      ]
     },
     "execution_count": 64,
     "metadata": {},
     "output_type": "execute_result"
    },
    {
     "data": {
      "image/png": "[encoded data removed]",
      "text/plain": [
       "<Figure size 432x288 with 1 Axes>"
      ]
     },
     "metadata": {
      "needs_background": "light"
     },
     "output_type": "display_data"
    }
   ],
   "source": [
    "sns.distplot(dfSQ['AH'], kde = True)"
   ]
  },
  {
   "cell_type": "markdown",
   "metadata": {},
   "source": [
    "Our data follows Normal like function but there is noise present"
   ]
  },
  {
   "cell_type": "code",
   "execution_count": 65,
   "metadata": {
    "colab": {
     "base_uri": "https://localhost:8080/",
     "height": 350
    },
    "id": "PDfaLTjZT14G",
    "outputId": "c4f69d81-f9fb-4539-932d-1878d4b7b551"
   },
   "outputs": [
    {
     "name": "stderr",
     "output_type": "stream",
     "text": [
      "C:\\Users\\patol\\anaconda3\\lib\\site-packages\\seaborn\\distributions.py:2551: FutureWarning: `distplot` is a deprecated function and will be removed in a future version. Please adapt your code to use either `displot` (a figure-level function with similar flexibility) or `histplot` (an axes-level function for histograms).\n",
      "  warnings.warn(msg, FutureWarning)\n"
     ]
    },
    {
     "data": {
      "text/plain": [
       "<AxesSubplot:xlabel='T', ylabel='Density'>"
      ]
     },
     "execution_count": 65,
     "metadata": {},
     "output_type": "execute_result"
    },
    {
     "data": {
      "image/png": "[encoded data removed]",
      "text/plain": [
       "<Figure size 432x288 with 1 Axes>"
      ]
     },
     "metadata": {
      "needs_background": "light"
     },
     "output_type": "display_data"
    }
   ],
   "source": [
    "sns.distplot(dfSQ['T'], kde = True)"
   ]
  },
  {
   "cell_type": "code",
   "execution_count": 66,
   "metadata": {
    "colab": {
     "base_uri": "https://localhost:8080/",
     "height": 296
    },
    "id": "4cMzu-a4T3Nw",
    "outputId": "05a9f2ee-ef25-4d6f-b9d2-e8903ee09647"
   },
   "outputs": [
    {
     "data": {
      "text/plain": [
       "<AxesSubplot:xlabel='AH'>"
      ]
     },
     "execution_count": 66,
     "metadata": {},
     "output_type": "execute_result"
    },
    {
     "data": {
      "image/png": "[encoded data removed]",
      "text/plain": [
       "<Figure size 432x288 with 1 Axes>"
      ]
     },
     "metadata": {
      "needs_background": "light"
     },
     "output_type": "display_data"
    }
   ],
   "source": [
    "sns.boxplot(x = dfSQ[\"AH\"])"
   ]
  },
  {
   "cell_type": "markdown",
   "metadata": {},
   "source": [
    "Here we can see from the box plot that there are outliers in the data that are present and effecting the data"
   ]
  },
  {
   "cell_type": "code",
   "execution_count": 67,
   "metadata": {
    "colab": {
     "base_uri": "https://localhost:8080/",
     "height": 296
    },
    "id": "a0TTgCYCT4a6",
    "outputId": "195463f3-a53d-4021-e5c4-934842c76338"
   },
   "outputs": [
    {
     "data": {
      "text/plain": [
       "<AxesSubplot:xlabel='T'>"
      ]
     },
     "execution_count": 67,
     "metadata": {},
     "output_type": "execute_result"
    },
    {
     "data": {
      "image/png": "[encoded data removed]",
      "text/plain": [
       "<Figure size 432x288 with 1 Axes>"
      ]
     },
     "metadata": {
      "needs_background": "light"
     },
     "output_type": "display_data"
    }
   ],
   "source": [
    "sns.boxplot(x = dfSQ[\"T\"])"
   ]
  },
  {
   "cell_type": "code",
   "execution_count": 68,
   "metadata": {
    "colab": {
     "base_uri": "https://localhost:8080/"
    },
    "id": "FHLQDdqNT5nA",
    "outputId": "5c794365-f4f2-4437-9d47-7e5906c77997"
   },
   "outputs": [
    {
     "data": {
      "text/plain": [
       "count   3,118.00\n",
       "mean        1.00\n",
       "std         0.39\n",
       "min         0.19\n",
       "25%         0.72\n",
       "50%         1.00\n",
       "75%         1.26\n",
       "max         2.23\n",
       "Name: AH, dtype: float64"
      ]
     },
     "execution_count": 68,
     "metadata": {},
     "output_type": "execute_result"
    }
   ],
   "source": [
    "dfSQ[\"AH\"].describe()"
   ]
  },
  {
   "cell_type": "markdown",
   "metadata": {},
   "source": [
    "Hm, the maximum value is far away from the sum of standard deviation and mean "
   ]
  },
  {
   "cell_type": "code",
   "execution_count": 69,
   "metadata": {
    "colab": {
     "base_uri": "https://localhost:8080/"
    },
    "id": "3GuXTuIqT61n",
    "outputId": "be475a07-95d4-4630-aa02-1f80962243fa"
   },
   "outputs": [
    {
     "data": {
      "text/plain": [
       "count   3,118.00\n",
       "mean       21.33\n",
       "std         9.38\n",
       "min        -0.50\n",
       "25%        14.00\n",
       "50%        20.40\n",
       "75%        28.20\n",
       "max        44.60\n",
       "Name: T, dtype: float64"
      ]
     },
     "execution_count": 69,
     "metadata": {},
     "output_type": "execute_result"
    }
   ],
   "source": [
    "dfSQ[\"T\"].describe()"
   ]
  },
  {
   "cell_type": "markdown",
   "metadata": {
    "id": "fR9OVswQRrLt"
   },
   "source": [
    " as we can see in out dataset, for absolute humidity values there are outliers are present which might effect our analysis. lets see how many data points are present outside two times of our standard Deviation."
   ]
  },
  {
   "cell_type": "markdown",
   "metadata": {
    "id": "yh8hskcmT7-c"
   },
   "source": [
    "# Handeling the Outliers"
   ]
  },
  {
   "cell_type": "code",
   "execution_count": 70,
   "metadata": {
    "colab": {
     "base_uri": "https://localhost:8080/"
    },
    "id": "ml515U8gT_0h",
    "outputId": "44c1f98e-76c3-4419-efb0-b8fdadd01d6b"
   },
   "outputs": [
    {
     "data": {
      "text/plain": [
       "1.00450025361403"
      ]
     },
     "execution_count": 70,
     "metadata": {},
     "output_type": "execute_result"
    }
   ],
   "source": [
    "dfSQ[\"AH\"].mean()"
   ]
  },
  {
   "cell_type": "markdown",
   "metadata": {},
   "source": [
    "checking value of mean + 2*sigma"
   ]
  },
  {
   "cell_type": "code",
   "execution_count": 71,
   "metadata": {
    "colab": {
     "base_uri": "https://localhost:8080/"
    },
    "id": "rs8zeG8tUA8A",
    "outputId": "fb8eedb9-a710-435b-f807-284e080eb017"
   },
   "outputs": [
    {
     "data": {
      "text/plain": [
       "1.7924434320401605"
      ]
     },
     "execution_count": 71,
     "metadata": {},
     "output_type": "execute_result"
    }
   ],
   "source": [
    "dfSQ[\"AH\"].mean() + 2* dfSQ[\"AH\"].std()"
   ]
  },
  {
   "cell_type": "markdown",
   "metadata": {},
   "source": [
    "checking how many values are present on each side of outlier so that we can decide what we have to do with outliers data and see how it is effecting our analysis"
   ]
  },
  {
   "cell_type": "code",
   "execution_count": 72,
   "metadata": {
    "colab": {
     "base_uri": "https://localhost:8080/",
     "height": 47
    },
    "id": "CjXyundiUCDx",
    "outputId": "5e52aaf5-8a24-44ef-9598-689dc1cf30fe"
   },
   "outputs": [
    {
     "data": {
      "text/html": [
       "<div>\n",
       "<style scoped>\n",
       "    .dataframe tbody tr th:only-of-type {\n",
       "        vertical-align: middle;\n",
       "    }\n",
       "\n",
       "    .dataframe tbody tr th {\n",
       "        vertical-align: top;\n",
       "    }\n",
       "\n",
       "    .dataframe thead th {\n",
       "        text-align: right;\n",
       "    }\n",
       "</style>\n",
       "<table border=\"1\" class=\"dataframe\">\n",
       "  <thead>\n",
       "    <tr style=\"text-align: right;\">\n",
       "      <th></th>\n",
       "      <th>Date</th>\n",
       "      <th>Time</th>\n",
       "      <th>COGT</th>\n",
       "      <th>PT08S1</th>\n",
       "      <th>NMHC</th>\n",
       "      <th>C6H6</th>\n",
       "      <th>PT08S2</th>\n",
       "      <th>NOxGT</th>\n",
       "      <th>PT08S3</th>\n",
       "      <th>NO2GT</th>\n",
       "      <th>PT08S4</th>\n",
       "      <th>PT08S5</th>\n",
       "      <th>T</th>\n",
       "      <th>RH</th>\n",
       "      <th>AH</th>\n",
       "    </tr>\n",
       "  </thead>\n",
       "  <tbody>\n",
       "  </tbody>\n",
       "</table>\n",
       "</div>"
      ],
      "text/plain": [
       "Empty DataFrame\n",
       "Columns: [Date, Time, COGT, PT08S1, NMHC, C6H6, PT08S2, NOxGT, PT08S3, NO2GT, PT08S4, PT08S5, T, RH, AH]\n",
       "Index: []"
      ]
     },
     "execution_count": 72,
     "metadata": {},
     "output_type": "execute_result"
    }
   ],
   "source": [
    "dfSQ[dfSQ[\"AH\"] < (dfSQ[\"AH\"].mean() - 2.5* dfSQ[\"AH\"].std())]"
   ]
  },
  {
   "cell_type": "markdown",
   "metadata": {},
   "source": [
    "We see there are not many outliers on left side of the data. Lets see how many data points are present at right oulying points"
   ]
  },
  {
   "cell_type": "code",
   "execution_count": 73,
   "metadata": {
    "colab": {
     "base_uri": "https://localhost:8080/",
     "height": 462
    },
    "id": "1qeRVnZoUDMx",
    "outputId": "d4e8f4bc-522d-4815-ded4-45c20ab5765e"
   },
   "outputs": [
    {
     "data": {
      "text/html": [
       "<div>\n",
       "<style scoped>\n",
       "    .dataframe tbody tr th:only-of-type {\n",
       "        vertical-align: middle;\n",
       "    }\n",
       "\n",
       "    .dataframe tbody tr th {\n",
       "        vertical-align: top;\n",
       "    }\n",
       "\n",
       "    .dataframe thead th {\n",
       "        text-align: right;\n",
       "    }\n",
       "</style>\n",
       "<table border=\"1\" class=\"dataframe\">\n",
       "  <thead>\n",
       "    <tr style=\"text-align: right;\">\n",
       "      <th></th>\n",
       "      <th>Date</th>\n",
       "      <th>Time</th>\n",
       "      <th>COGT</th>\n",
       "      <th>PT08S1</th>\n",
       "      <th>NMHC</th>\n",
       "      <th>C6H6</th>\n",
       "      <th>PT08S2</th>\n",
       "      <th>NOxGT</th>\n",
       "      <th>PT08S3</th>\n",
       "      <th>NO2GT</th>\n",
       "      <th>PT08S4</th>\n",
       "      <th>PT08S5</th>\n",
       "      <th>T</th>\n",
       "      <th>RH</th>\n",
       "      <th>AH</th>\n",
       "    </tr>\n",
       "  </thead>\n",
       "  <tbody>\n",
       "    <tr>\n",
       "      <th>3550</th>\n",
       "      <td>2004-05-08</td>\n",
       "      <td>16.00.00</td>\n",
       "      <td>2.15</td>\n",
       "      <td>1,067.00</td>\n",
       "      <td>218.81</td>\n",
       "      <td>7.00</td>\n",
       "      <td>855.00</td>\n",
       "      <td>90.00</td>\n",
       "      <td>748.00</td>\n",
       "      <td>102.00</td>\n",
       "      <td>1,700.00</td>\n",
       "      <td>811.00</td>\n",
       "      <td>23.90</td>\n",
       "      <td>69.10</td>\n",
       "      <td>2.02</td>\n",
       "    </tr>\n",
       "    <tr>\n",
       "      <th>3567</th>\n",
       "      <td>2004-06-08</td>\n",
       "      <td>09.00.00</td>\n",
       "      <td>2.90</td>\n",
       "      <td>1,229.00</td>\n",
       "      <td>218.81</td>\n",
       "      <td>16.30</td>\n",
       "      <td>1,188.00</td>\n",
       "      <td>237.00</td>\n",
       "      <td>557.00</td>\n",
       "      <td>97.00</td>\n",
       "      <td>2,033.00</td>\n",
       "      <td>1,412.00</td>\n",
       "      <td>24.50</td>\n",
       "      <td>66.20</td>\n",
       "      <td>2.00</td>\n",
       "    </tr>\n",
       "    <tr>\n",
       "      <th>3618</th>\n",
       "      <td>2004-08-08</td>\n",
       "      <td>12.00.00</td>\n",
       "      <td>1.40</td>\n",
       "      <td>1,032.00</td>\n",
       "      <td>218.81</td>\n",
       "      <td>4.60</td>\n",
       "      <td>744.00</td>\n",
       "      <td>87.00</td>\n",
       "      <td>813.00</td>\n",
       "      <td>79.00</td>\n",
       "      <td>1,695.00</td>\n",
       "      <td>778.00</td>\n",
       "      <td>25.40</td>\n",
       "      <td>68.00</td>\n",
       "      <td>2.18</td>\n",
       "    </tr>\n",
       "    <tr>\n",
       "      <th>3687</th>\n",
       "      <td>2004-11-08</td>\n",
       "      <td>09.00.00</td>\n",
       "      <td>1.80</td>\n",
       "      <td>1,165.00</td>\n",
       "      <td>218.81</td>\n",
       "      <td>9.70</td>\n",
       "      <td>967.00</td>\n",
       "      <td>93.00</td>\n",
       "      <td>651.00</td>\n",
       "      <td>58.00</td>\n",
       "      <td>1,825.00</td>\n",
       "      <td>1,120.00</td>\n",
       "      <td>29.80</td>\n",
       "      <td>51.10</td>\n",
       "      <td>2.11</td>\n",
       "    </tr>\n",
       "    <tr>\n",
       "      <th>3688</th>\n",
       "      <td>2004-11-08</td>\n",
       "      <td>10.00.00</td>\n",
       "      <td>1.80</td>\n",
       "      <td>1,179.00</td>\n",
       "      <td>218.81</td>\n",
       "      <td>9.50</td>\n",
       "      <td>957.00</td>\n",
       "      <td>105.00</td>\n",
       "      <td>680.00</td>\n",
       "      <td>67.00</td>\n",
       "      <td>1,819.00</td>\n",
       "      <td>1,131.00</td>\n",
       "      <td>33.60</td>\n",
       "      <td>41.00</td>\n",
       "      <td>2.10</td>\n",
       "    </tr>\n",
       "    <tr>\n",
       "      <th>3689</th>\n",
       "      <td>2004-11-08</td>\n",
       "      <td>11.00.00</td>\n",
       "      <td>1.70</td>\n",
       "      <td>1,144.00</td>\n",
       "      <td>218.81</td>\n",
       "      <td>8.30</td>\n",
       "      <td>913.00</td>\n",
       "      <td>89.00</td>\n",
       "      <td>715.00</td>\n",
       "      <td>68.00</td>\n",
       "      <td>1,782.00</td>\n",
       "      <td>972.00</td>\n",
       "      <td>35.10</td>\n",
       "      <td>38.10</td>\n",
       "      <td>2.11</td>\n",
       "    </tr>\n",
       "    <tr>\n",
       "      <th>3690</th>\n",
       "      <td>2004-11-08</td>\n",
       "      <td>12.00.00</td>\n",
       "      <td>1.30</td>\n",
       "      <td>1,066.00</td>\n",
       "      <td>218.81</td>\n",
       "      <td>6.00</td>\n",
       "      <td>813.00</td>\n",
       "      <td>63.00</td>\n",
       "      <td>792.00</td>\n",
       "      <td>56.00</td>\n",
       "      <td>1,657.00</td>\n",
       "      <td>764.00</td>\n",
       "      <td>36.20</td>\n",
       "      <td>34.90</td>\n",
       "      <td>2.06</td>\n",
       "    </tr>\n",
       "    <tr>\n",
       "      <th>3691</th>\n",
       "      <td>2004-11-08</td>\n",
       "      <td>13.00.00</td>\n",
       "      <td>1.30</td>\n",
       "      <td>1,056.00</td>\n",
       "      <td>218.81</td>\n",
       "      <td>5.80</td>\n",
       "      <td>802.00</td>\n",
       "      <td>52.00</td>\n",
       "      <td>824.00</td>\n",
       "      <td>47.00</td>\n",
       "      <td>1,620.00</td>\n",
       "      <td>670.00</td>\n",
       "      <td>38.00</td>\n",
       "      <td>30.70</td>\n",
       "      <td>2.00</td>\n",
       "    </tr>\n",
       "    <tr>\n",
       "      <th>3711</th>\n",
       "      <td>2004-12-08</td>\n",
       "      <td>09.00.00</td>\n",
       "      <td>1.90</td>\n",
       "      <td>1,126.00</td>\n",
       "      <td>218.81</td>\n",
       "      <td>9.50</td>\n",
       "      <td>957.00</td>\n",
       "      <td>122.00</td>\n",
       "      <td>694.00</td>\n",
       "      <td>71.00</td>\n",
       "      <td>1,841.00</td>\n",
       "      <td>1,034.00</td>\n",
       "      <td>29.40</td>\n",
       "      <td>53.10</td>\n",
       "      <td>2.14</td>\n",
       "    </tr>\n",
       "    <tr>\n",
       "      <th>3712</th>\n",
       "      <td>2004-12-08</td>\n",
       "      <td>10.00.00</td>\n",
       "      <td>1.50</td>\n",
       "      <td>1,066.00</td>\n",
       "      <td>218.81</td>\n",
       "      <td>6.90</td>\n",
       "      <td>855.00</td>\n",
       "      <td>101.00</td>\n",
       "      <td>803.00</td>\n",
       "      <td>61.00</td>\n",
       "      <td>1,712.00</td>\n",
       "      <td>929.00</td>\n",
       "      <td>33.40</td>\n",
       "      <td>39.90</td>\n",
       "      <td>2.02</td>\n",
       "    </tr>\n",
       "    <tr>\n",
       "      <th>3903</th>\n",
       "      <td>2004-08-20</td>\n",
       "      <td>09.00.00</td>\n",
       "      <td>2.15</td>\n",
       "      <td>1,091.00</td>\n",
       "      <td>218.81</td>\n",
       "      <td>8.60</td>\n",
       "      <td>925.00</td>\n",
       "      <td>246.90</td>\n",
       "      <td>701.00</td>\n",
       "      <td>113.09</td>\n",
       "      <td>1,753.00</td>\n",
       "      <td>1,058.00</td>\n",
       "      <td>29.70</td>\n",
       "      <td>50.50</td>\n",
       "      <td>2.08</td>\n",
       "    </tr>\n",
       "    <tr>\n",
       "      <th>4459</th>\n",
       "      <td>2004-12-09</td>\n",
       "      <td>13.00.00</td>\n",
       "      <td>2.15</td>\n",
       "      <td>1,243.00</td>\n",
       "      <td>218.81</td>\n",
       "      <td>7.60</td>\n",
       "      <td>883.00</td>\n",
       "      <td>246.90</td>\n",
       "      <td>745.00</td>\n",
       "      <td>113.09</td>\n",
       "      <td>1,660.00</td>\n",
       "      <td>1,036.00</td>\n",
       "      <td>24.80</td>\n",
       "      <td>70.40</td>\n",
       "      <td>2.18</td>\n",
       "    </tr>\n",
       "    <tr>\n",
       "      <th>4462</th>\n",
       "      <td>2004-12-09</td>\n",
       "      <td>16.00.00</td>\n",
       "      <td>2.15</td>\n",
       "      <td>1,254.00</td>\n",
       "      <td>218.81</td>\n",
       "      <td>6.60</td>\n",
       "      <td>840.00</td>\n",
       "      <td>246.90</td>\n",
       "      <td>787.00</td>\n",
       "      <td>113.09</td>\n",
       "      <td>1,602.00</td>\n",
       "      <td>846.00</td>\n",
       "      <td>26.10</td>\n",
       "      <td>66.80</td>\n",
       "      <td>2.23</td>\n",
       "    </tr>\n",
       "    <tr>\n",
       "      <th>5586</th>\n",
       "      <td>2004-10-29</td>\n",
       "      <td>12.00.00</td>\n",
       "      <td>4.20</td>\n",
       "      <td>1,523.00</td>\n",
       "      <td>218.81</td>\n",
       "      <td>24.90</td>\n",
       "      <td>1,428.00</td>\n",
       "      <td>603.00</td>\n",
       "      <td>458.00</td>\n",
       "      <td>116.00</td>\n",
       "      <td>2,114.00</td>\n",
       "      <td>1,363.00</td>\n",
       "      <td>20.20</td>\n",
       "      <td>86.50</td>\n",
       "      <td>2.02</td>\n",
       "    </tr>\n",
       "  </tbody>\n",
       "</table>\n",
       "</div>"
      ],
      "text/plain": [
       "           Date      Time  COGT   PT08S1   NMHC  C6H6   PT08S2  NOxGT  PT08S3  \\\n",
       "3550 2004-05-08  16.00.00  2.15 1,067.00 218.81  7.00   855.00  90.00  748.00   \n",
       "3567 2004-06-08  09.00.00  2.90 1,229.00 218.81 16.30 1,188.00 237.00  557.00   \n",
       "3618 2004-08-08  12.00.00  1.40 1,032.00 218.81  4.60   744.00  87.00  813.00   \n",
       "3687 2004-11-08  09.00.00  1.80 1,165.00 218.81  9.70   967.00  93.00  651.00   \n",
       "3688 2004-11-08  10.00.00  1.80 1,179.00 218.81  9.50   957.00 105.00  680.00   \n",
       "3689 2004-11-08  11.00.00  1.70 1,144.00 218.81  8.30   913.00  89.00  715.00   \n",
       "3690 2004-11-08  12.00.00  1.30 1,066.00 218.81  6.00   813.00  63.00  792.00   \n",
       "3691 2004-11-08  13.00.00  1.30 1,056.00 218.81  5.80   802.00  52.00  824.00   \n",
       "3711 2004-12-08  09.00.00  1.90 1,126.00 218.81  9.50   957.00 122.00  694.00   \n",
       "3712 2004-12-08  10.00.00  1.50 1,066.00 218.81  6.90   855.00 101.00  803.00   \n",
       "3903 2004-08-20  09.00.00  2.15 1,091.00 218.81  8.60   925.00 246.90  701.00   \n",
       "4459 2004-12-09  13.00.00  2.15 1,243.00 218.81  7.60   883.00 246.90  745.00   \n",
       "4462 2004-12-09  16.00.00  2.15 1,254.00 218.81  6.60   840.00 246.90  787.00   \n",
       "5586 2004-10-29  12.00.00  4.20 1,523.00 218.81 24.90 1,428.00 603.00  458.00   \n",
       "\n",
       "      NO2GT   PT08S4   PT08S5     T    RH   AH  \n",
       "3550 102.00 1,700.00   811.00 23.90 69.10 2.02  \n",
       "3567  97.00 2,033.00 1,412.00 24.50 66.20 2.00  \n",
       "3618  79.00 1,695.00   778.00 25.40 68.00 2.18  \n",
       "3687  58.00 1,825.00 1,120.00 29.80 51.10 2.11  \n",
       "3688  67.00 1,819.00 1,131.00 33.60 41.00 2.10  \n",
       "3689  68.00 1,782.00   972.00 35.10 38.10 2.11  \n",
       "3690  56.00 1,657.00   764.00 36.20 34.90 2.06  \n",
       "3691  47.00 1,620.00   670.00 38.00 30.70 2.00  \n",
       "3711  71.00 1,841.00 1,034.00 29.40 53.10 2.14  \n",
       "3712  61.00 1,712.00   929.00 33.40 39.90 2.02  \n",
       "3903 113.09 1,753.00 1,058.00 29.70 50.50 2.08  \n",
       "4459 113.09 1,660.00 1,036.00 24.80 70.40 2.18  \n",
       "4462 113.09 1,602.00   846.00 26.10 66.80 2.23  \n",
       "5586 116.00 2,114.00 1,363.00 20.20 86.50 2.02  "
      ]
     },
     "execution_count": 73,
     "metadata": {},
     "output_type": "execute_result"
    }
   ],
   "source": [
    "dfSQ[dfSQ[\"AH\"] > (dfSQ[\"AH\"].mean() + 2.5* dfSQ[\"AH\"].std())]"
   ]
  },
  {
   "cell_type": "markdown",
   "metadata": {
    "id": "ubqSb50pR-QY"
   },
   "source": [
    "The outlier points of absolute humidity in our dataset as above and they are very less compare to number of data points we have. i.e Approximately 15 our of 3118 data points"
   ]
  },
  {
   "cell_type": "markdown",
   "metadata": {
    "id": "jfNMEPIdUEUJ"
   },
   "source": [
    "As the outliers points are very less, we can handle them by removing the these points from our data and start analyzing. If they were more and affecting our mean value and statistics then we could have decided to find any other way to handle it. But for now, we feel it is okay to remove them and proceed forward"
   ]
  },
  {
   "cell_type": "markdown",
   "metadata": {
    "id": "_YEnVwi-SWLa"
   },
   "source": [
    "# Removing Outliers"
   ]
  },
  {
   "cell_type": "code",
   "execution_count": 74,
   "metadata": {
    "colab": {
     "base_uri": "https://localhost:8080/",
     "height": 402
    },
    "id": "7HyvKZSFUGOm",
    "outputId": "848fe63b-c780-4cc6-c0f6-6af24fa3ea67"
   },
   "outputs": [
    {
     "data": {
      "text/html": [
       "<div>\n",
       "<style scoped>\n",
       "    .dataframe tbody tr th:only-of-type {\n",
       "        vertical-align: middle;\n",
       "    }\n",
       "\n",
       "    .dataframe tbody tr th {\n",
       "        vertical-align: top;\n",
       "    }\n",
       "\n",
       "    .dataframe thead th {\n",
       "        text-align: right;\n",
       "    }\n",
       "</style>\n",
       "<table border=\"1\" class=\"dataframe\">\n",
       "  <thead>\n",
       "    <tr style=\"text-align: right;\">\n",
       "      <th></th>\n",
       "      <th>Date</th>\n",
       "      <th>Time</th>\n",
       "      <th>COGT</th>\n",
       "      <th>PT08S1</th>\n",
       "      <th>NMHC</th>\n",
       "      <th>C6H6</th>\n",
       "      <th>PT08S2</th>\n",
       "      <th>NOxGT</th>\n",
       "      <th>PT08S3</th>\n",
       "      <th>NO2GT</th>\n",
       "      <th>PT08S4</th>\n",
       "      <th>PT08S5</th>\n",
       "      <th>T</th>\n",
       "      <th>RH</th>\n",
       "      <th>AH</th>\n",
       "    </tr>\n",
       "  </thead>\n",
       "  <tbody>\n",
       "    <tr>\n",
       "      <th>15</th>\n",
       "      <td>2004-11-03</td>\n",
       "      <td>09.00.00</td>\n",
       "      <td>2.20</td>\n",
       "      <td>1,351.00</td>\n",
       "      <td>87.00</td>\n",
       "      <td>9.50</td>\n",
       "      <td>960.00</td>\n",
       "      <td>129.00</td>\n",
       "      <td>1,079.00</td>\n",
       "      <td>101.00</td>\n",
       "      <td>1,583.00</td>\n",
       "      <td>1,028.00</td>\n",
       "      <td>10.50</td>\n",
       "      <td>60.60</td>\n",
       "      <td>0.77</td>\n",
       "    </tr>\n",
       "    <tr>\n",
       "      <th>16</th>\n",
       "      <td>2004-11-03</td>\n",
       "      <td>10.00.00</td>\n",
       "      <td>1.70</td>\n",
       "      <td>1,233.00</td>\n",
       "      <td>77.00</td>\n",
       "      <td>6.30</td>\n",
       "      <td>827.00</td>\n",
       "      <td>112.00</td>\n",
       "      <td>1,218.00</td>\n",
       "      <td>98.00</td>\n",
       "      <td>1,446.00</td>\n",
       "      <td>860.00</td>\n",
       "      <td>10.80</td>\n",
       "      <td>58.40</td>\n",
       "      <td>0.76</td>\n",
       "    </tr>\n",
       "    <tr>\n",
       "      <th>17</th>\n",
       "      <td>2004-11-03</td>\n",
       "      <td>11.00.00</td>\n",
       "      <td>1.50</td>\n",
       "      <td>1,179.00</td>\n",
       "      <td>43.00</td>\n",
       "      <td>5.00</td>\n",
       "      <td>762.00</td>\n",
       "      <td>95.00</td>\n",
       "      <td>1,328.00</td>\n",
       "      <td>92.00</td>\n",
       "      <td>1,362.00</td>\n",
       "      <td>671.00</td>\n",
       "      <td>10.50</td>\n",
       "      <td>57.90</td>\n",
       "      <td>0.74</td>\n",
       "    </tr>\n",
       "    <tr>\n",
       "      <th>18</th>\n",
       "      <td>2004-11-03</td>\n",
       "      <td>12.00.00</td>\n",
       "      <td>1.60</td>\n",
       "      <td>1,236.00</td>\n",
       "      <td>61.00</td>\n",
       "      <td>5.20</td>\n",
       "      <td>774.00</td>\n",
       "      <td>104.00</td>\n",
       "      <td>1,301.00</td>\n",
       "      <td>95.00</td>\n",
       "      <td>1,401.00</td>\n",
       "      <td>664.00</td>\n",
       "      <td>9.50</td>\n",
       "      <td>66.80</td>\n",
       "      <td>0.80</td>\n",
       "    </tr>\n",
       "    <tr>\n",
       "      <th>19</th>\n",
       "      <td>2004-11-03</td>\n",
       "      <td>13.00.00</td>\n",
       "      <td>1.90</td>\n",
       "      <td>1,286.00</td>\n",
       "      <td>63.00</td>\n",
       "      <td>7.30</td>\n",
       "      <td>869.00</td>\n",
       "      <td>146.00</td>\n",
       "      <td>1,162.00</td>\n",
       "      <td>112.00</td>\n",
       "      <td>1,537.00</td>\n",
       "      <td>799.00</td>\n",
       "      <td>8.30</td>\n",
       "      <td>76.40</td>\n",
       "      <td>0.84</td>\n",
       "    </tr>\n",
       "    <tr>\n",
       "      <th>...</th>\n",
       "      <td>...</td>\n",
       "      <td>...</td>\n",
       "      <td>...</td>\n",
       "      <td>...</td>\n",
       "      <td>...</td>\n",
       "      <td>...</td>\n",
       "      <td>...</td>\n",
       "      <td>...</td>\n",
       "      <td>...</td>\n",
       "      <td>...</td>\n",
       "      <td>...</td>\n",
       "      <td>...</td>\n",
       "      <td>...</td>\n",
       "      <td>...</td>\n",
       "      <td>...</td>\n",
       "    </tr>\n",
       "    <tr>\n",
       "      <th>9352</th>\n",
       "      <td>2005-04-04</td>\n",
       "      <td>10.00.00</td>\n",
       "      <td>3.10</td>\n",
       "      <td>1,314.00</td>\n",
       "      <td>218.81</td>\n",
       "      <td>13.50</td>\n",
       "      <td>1,101.00</td>\n",
       "      <td>472.00</td>\n",
       "      <td>539.00</td>\n",
       "      <td>190.00</td>\n",
       "      <td>1,374.00</td>\n",
       "      <td>1,729.00</td>\n",
       "      <td>21.90</td>\n",
       "      <td>29.30</td>\n",
       "      <td>0.76</td>\n",
       "    </tr>\n",
       "    <tr>\n",
       "      <th>9353</th>\n",
       "      <td>2005-04-04</td>\n",
       "      <td>11.00.00</td>\n",
       "      <td>2.40</td>\n",
       "      <td>1,163.00</td>\n",
       "      <td>218.81</td>\n",
       "      <td>11.40</td>\n",
       "      <td>1,027.00</td>\n",
       "      <td>353.00</td>\n",
       "      <td>604.00</td>\n",
       "      <td>179.00</td>\n",
       "      <td>1,264.00</td>\n",
       "      <td>1,269.00</td>\n",
       "      <td>24.30</td>\n",
       "      <td>23.70</td>\n",
       "      <td>0.71</td>\n",
       "    </tr>\n",
       "    <tr>\n",
       "      <th>9354</th>\n",
       "      <td>2005-04-04</td>\n",
       "      <td>12.00.00</td>\n",
       "      <td>2.40</td>\n",
       "      <td>1,142.00</td>\n",
       "      <td>218.81</td>\n",
       "      <td>12.40</td>\n",
       "      <td>1,063.00</td>\n",
       "      <td>293.00</td>\n",
       "      <td>603.00</td>\n",
       "      <td>175.00</td>\n",
       "      <td>1,241.00</td>\n",
       "      <td>1,092.00</td>\n",
       "      <td>26.90</td>\n",
       "      <td>18.30</td>\n",
       "      <td>0.64</td>\n",
       "    </tr>\n",
       "    <tr>\n",
       "      <th>9355</th>\n",
       "      <td>2005-04-04</td>\n",
       "      <td>13.00.00</td>\n",
       "      <td>2.10</td>\n",
       "      <td>1,003.00</td>\n",
       "      <td>218.81</td>\n",
       "      <td>9.50</td>\n",
       "      <td>961.00</td>\n",
       "      <td>235.00</td>\n",
       "      <td>702.00</td>\n",
       "      <td>156.00</td>\n",
       "      <td>1,041.00</td>\n",
       "      <td>770.00</td>\n",
       "      <td>28.30</td>\n",
       "      <td>13.50</td>\n",
       "      <td>0.51</td>\n",
       "    </tr>\n",
       "    <tr>\n",
       "      <th>9356</th>\n",
       "      <td>2005-04-04</td>\n",
       "      <td>14.00.00</td>\n",
       "      <td>2.20</td>\n",
       "      <td>1,071.00</td>\n",
       "      <td>218.81</td>\n",
       "      <td>11.90</td>\n",
       "      <td>1,047.00</td>\n",
       "      <td>265.00</td>\n",
       "      <td>654.00</td>\n",
       "      <td>168.00</td>\n",
       "      <td>1,129.00</td>\n",
       "      <td>816.00</td>\n",
       "      <td>28.50</td>\n",
       "      <td>13.10</td>\n",
       "      <td>0.50</td>\n",
       "    </tr>\n",
       "  </tbody>\n",
       "</table>\n",
       "<p>3104 rows × 15 columns</p>\n",
       "</div>"
      ],
      "text/plain": [
       "           Date      Time  COGT   PT08S1   NMHC  C6H6   PT08S2  NOxGT  \\\n",
       "15   2004-11-03  09.00.00  2.20 1,351.00  87.00  9.50   960.00 129.00   \n",
       "16   2004-11-03  10.00.00  1.70 1,233.00  77.00  6.30   827.00 112.00   \n",
       "17   2004-11-03  11.00.00  1.50 1,179.00  43.00  5.00   762.00  95.00   \n",
       "18   2004-11-03  12.00.00  1.60 1,236.00  61.00  5.20   774.00 104.00   \n",
       "19   2004-11-03  13.00.00  1.90 1,286.00  63.00  7.30   869.00 146.00   \n",
       "...         ...       ...   ...      ...    ...   ...      ...    ...   \n",
       "9352 2005-04-04  10.00.00  3.10 1,314.00 218.81 13.50 1,101.00 472.00   \n",
       "9353 2005-04-04  11.00.00  2.40 1,163.00 218.81 11.40 1,027.00 353.00   \n",
       "9354 2005-04-04  12.00.00  2.40 1,142.00 218.81 12.40 1,063.00 293.00   \n",
       "9355 2005-04-04  13.00.00  2.10 1,003.00 218.81  9.50   961.00 235.00   \n",
       "9356 2005-04-04  14.00.00  2.20 1,071.00 218.81 11.90 1,047.00 265.00   \n",
       "\n",
       "       PT08S3  NO2GT   PT08S4   PT08S5     T    RH   AH  \n",
       "15   1,079.00 101.00 1,583.00 1,028.00 10.50 60.60 0.77  \n",
       "16   1,218.00  98.00 1,446.00   860.00 10.80 58.40 0.76  \n",
       "17   1,328.00  92.00 1,362.00   671.00 10.50 57.90 0.74  \n",
       "18   1,301.00  95.00 1,401.00   664.00  9.50 66.80 0.80  \n",
       "19   1,162.00 112.00 1,537.00   799.00  8.30 76.40 0.84  \n",
       "...       ...    ...      ...      ...   ...   ...  ...  \n",
       "9352   539.00 190.00 1,374.00 1,729.00 21.90 29.30 0.76  \n",
       "9353   604.00 179.00 1,264.00 1,269.00 24.30 23.70 0.71  \n",
       "9354   603.00 175.00 1,241.00 1,092.00 26.90 18.30 0.64  \n",
       "9355   702.00 156.00 1,041.00   770.00 28.30 13.50 0.51  \n",
       "9356   654.00 168.00 1,129.00   816.00 28.50 13.10 0.50  \n",
       "\n",
       "[3104 rows x 15 columns]"
      ]
     },
     "execution_count": 74,
     "metadata": {},
     "output_type": "execute_result"
    }
   ],
   "source": [
    "dfSQ = dfSQ[dfSQ[\"AH\"] < (dfSQ[\"AH\"].mean() + 2.5* dfSQ[\"AH\"].std())]\n",
    "dfSQ"
   ]
  },
  {
   "cell_type": "markdown",
   "metadata": {
    "id": "9L50_WtISLog"
   },
   "source": [
    "\n",
    "Now our data of absolute Humidity is free from outliers"
   ]
  },
  {
   "cell_type": "code",
   "execution_count": 75,
   "metadata": {},
   "outputs": [
    {
     "data": {
      "text/plain": [
       "<AxesSubplot:xlabel='AH'>"
      ]
     },
     "execution_count": 75,
     "metadata": {},
     "output_type": "execute_result"
    },
    {
     "data": {
      "image/png": "[encoded data removed]",
      "text/plain": [
       "<Figure size 432x288 with 1 Axes>"
      ]
     },
     "metadata": {
      "needs_background": "light"
     },
     "output_type": "display_data"
    }
   ],
   "source": [
    "sns.boxplot(x = dfSQ[\"AH\"])"
   ]
  },
  {
   "cell_type": "markdown",
   "metadata": {},
   "source": [
    "now our data looks clean and good to go ahead."
   ]
  },
  {
   "cell_type": "markdown",
   "metadata": {
    "id": "Wq09g0YTSmSV"
   },
   "source": [
    "# correlation matrix"
   ]
  },
  {
   "cell_type": "code",
   "execution_count": 76,
   "metadata": {},
   "outputs": [
    {
     "name": "stdout",
     "output_type": "stream",
     "text": [
      "<class 'pandas.core.frame.DataFrame'>\n",
      "Int64Index: 3104 entries, 15 to 9356\n",
      "Data columns (total 15 columns):\n",
      " #   Column  Non-Null Count  Dtype         \n",
      "---  ------  --------------  -----         \n",
      " 0   Date    3104 non-null   datetime64[ns]\n",
      " 1   Time    3104 non-null   object        \n",
      " 2   COGT    3104 non-null   float64       \n",
      " 3   PT08S1  3104 non-null   float64       \n",
      " 4   NMHC    3104 non-null   float64       \n",
      " 5   C6H6    3104 non-null   float64       \n",
      " 6   PT08S2  3104 non-null   float64       \n",
      " 7   NOxGT   3104 non-null   float64       \n",
      " 8   PT08S3  3104 non-null   float64       \n",
      " 9   NO2GT   3104 non-null   float64       \n",
      " 10  PT08S4  3104 non-null   float64       \n",
      " 11  PT08S5  3104 non-null   float64       \n",
      " 12  T       3104 non-null   float64       \n",
      " 13  RH      3104 non-null   float64       \n",
      " 14  AH      3104 non-null   float64       \n",
      "dtypes: datetime64[ns](1), float64(13), object(1)\n",
      "memory usage: 388.0+ KB\n"
     ]
    }
   ],
   "source": [
    "dfSQ.info()"
   ]
  },
  {
   "cell_type": "code",
   "execution_count": 77,
   "metadata": {},
   "outputs": [
    {
     "data": {
      "text/html": [
       "<div>\n",
       "<style scoped>\n",
       "    .dataframe tbody tr th:only-of-type {\n",
       "        vertical-align: middle;\n",
       "    }\n",
       "\n",
       "    .dataframe tbody tr th {\n",
       "        vertical-align: top;\n",
       "    }\n",
       "\n",
       "    .dataframe thead th {\n",
       "        text-align: right;\n",
       "    }\n",
       "</style>\n",
       "<table border=\"1\" class=\"dataframe\">\n",
       "  <thead>\n",
       "    <tr style=\"text-align: right;\">\n",
       "      <th></th>\n",
       "      <th>COGT</th>\n",
       "      <th>PT08S1</th>\n",
       "      <th>NMHC</th>\n",
       "      <th>C6H6</th>\n",
       "      <th>PT08S2</th>\n",
       "      <th>NOxGT</th>\n",
       "      <th>PT08S3</th>\n",
       "      <th>NO2GT</th>\n",
       "      <th>PT08S4</th>\n",
       "      <th>PT08S5</th>\n",
       "      <th>T</th>\n",
       "      <th>RH</th>\n",
       "      <th>AH</th>\n",
       "    </tr>\n",
       "  </thead>\n",
       "  <tbody>\n",
       "    <tr>\n",
       "      <th>count</th>\n",
       "      <td>3,104.00</td>\n",
       "      <td>3,104.00</td>\n",
       "      <td>3,104.00</td>\n",
       "      <td>3,104.00</td>\n",
       "      <td>3,104.00</td>\n",
       "      <td>3,104.00</td>\n",
       "      <td>3,104.00</td>\n",
       "      <td>3,104.00</td>\n",
       "      <td>3,104.00</td>\n",
       "      <td>3,104.00</td>\n",
       "      <td>3,104.00</td>\n",
       "      <td>3,104.00</td>\n",
       "      <td>3,104.00</td>\n",
       "    </tr>\n",
       "    <tr>\n",
       "      <th>mean</th>\n",
       "      <td>2.30</td>\n",
       "      <td>1,136.99</td>\n",
       "      <td>222.70</td>\n",
       "      <td>11.40</td>\n",
       "      <td>1,001.33</td>\n",
       "      <td>279.79</td>\n",
       "      <td>783.07</td>\n",
       "      <td>123.03</td>\n",
       "      <td>1,485.68</td>\n",
       "      <td>1,060.63</td>\n",
       "      <td>21.30</td>\n",
       "      <td>40.83</td>\n",
       "      <td>1.00</td>\n",
       "    </tr>\n",
       "    <tr>\n",
       "      <th>std</th>\n",
       "      <td>1.13</td>\n",
       "      <td>195.70</td>\n",
       "      <td>54.08</td>\n",
       "      <td>6.29</td>\n",
       "      <td>219.88</td>\n",
       "      <td>205.54</td>\n",
       "      <td>208.41</td>\n",
       "      <td>42.19</td>\n",
       "      <td>312.66</td>\n",
       "      <td>401.64</td>\n",
       "      <td>9.38</td>\n",
       "      <td>16.66</td>\n",
       "      <td>0.39</td>\n",
       "    </tr>\n",
       "    <tr>\n",
       "      <th>min</th>\n",
       "      <td>0.10</td>\n",
       "      <td>667.00</td>\n",
       "      <td>35.00</td>\n",
       "      <td>0.40</td>\n",
       "      <td>429.00</td>\n",
       "      <td>8.00</td>\n",
       "      <td>345.00</td>\n",
       "      <td>5.00</td>\n",
       "      <td>647.00</td>\n",
       "      <td>291.00</td>\n",
       "      <td>-0.50</td>\n",
       "      <td>9.20</td>\n",
       "      <td>0.19</td>\n",
       "    </tr>\n",
       "    <tr>\n",
       "      <th>25%</th>\n",
       "      <td>1.60</td>\n",
       "      <td>990.00</td>\n",
       "      <td>218.81</td>\n",
       "      <td>6.70</td>\n",
       "      <td>842.00</td>\n",
       "      <td>137.00</td>\n",
       "      <td>628.00</td>\n",
       "      <td>99.00</td>\n",
       "      <td>1,297.00</td>\n",
       "      <td>756.00</td>\n",
       "      <td>13.90</td>\n",
       "      <td>27.48</td>\n",
       "      <td>0.72</td>\n",
       "    </tr>\n",
       "    <tr>\n",
       "      <th>50%</th>\n",
       "      <td>2.15</td>\n",
       "      <td>1,105.00</td>\n",
       "      <td>218.81</td>\n",
       "      <td>10.30</td>\n",
       "      <td>987.50</td>\n",
       "      <td>246.90</td>\n",
       "      <td>778.00</td>\n",
       "      <td>113.09</td>\n",
       "      <td>1,505.00</td>\n",
       "      <td>1,022.91</td>\n",
       "      <td>20.30</td>\n",
       "      <td>38.90</td>\n",
       "      <td>1.00</td>\n",
       "    </tr>\n",
       "    <tr>\n",
       "      <th>75%</th>\n",
       "      <td>2.80</td>\n",
       "      <td>1,269.25</td>\n",
       "      <td>218.81</td>\n",
       "      <td>15.03</td>\n",
       "      <td>1,150.00</td>\n",
       "      <td>341.25</td>\n",
       "      <td>899.00</td>\n",
       "      <td>144.00</td>\n",
       "      <td>1,701.25</td>\n",
       "      <td>1,338.25</td>\n",
       "      <td>28.20</td>\n",
       "      <td>51.80</td>\n",
       "      <td>1.25</td>\n",
       "    </tr>\n",
       "    <tr>\n",
       "      <th>max</th>\n",
       "      <td>8.10</td>\n",
       "      <td>1,961.00</td>\n",
       "      <td>798.00</td>\n",
       "      <td>63.70</td>\n",
       "      <td>2,214.00</td>\n",
       "      <td>1,247.00</td>\n",
       "      <td>2,542.00</td>\n",
       "      <td>340.00</td>\n",
       "      <td>2,665.00</td>\n",
       "      <td>2,346.00</td>\n",
       "      <td>44.60</td>\n",
       "      <td>88.70</td>\n",
       "      <td>1.99</td>\n",
       "    </tr>\n",
       "  </tbody>\n",
       "</table>\n",
       "</div>"
      ],
      "text/plain": [
       "          COGT   PT08S1     NMHC     C6H6   PT08S2    NOxGT   PT08S3    NO2GT  \\\n",
       "count 3,104.00 3,104.00 3,104.00 3,104.00 3,104.00 3,104.00 3,104.00 3,104.00   \n",
       "mean      2.30 1,136.99   222.70    11.40 1,001.33   279.79   783.07   123.03   \n",
       "std       1.13   195.70    54.08     6.29   219.88   205.54   208.41    42.19   \n",
       "min       0.10   667.00    35.00     0.40   429.00     8.00   345.00     5.00   \n",
       "25%       1.60   990.00   218.81     6.70   842.00   137.00   628.00    99.00   \n",
       "50%       2.15 1,105.00   218.81    10.30   987.50   246.90   778.00   113.09   \n",
       "75%       2.80 1,269.25   218.81    15.03 1,150.00   341.25   899.00   144.00   \n",
       "max       8.10 1,961.00   798.00    63.70 2,214.00 1,247.00 2,542.00   340.00   \n",
       "\n",
       "        PT08S4   PT08S5        T       RH       AH  \n",
       "count 3,104.00 3,104.00 3,104.00 3,104.00 3,104.00  \n",
       "mean  1,485.68 1,060.63    21.30    40.83     1.00  \n",
       "std     312.66   401.64     9.38    16.66     0.39  \n",
       "min     647.00   291.00    -0.50     9.20     0.19  \n",
       "25%   1,297.00   756.00    13.90    27.48     0.72  \n",
       "50%   1,505.00 1,022.91    20.30    38.90     1.00  \n",
       "75%   1,701.25 1,338.25    28.20    51.80     1.25  \n",
       "max   2,665.00 2,346.00    44.60    88.70     1.99  "
      ]
     },
     "execution_count": 77,
     "metadata": {},
     "output_type": "execute_result"
    }
   ],
   "source": [
    "dfSQ.describe()"
   ]
  },
  {
   "cell_type": "markdown",
   "metadata": {},
   "source": [
    "we confirmed that our data has all numeric values and we can model them using mathematical models on them"
   ]
  },
  {
   "cell_type": "markdown",
   "metadata": {},
   "source": [
    "We considering data from second Quater of the day. This is because during the whole day, at this part of time our remains right infront of our heads and temparature almost feels constant and hence we can do some good analysis"
   ]
  },
  {
   "cell_type": "markdown",
   "metadata": {},
   "source": [
    "Plotting heatmap of correlation matrix to understand the independent parameters on which our finding parameters are depending"
   ]
  },
  {
   "cell_type": "code",
   "execution_count": 78,
   "metadata": {
    "colab": {
     "base_uri": "https://localhost:8080/",
     "height": 721
    },
    "id": "r55RDwViUMBs",
    "outputId": "1b8281c1-d6f2-40c8-cdd8-a08f82b140d5"
   },
   "outputs": [
    {
     "data": {
      "text/plain": [
       "<AxesSubplot:>"
      ]
     },
     "execution_count": 78,
     "metadata": {},
     "output_type": "execute_result"
    },
    {
     "data": {
      "image/png": "[encoded data removed]",
      "text/plain": [
       "<Figure size 1152x864 with 2 Axes>"
      ]
     },
     "metadata": {
      "needs_background": "light"
     },
     "output_type": "display_data"
    }
   ],
   "source": [
    "plt.figure(figsize=(16,12))\n",
    "sns.heatmap(df.corr(),annot=True,fmt=\".2f\",cmap='coolwarm')"
   ]
  },
  {
   "cell_type": "markdown",
   "metadata": {},
   "source": [
    "We can clearly see there is good correlation of absolute Humidyty with vary in Temparature, tungsten oxide with NO2, and NO2 content of the air"
   ]
  },
  {
   "cell_type": "code",
   "execution_count": 79,
   "metadata": {
    "colab": {
     "base_uri": "https://localhost:8080/"
    },
    "id": "5_f3PxI9URIW",
    "outputId": "058456d7-836d-477c-d88d-d9056f0b1b09"
   },
   "outputs": [
    {
     "name": "stdout",
     "output_type": "stream",
     "text": [
      "Requirement already satisfied: dcor in c:\\users\\patol\\anaconda3\\lib\\site-packages (0.5.3)\n",
      "Requirement already satisfied: scipy in c:\\users\\patol\\anaconda3\\lib\\site-packages (from dcor) (1.5.2)\n",
      "Requirement already satisfied: numpy in c:\\users\\patol\\anaconda3\\lib\\site-packages (from dcor) (1.19.2)\n",
      "Requirement already satisfied: numba>=0.51 in c:\\users\\patol\\anaconda3\\lib\\site-packages (from dcor) (0.51.2)\n",
      "Requirement already satisfied: llvmlite<0.35,>=0.34.0.dev0 in c:\\users\\patol\\anaconda3\\lib\\site-packages (from numba>=0.51->dcor) (0.34.0)\n",
      "Requirement already satisfied: setuptools in c:\\users\\patol\\anaconda3\\lib\\site-packages (from numba>=0.51->dcor) (50.3.1.post20201107)\n",
      "Note: you may need to restart the kernel to use updated packages.\n"
     ]
    }
   ],
   "source": [
    "pip install dcor"
   ]
  },
  {
   "cell_type": "code",
   "execution_count": 80,
   "metadata": {
    "id": "_tBuSwq5UNLr"
   },
   "outputs": [],
   "source": [
    "import dcor\n",
    "def dist_corr(X, Y, pval=True, nruns=2000):\n",
    "    \"\"\" Distance correlation with p-value from bootstrapping\n",
    "    \"\"\"\n",
    "    dc = dcor.distance_correlation(X, Y)\n",
    "    pv = dcor.independence.distance_covariance_test(X, Y, exponent=1.0, num_resamples=nruns)[0]\n",
    "    if pval:\n",
    "        return (dc, pv)\n",
    "    else:\n",
    "        return dc\n",
    "def corrfunc(x, y, **kws):\n",
    "    d, p = dist_corr(x,y) \n",
    "    #print(\"{:.4f}\".format(d), \"{:.4f}\".format(p))\n",
    "    if p > 0.1:\n",
    "        pclr = 'Darkgray'\n",
    "    else:\n",
    "        pclr= 'Darkblue'\n",
    "    ax = pyplot.gca()\n",
    "    ax.annotate(\"DC = {:.2f}\".format(d), xy=(.1, 0.99), xycoords=ax.transAxes, color = pclr, fontsize = 14)\n"
   ]
  },
  {
   "cell_type": "code",
   "execution_count": 81,
   "metadata": {
    "colab": {
     "base_uri": "https://localhost:8080/",
     "height": 432
    },
    "id": "GGmOPJoLUOix",
    "outputId": "06510894-ecaf-49ad-f3c3-52a47c35254c"
   },
   "outputs": [
    {
     "data": {
      "text/html": [
       "<div>\n",
       "<style scoped>\n",
       "    .dataframe tbody tr th:only-of-type {\n",
       "        vertical-align: middle;\n",
       "    }\n",
       "\n",
       "    .dataframe tbody tr th {\n",
       "        vertical-align: top;\n",
       "    }\n",
       "\n",
       "    .dataframe thead th {\n",
       "        text-align: right;\n",
       "    }\n",
       "</style>\n",
       "<table border=\"1\" class=\"dataframe\">\n",
       "  <thead>\n",
       "    <tr style=\"text-align: right;\">\n",
       "      <th></th>\n",
       "      <th>COGT</th>\n",
       "      <th>PT08S1</th>\n",
       "      <th>NMHC</th>\n",
       "      <th>C6H6</th>\n",
       "      <th>PT08S2</th>\n",
       "      <th>NOxGT</th>\n",
       "      <th>PT08S3</th>\n",
       "      <th>NO2GT</th>\n",
       "      <th>PT08S4</th>\n",
       "      <th>PT08S5</th>\n",
       "      <th>T</th>\n",
       "      <th>RH</th>\n",
       "      <th>AH</th>\n",
       "    </tr>\n",
       "  </thead>\n",
       "  <tbody>\n",
       "    <tr>\n",
       "      <th>COGT</th>\n",
       "      <td>1.00</td>\n",
       "      <td>0.74</td>\n",
       "      <td>0.25</td>\n",
       "      <td>0.78</td>\n",
       "      <td>0.78</td>\n",
       "      <td>0.75</td>\n",
       "      <td>0.64</td>\n",
       "      <td>0.61</td>\n",
       "      <td>0.48</td>\n",
       "      <td>0.77</td>\n",
       "      <td>0.24</td>\n",
       "      <td>0.37</td>\n",
       "      <td>0.14</td>\n",
       "    </tr>\n",
       "    <tr>\n",
       "      <th>PT08S1</th>\n",
       "      <td>0.74</td>\n",
       "      <td>1.00</td>\n",
       "      <td>0.24</td>\n",
       "      <td>0.84</td>\n",
       "      <td>0.83</td>\n",
       "      <td>0.56</td>\n",
       "      <td>0.77</td>\n",
       "      <td>0.46</td>\n",
       "      <td>0.60</td>\n",
       "      <td>0.88</td>\n",
       "      <td>0.21</td>\n",
       "      <td>0.43</td>\n",
       "      <td>0.23</td>\n",
       "    </tr>\n",
       "    <tr>\n",
       "      <th>NMHC</th>\n",
       "      <td>0.25</td>\n",
       "      <td>0.24</td>\n",
       "      <td>1.00</td>\n",
       "      <td>0.23</td>\n",
       "      <td>0.22</td>\n",
       "      <td>0.17</td>\n",
       "      <td>0.24</td>\n",
       "      <td>0.16</td>\n",
       "      <td>0.23</td>\n",
       "      <td>0.20</td>\n",
       "      <td>0.12</td>\n",
       "      <td>0.04</td>\n",
       "      <td>0.16</td>\n",
       "    </tr>\n",
       "    <tr>\n",
       "      <th>C6H6</th>\n",
       "      <td>0.78</td>\n",
       "      <td>0.84</td>\n",
       "      <td>0.23</td>\n",
       "      <td>1.00</td>\n",
       "      <td>1.00</td>\n",
       "      <td>0.56</td>\n",
       "      <td>0.75</td>\n",
       "      <td>0.48</td>\n",
       "      <td>0.69</td>\n",
       "      <td>0.87</td>\n",
       "      <td>0.15</td>\n",
       "      <td>0.27</td>\n",
       "      <td>0.24</td>\n",
       "    </tr>\n",
       "    <tr>\n",
       "      <th>PT08S2</th>\n",
       "      <td>0.78</td>\n",
       "      <td>0.83</td>\n",
       "      <td>0.22</td>\n",
       "      <td>1.00</td>\n",
       "      <td>1.00</td>\n",
       "      <td>0.54</td>\n",
       "      <td>0.76</td>\n",
       "      <td>0.48</td>\n",
       "      <td>0.70</td>\n",
       "      <td>0.87</td>\n",
       "      <td>0.15</td>\n",
       "      <td>0.25</td>\n",
       "      <td>0.25</td>\n",
       "    </tr>\n",
       "    <tr>\n",
       "      <th>NOxGT</th>\n",
       "      <td>0.75</td>\n",
       "      <td>0.56</td>\n",
       "      <td>0.17</td>\n",
       "      <td>0.56</td>\n",
       "      <td>0.54</td>\n",
       "      <td>1.00</td>\n",
       "      <td>0.63</td>\n",
       "      <td>0.73</td>\n",
       "      <td>0.15</td>\n",
       "      <td>0.68</td>\n",
       "      <td>0.42</td>\n",
       "      <td>0.46</td>\n",
       "      <td>0.12</td>\n",
       "    </tr>\n",
       "    <tr>\n",
       "      <th>PT08S3</th>\n",
       "      <td>0.64</td>\n",
       "      <td>0.77</td>\n",
       "      <td>0.24</td>\n",
       "      <td>0.75</td>\n",
       "      <td>0.76</td>\n",
       "      <td>0.63</td>\n",
       "      <td>1.00</td>\n",
       "      <td>0.54</td>\n",
       "      <td>0.43</td>\n",
       "      <td>0.81</td>\n",
       "      <td>0.16</td>\n",
       "      <td>0.40</td>\n",
       "      <td>0.26</td>\n",
       "    </tr>\n",
       "    <tr>\n",
       "      <th>NO2GT</th>\n",
       "      <td>0.61</td>\n",
       "      <td>0.46</td>\n",
       "      <td>0.16</td>\n",
       "      <td>0.48</td>\n",
       "      <td>0.48</td>\n",
       "      <td>0.73</td>\n",
       "      <td>0.54</td>\n",
       "      <td>1.00</td>\n",
       "      <td>0.16</td>\n",
       "      <td>0.58</td>\n",
       "      <td>0.35</td>\n",
       "      <td>0.20</td>\n",
       "      <td>0.27</td>\n",
       "    </tr>\n",
       "    <tr>\n",
       "      <th>PT08S4</th>\n",
       "      <td>0.48</td>\n",
       "      <td>0.60</td>\n",
       "      <td>0.23</td>\n",
       "      <td>0.69</td>\n",
       "      <td>0.70</td>\n",
       "      <td>0.15</td>\n",
       "      <td>0.43</td>\n",
       "      <td>0.16</td>\n",
       "      <td>1.00</td>\n",
       "      <td>0.51</td>\n",
       "      <td>0.48</td>\n",
       "      <td>0.14</td>\n",
       "      <td>0.67</td>\n",
       "    </tr>\n",
       "    <tr>\n",
       "      <th>PT08S5</th>\n",
       "      <td>0.77</td>\n",
       "      <td>0.88</td>\n",
       "      <td>0.20</td>\n",
       "      <td>0.87</td>\n",
       "      <td>0.87</td>\n",
       "      <td>0.68</td>\n",
       "      <td>0.81</td>\n",
       "      <td>0.58</td>\n",
       "      <td>0.51</td>\n",
       "      <td>1.00</td>\n",
       "      <td>0.23</td>\n",
       "      <td>0.42</td>\n",
       "      <td>0.15</td>\n",
       "    </tr>\n",
       "    <tr>\n",
       "      <th>T</th>\n",
       "      <td>0.24</td>\n",
       "      <td>0.21</td>\n",
       "      <td>0.12</td>\n",
       "      <td>0.15</td>\n",
       "      <td>0.15</td>\n",
       "      <td>0.42</td>\n",
       "      <td>0.16</td>\n",
       "      <td>0.35</td>\n",
       "      <td>0.48</td>\n",
       "      <td>0.23</td>\n",
       "      <td>1.00</td>\n",
       "      <td>0.61</td>\n",
       "      <td>0.61</td>\n",
       "    </tr>\n",
       "    <tr>\n",
       "      <th>RH</th>\n",
       "      <td>0.37</td>\n",
       "      <td>0.43</td>\n",
       "      <td>0.04</td>\n",
       "      <td>0.27</td>\n",
       "      <td>0.25</td>\n",
       "      <td>0.46</td>\n",
       "      <td>0.40</td>\n",
       "      <td>0.20</td>\n",
       "      <td>0.14</td>\n",
       "      <td>0.42</td>\n",
       "      <td>0.61</td>\n",
       "      <td>1.00</td>\n",
       "      <td>0.14</td>\n",
       "    </tr>\n",
       "    <tr>\n",
       "      <th>AH</th>\n",
       "      <td>0.14</td>\n",
       "      <td>0.23</td>\n",
       "      <td>0.16</td>\n",
       "      <td>0.24</td>\n",
       "      <td>0.25</td>\n",
       "      <td>0.12</td>\n",
       "      <td>0.26</td>\n",
       "      <td>0.27</td>\n",
       "      <td>0.67</td>\n",
       "      <td>0.15</td>\n",
       "      <td>0.61</td>\n",
       "      <td>0.14</td>\n",
       "      <td>1.00</td>\n",
       "    </tr>\n",
       "  </tbody>\n",
       "</table>\n",
       "</div>"
      ],
      "text/plain": [
       "        COGT  PT08S1  NMHC  C6H6  PT08S2  NOxGT  PT08S3  NO2GT  PT08S4  \\\n",
       "COGT    1.00    0.74  0.25  0.78    0.78   0.75    0.64   0.61    0.48   \n",
       "PT08S1  0.74    1.00  0.24  0.84    0.83   0.56    0.77   0.46    0.60   \n",
       "NMHC    0.25    0.24  1.00  0.23    0.22   0.17    0.24   0.16    0.23   \n",
       "C6H6    0.78    0.84  0.23  1.00    1.00   0.56    0.75   0.48    0.69   \n",
       "PT08S2  0.78    0.83  0.22  1.00    1.00   0.54    0.76   0.48    0.70   \n",
       "NOxGT   0.75    0.56  0.17  0.56    0.54   1.00    0.63   0.73    0.15   \n",
       "PT08S3  0.64    0.77  0.24  0.75    0.76   0.63    1.00   0.54    0.43   \n",
       "NO2GT   0.61    0.46  0.16  0.48    0.48   0.73    0.54   1.00    0.16   \n",
       "PT08S4  0.48    0.60  0.23  0.69    0.70   0.15    0.43   0.16    1.00   \n",
       "PT08S5  0.77    0.88  0.20  0.87    0.87   0.68    0.81   0.58    0.51   \n",
       "T       0.24    0.21  0.12  0.15    0.15   0.42    0.16   0.35    0.48   \n",
       "RH      0.37    0.43  0.04  0.27    0.25   0.46    0.40   0.20    0.14   \n",
       "AH      0.14    0.23  0.16  0.24    0.25   0.12    0.26   0.27    0.67   \n",
       "\n",
       "        PT08S5    T   RH   AH  \n",
       "COGT      0.77 0.24 0.37 0.14  \n",
       "PT08S1    0.88 0.21 0.43 0.23  \n",
       "NMHC      0.20 0.12 0.04 0.16  \n",
       "C6H6      0.87 0.15 0.27 0.24  \n",
       "PT08S2    0.87 0.15 0.25 0.25  \n",
       "NOxGT     0.68 0.42 0.46 0.12  \n",
       "PT08S3    0.81 0.16 0.40 0.26  \n",
       "NO2GT     0.58 0.35 0.20 0.27  \n",
       "PT08S4    0.51 0.48 0.14 0.67  \n",
       "PT08S5    1.00 0.23 0.42 0.15  \n",
       "T         0.23 1.00 0.61 0.61  \n",
       "RH        0.42 0.61 1.00 0.14  \n",
       "AH        0.15 0.61 0.14 1.00  "
      ]
     },
     "execution_count": 81,
     "metadata": {},
     "output_type": "execute_result"
    }
   ],
   "source": [
    "# Create the distance method using distance_correlation\n",
    "data2 = dfSQ.drop(labels = [\"Date\",\"Time\"], axis = 1)\n",
    "distcorr = lambda column1, column2: dcor.distance_correlation(column1, column2) \n",
    "\n",
    "# Apply the distance method pairwise to every column\n",
    "rslt = data2.apply(lambda col1: data2.apply(lambda col2: distcorr(col1, col2)))\n",
    "\n",
    "# check output\n",
    "pd.options.display.float_format = '{:,.2f}'.format\n",
    "rslt"
   ]
  },
  {
   "cell_type": "markdown",
   "metadata": {
    "id": "aBinrp92TmvZ"
   },
   "source": [
    "As we can see from the correlation table that out dependent variable is highly correlated with PT08S4(Tungton Oxide), Temparature and NO2 content of the air"
   ]
  },
  {
   "cell_type": "markdown",
   "metadata": {},
   "source": [
    "Filtering our dataset to only dependenet columns and removing columns that are not effecting our parameters to avoid Bad Machine Learning. It is good practise to keep variables that are effecting out dependent parameters and remove unnecesary things from dataset "
   ]
  },
  {
   "cell_type": "markdown",
   "metadata": {},
   "source": [
    "Here we can see hoe the content of our tungsten oxide and NO2 content is varying throughout the day"
   ]
  },
  {
   "cell_type": "code",
   "execution_count": 82,
   "metadata": {},
   "outputs": [
    {
     "name": "stderr",
     "output_type": "stream",
     "text": [
      "C:\\Users\\patol\\anaconda3\\lib\\site-packages\\seaborn\\distributions.py:2551: FutureWarning: `distplot` is a deprecated function and will be removed in a future version. Please adapt your code to use either `displot` (a figure-level function with similar flexibility) or `histplot` (an axes-level function for histograms).\n",
      "  warnings.warn(msg, FutureWarning)\n"
     ]
    },
    {
     "data": {
      "text/plain": [
       "<AxesSubplot:xlabel='PT08S4', ylabel='Density'>"
      ]
     },
     "execution_count": 82,
     "metadata": {},
     "output_type": "execute_result"
    },
    {
     "data": {
      "image/png": "[encoded data removed]",
      "text/plain": [
       "<Figure size 432x288 with 1 Axes>"
      ]
     },
     "metadata": {
      "needs_background": "light"
     },
     "output_type": "display_data"
    }
   ],
   "source": [
    "sns.distplot(dfPlot['PT08S4'], kde = True, color = \"Red\")"
   ]
  },
  {
   "cell_type": "code",
   "execution_count": 83,
   "metadata": {},
   "outputs": [
    {
     "name": "stderr",
     "output_type": "stream",
     "text": [
      "C:\\Users\\patol\\anaconda3\\lib\\site-packages\\seaborn\\distributions.py:2551: FutureWarning: `distplot` is a deprecated function and will be removed in a future version. Please adapt your code to use either `displot` (a figure-level function with similar flexibility) or `histplot` (an axes-level function for histograms).\n",
      "  warnings.warn(msg, FutureWarning)\n"
     ]
    },
    {
     "data": {
      "text/plain": [
       "<AxesSubplot:xlabel='NO2GT', ylabel='Density'>"
      ]
     },
     "execution_count": 83,
     "metadata": {},
     "output_type": "execute_result"
    },
    {
     "data": {
      "image/png": "[encoded data removed]",
      "text/plain": [
       "<Figure size 432x288 with 1 Axes>"
      ]
     },
     "metadata": {
      "needs_background": "light"
     },
     "output_type": "display_data"
    }
   ],
   "source": [
    "sns.distplot(dfPlot['NO2GT'], kde = True)"
   ]
  },
  {
   "cell_type": "code",
   "execution_count": 84,
   "metadata": {
    "colab": {
     "base_uri": "https://localhost:8080/",
     "height": 402
    },
    "id": "nhLkKD-oUYxt",
    "outputId": "3df06a0b-c28b-4f9c-9a77-1d1a288314cd"
   },
   "outputs": [
    {
     "data": {
      "text/html": [
       "<div>\n",
       "<style scoped>\n",
       "    .dataframe tbody tr th:only-of-type {\n",
       "        vertical-align: middle;\n",
       "    }\n",
       "\n",
       "    .dataframe tbody tr th {\n",
       "        vertical-align: top;\n",
       "    }\n",
       "\n",
       "    .dataframe thead th {\n",
       "        text-align: right;\n",
       "    }\n",
       "</style>\n",
       "<table border=\"1\" class=\"dataframe\">\n",
       "  <thead>\n",
       "    <tr style=\"text-align: right;\">\n",
       "      <th></th>\n",
       "      <th>PT08S4</th>\n",
       "      <th>AH</th>\n",
       "      <th>NO2GT</th>\n",
       "      <th>T</th>\n",
       "    </tr>\n",
       "  </thead>\n",
       "  <tbody>\n",
       "    <tr>\n",
       "      <th>15</th>\n",
       "      <td>1,583.00</td>\n",
       "      <td>0.77</td>\n",
       "      <td>101.00</td>\n",
       "      <td>10.50</td>\n",
       "    </tr>\n",
       "    <tr>\n",
       "      <th>16</th>\n",
       "      <td>1,446.00</td>\n",
       "      <td>0.76</td>\n",
       "      <td>98.00</td>\n",
       "      <td>10.80</td>\n",
       "    </tr>\n",
       "    <tr>\n",
       "      <th>17</th>\n",
       "      <td>1,362.00</td>\n",
       "      <td>0.74</td>\n",
       "      <td>92.00</td>\n",
       "      <td>10.50</td>\n",
       "    </tr>\n",
       "    <tr>\n",
       "      <th>18</th>\n",
       "      <td>1,401.00</td>\n",
       "      <td>0.80</td>\n",
       "      <td>95.00</td>\n",
       "      <td>9.50</td>\n",
       "    </tr>\n",
       "    <tr>\n",
       "      <th>19</th>\n",
       "      <td>1,537.00</td>\n",
       "      <td>0.84</td>\n",
       "      <td>112.00</td>\n",
       "      <td>8.30</td>\n",
       "    </tr>\n",
       "    <tr>\n",
       "      <th>...</th>\n",
       "      <td>...</td>\n",
       "      <td>...</td>\n",
       "      <td>...</td>\n",
       "      <td>...</td>\n",
       "    </tr>\n",
       "    <tr>\n",
       "      <th>9352</th>\n",
       "      <td>1,374.00</td>\n",
       "      <td>0.76</td>\n",
       "      <td>190.00</td>\n",
       "      <td>21.90</td>\n",
       "    </tr>\n",
       "    <tr>\n",
       "      <th>9353</th>\n",
       "      <td>1,264.00</td>\n",
       "      <td>0.71</td>\n",
       "      <td>179.00</td>\n",
       "      <td>24.30</td>\n",
       "    </tr>\n",
       "    <tr>\n",
       "      <th>9354</th>\n",
       "      <td>1,241.00</td>\n",
       "      <td>0.64</td>\n",
       "      <td>175.00</td>\n",
       "      <td>26.90</td>\n",
       "    </tr>\n",
       "    <tr>\n",
       "      <th>9355</th>\n",
       "      <td>1,041.00</td>\n",
       "      <td>0.51</td>\n",
       "      <td>156.00</td>\n",
       "      <td>28.30</td>\n",
       "    </tr>\n",
       "    <tr>\n",
       "      <th>9356</th>\n",
       "      <td>1,129.00</td>\n",
       "      <td>0.50</td>\n",
       "      <td>168.00</td>\n",
       "      <td>28.50</td>\n",
       "    </tr>\n",
       "  </tbody>\n",
       "</table>\n",
       "<p>3104 rows × 4 columns</p>\n",
       "</div>"
      ],
      "text/plain": [
       "       PT08S4   AH  NO2GT     T\n",
       "15   1,583.00 0.77 101.00 10.50\n",
       "16   1,446.00 0.76  98.00 10.80\n",
       "17   1,362.00 0.74  92.00 10.50\n",
       "18   1,401.00 0.80  95.00  9.50\n",
       "19   1,537.00 0.84 112.00  8.30\n",
       "...       ...  ...    ...   ...\n",
       "9352 1,374.00 0.76 190.00 21.90\n",
       "9353 1,264.00 0.71 179.00 24.30\n",
       "9354 1,241.00 0.64 175.00 26.90\n",
       "9355 1,041.00 0.51 156.00 28.30\n",
       "9356 1,129.00 0.50 168.00 28.50\n",
       "\n",
       "[3104 rows x 4 columns]"
      ]
     },
     "execution_count": 84,
     "metadata": {},
     "output_type": "execute_result"
    }
   ],
   "source": [
    "dfSQforAnalysis = dfSQ[[\"PT08S4\", \"AH\", \"NO2GT\", \"T\"]]\n",
    "dfSQforAnalysis"
   ]
  },
  {
   "cell_type": "markdown",
   "metadata": {
    "id": "tfRPjeYeUZ6B"
   },
   "source": [
    "# Processing our data"
   ]
  },
  {
   "cell_type": "markdown",
   "metadata": {
    "id": "Vsab5485T0Ew"
   },
   "source": [
    "# Model 1: processing out: R model with Randomforest Algorithm"
   ]
  },
  {
   "cell_type": "code",
   "execution_count": 85,
   "metadata": {
    "colab": {
     "base_uri": "https://localhost:8080/",
     "height": 402
    },
    "id": "2ujm07oLUb2V",
    "outputId": "7bd0fe3e-8a39-43ce-d6cd-b0371ae11e7b"
   },
   "outputs": [
    {
     "data": {
      "text/html": [
       "<div>\n",
       "<style scoped>\n",
       "    .dataframe tbody tr th:only-of-type {\n",
       "        vertical-align: middle;\n",
       "    }\n",
       "\n",
       "    .dataframe tbody tr th {\n",
       "        vertical-align: top;\n",
       "    }\n",
       "\n",
       "    .dataframe thead th {\n",
       "        text-align: right;\n",
       "    }\n",
       "</style>\n",
       "<table border=\"1\" class=\"dataframe\">\n",
       "  <thead>\n",
       "    <tr style=\"text-align: right;\">\n",
       "      <th></th>\n",
       "      <th>PT08S4</th>\n",
       "      <th>NO2GT</th>\n",
       "      <th>T</th>\n",
       "    </tr>\n",
       "  </thead>\n",
       "  <tbody>\n",
       "    <tr>\n",
       "      <th>15</th>\n",
       "      <td>1,583.00</td>\n",
       "      <td>101.00</td>\n",
       "      <td>10.50</td>\n",
       "    </tr>\n",
       "    <tr>\n",
       "      <th>16</th>\n",
       "      <td>1,446.00</td>\n",
       "      <td>98.00</td>\n",
       "      <td>10.80</td>\n",
       "    </tr>\n",
       "    <tr>\n",
       "      <th>17</th>\n",
       "      <td>1,362.00</td>\n",
       "      <td>92.00</td>\n",
       "      <td>10.50</td>\n",
       "    </tr>\n",
       "    <tr>\n",
       "      <th>18</th>\n",
       "      <td>1,401.00</td>\n",
       "      <td>95.00</td>\n",
       "      <td>9.50</td>\n",
       "    </tr>\n",
       "    <tr>\n",
       "      <th>19</th>\n",
       "      <td>1,537.00</td>\n",
       "      <td>112.00</td>\n",
       "      <td>8.30</td>\n",
       "    </tr>\n",
       "    <tr>\n",
       "      <th>...</th>\n",
       "      <td>...</td>\n",
       "      <td>...</td>\n",
       "      <td>...</td>\n",
       "    </tr>\n",
       "    <tr>\n",
       "      <th>9352</th>\n",
       "      <td>1,374.00</td>\n",
       "      <td>190.00</td>\n",
       "      <td>21.90</td>\n",
       "    </tr>\n",
       "    <tr>\n",
       "      <th>9353</th>\n",
       "      <td>1,264.00</td>\n",
       "      <td>179.00</td>\n",
       "      <td>24.30</td>\n",
       "    </tr>\n",
       "    <tr>\n",
       "      <th>9354</th>\n",
       "      <td>1,241.00</td>\n",
       "      <td>175.00</td>\n",
       "      <td>26.90</td>\n",
       "    </tr>\n",
       "    <tr>\n",
       "      <th>9355</th>\n",
       "      <td>1,041.00</td>\n",
       "      <td>156.00</td>\n",
       "      <td>28.30</td>\n",
       "    </tr>\n",
       "    <tr>\n",
       "      <th>9356</th>\n",
       "      <td>1,129.00</td>\n",
       "      <td>168.00</td>\n",
       "      <td>28.50</td>\n",
       "    </tr>\n",
       "  </tbody>\n",
       "</table>\n",
       "<p>3104 rows × 3 columns</p>\n",
       "</div>"
      ],
      "text/plain": [
       "       PT08S4  NO2GT     T\n",
       "15   1,583.00 101.00 10.50\n",
       "16   1,446.00  98.00 10.80\n",
       "17   1,362.00  92.00 10.50\n",
       "18   1,401.00  95.00  9.50\n",
       "19   1,537.00 112.00  8.30\n",
       "...       ...    ...   ...\n",
       "9352 1,374.00 190.00 21.90\n",
       "9353 1,264.00 179.00 24.30\n",
       "9354 1,241.00 175.00 26.90\n",
       "9355 1,041.00 156.00 28.30\n",
       "9356 1,129.00 168.00 28.50\n",
       "\n",
       "[3104 rows x 3 columns]"
      ]
     },
     "execution_count": 85,
     "metadata": {},
     "output_type": "execute_result"
    }
   ],
   "source": [
    "X = dfSQforAnalysis.drop(['AH'], axis=1)\n",
    "X"
   ]
  },
  {
   "cell_type": "code",
   "execution_count": 86,
   "metadata": {
    "colab": {
     "base_uri": "https://localhost:8080/",
     "height": 402
    },
    "id": "lUqxQZnaU7Vn",
    "outputId": "d66c93e8-01c6-4af8-c433-1defa9fe829f"
   },
   "outputs": [
    {
     "data": {
      "text/html": [
       "<div>\n",
       "<style scoped>\n",
       "    .dataframe tbody tr th:only-of-type {\n",
       "        vertical-align: middle;\n",
       "    }\n",
       "\n",
       "    .dataframe tbody tr th {\n",
       "        vertical-align: top;\n",
       "    }\n",
       "\n",
       "    .dataframe thead th {\n",
       "        text-align: right;\n",
       "    }\n",
       "</style>\n",
       "<table border=\"1\" class=\"dataframe\">\n",
       "  <thead>\n",
       "    <tr style=\"text-align: right;\">\n",
       "      <th></th>\n",
       "      <th>AH</th>\n",
       "    </tr>\n",
       "  </thead>\n",
       "  <tbody>\n",
       "    <tr>\n",
       "      <th>15</th>\n",
       "      <td>0.77</td>\n",
       "    </tr>\n",
       "    <tr>\n",
       "      <th>16</th>\n",
       "      <td>0.76</td>\n",
       "    </tr>\n",
       "    <tr>\n",
       "      <th>17</th>\n",
       "      <td>0.74</td>\n",
       "    </tr>\n",
       "    <tr>\n",
       "      <th>18</th>\n",
       "      <td>0.80</td>\n",
       "    </tr>\n",
       "    <tr>\n",
       "      <th>19</th>\n",
       "      <td>0.84</td>\n",
       "    </tr>\n",
       "    <tr>\n",
       "      <th>...</th>\n",
       "      <td>...</td>\n",
       "    </tr>\n",
       "    <tr>\n",
       "      <th>9352</th>\n",
       "      <td>0.76</td>\n",
       "    </tr>\n",
       "    <tr>\n",
       "      <th>9353</th>\n",
       "      <td>0.71</td>\n",
       "    </tr>\n",
       "    <tr>\n",
       "      <th>9354</th>\n",
       "      <td>0.64</td>\n",
       "    </tr>\n",
       "    <tr>\n",
       "      <th>9355</th>\n",
       "      <td>0.51</td>\n",
       "    </tr>\n",
       "    <tr>\n",
       "      <th>9356</th>\n",
       "      <td>0.50</td>\n",
       "    </tr>\n",
       "  </tbody>\n",
       "</table>\n",
       "<p>3104 rows × 1 columns</p>\n",
       "</div>"
      ],
      "text/plain": [
       "       AH\n",
       "15   0.77\n",
       "16   0.76\n",
       "17   0.74\n",
       "18   0.80\n",
       "19   0.84\n",
       "...   ...\n",
       "9352 0.76\n",
       "9353 0.71\n",
       "9354 0.64\n",
       "9355 0.51\n",
       "9356 0.50\n",
       "\n",
       "[3104 rows x 1 columns]"
      ]
     },
     "execution_count": 86,
     "metadata": {},
     "output_type": "execute_result"
    }
   ],
   "source": [
    "y = dfSQforAnalysis[[\"AH\"]]\n",
    "y"
   ]
  },
  {
   "cell_type": "code",
   "execution_count": 87,
   "metadata": {
    "id": "n_umfIm_U9HV"
   },
   "outputs": [],
   "source": [
    "from sklearn.ensemble import RandomForestRegressor\n",
    "from sklearn import metrics\n",
    "from sklearn.model_selection import train_test_split"
   ]
  },
  {
   "cell_type": "code",
   "execution_count": 88,
   "metadata": {
    "colab": {
     "base_uri": "https://localhost:8080/"
    },
    "id": "Iikd2lwfVAw0",
    "outputId": "8ac37009-15bd-4787-e047-3256c3fe7aa3"
   },
   "outputs": [
    {
     "name": "stderr",
     "output_type": "stream",
     "text": [
      "<ipython-input-88-c3df1279bdc5>:7: DataConversionWarning: A column-vector y was passed when a 1d array was expected. Please change the shape of y to (n_samples,), for example using ravel().\n",
      "  rf_model.fit(X_train, y_train)\n"
     ]
    },
    {
     "data": {
      "text/plain": [
       "0.7237261097088546"
      ]
     },
     "execution_count": 88,
     "metadata": {},
     "output_type": "execute_result"
    }
   ],
   "source": [
    "X_train, X_test, y_train, y_test = train_test_split(X, y, random_state=42)\n",
    "\n",
    "# Create a model \n",
    "rf_model = RandomForestRegressor()\n",
    "\n",
    "# Train the model\n",
    "rf_model.fit(X_train, y_train)\n",
    "\n",
    "# Get R2 measure (indicator of accuracy 1 is perfect, 0 is horrible)\n",
    "rf_model.score(X_test, y_test)"
   ]
  },
  {
   "cell_type": "markdown",
   "metadata": {},
   "source": [
    "hm, Accuracy of 72 percent. that means our model is good trained model"
   ]
  },
  {
   "cell_type": "code",
   "execution_count": 89,
   "metadata": {
    "id": "TyY-mOvaVFZC"
   },
   "outputs": [],
   "source": [
    "y_pred = rf_model.predict(X_test)"
   ]
  },
  {
   "cell_type": "code",
   "execution_count": 90,
   "metadata": {
    "id": "qgVWy-NtVG-m"
   },
   "outputs": [],
   "source": [
    "y_test2 = y_test.to_numpy()"
   ]
  },
  {
   "cell_type": "code",
   "execution_count": 91,
   "metadata": {
    "colab": {
     "base_uri": "https://localhost:8080/"
    },
    "id": "MHa9_-1WVLX8",
    "outputId": "9780d567-95ab-4050-d7ad-2b427eb50408"
   },
   "outputs": [
    {
     "name": "stdout",
     "output_type": "stream",
     "text": [
      "[1.492315   0.636414   1.04846    1.601899   1.05603    1.346393\n",
      " 0.99749434 1.056164   0.948523   1.498321  ]\n",
      "[[1.4499    ]\n",
      " [0.4599    ]\n",
      " [1.0724    ]\n",
      " [1.1271    ]\n",
      " [1.4487    ]\n",
      " [1.4653    ]\n",
      " [1.02553027]\n",
      " [0.9652    ]\n",
      " [0.9727    ]\n",
      " [1.1548    ]]\n"
     ]
    }
   ],
   "source": [
    "print(y_pred[0:10])\n",
    "print(y_test2[0:10])"
   ]
  },
  {
   "cell_type": "markdown",
   "metadata": {},
   "source": [
    "# Plotting our predictions"
   ]
  },
  {
   "cell_type": "code",
   "execution_count": 92,
   "metadata": {
    "colab": {
     "base_uri": "https://localhost:8080/",
     "height": 286
    },
    "id": "sGQ3S0ioVQp2",
    "outputId": "1a6d063a-2e87-4622-f6fc-bafc04781890"
   },
   "outputs": [
    {
     "data": {
      "text/plain": [
       "[<matplotlib.lines.Line2D at 0x1c32d217dc0>]"
      ]
     },
     "execution_count": 92,
     "metadata": {},
     "output_type": "execute_result"
    },
    {
     "data": {
      "image/png": "[encoded data removed]",
      "text/plain": [
       "<Figure size 432x288 with 1 Axes>"
      ]
     },
     "metadata": {
      "needs_background": "light"
     },
     "output_type": "display_data"
    }
   ],
   "source": [
    "import matplotlib.pyplot as plt\n",
    "plt.plot(y_test2[:100])\n",
    "plt.plot(y_pred[:100])"
   ]
  },
  {
   "cell_type": "code",
   "execution_count": 93,
   "metadata": {
    "colab": {
     "base_uri": "https://localhost:8080/",
     "height": 402
    },
    "id": "AKNzPc_UVTEj",
    "outputId": "dbaac44c-e1ea-4ee5-ebea-3080afe3cf98"
   },
   "outputs": [
    {
     "data": {
      "text/html": [
       "<div>\n",
       "<style scoped>\n",
       "    .dataframe tbody tr th:only-of-type {\n",
       "        vertical-align: middle;\n",
       "    }\n",
       "\n",
       "    .dataframe tbody tr th {\n",
       "        vertical-align: top;\n",
       "    }\n",
       "\n",
       "    .dataframe thead th {\n",
       "        text-align: right;\n",
       "    }\n",
       "</style>\n",
       "<table border=\"1\" class=\"dataframe\">\n",
       "  <thead>\n",
       "    <tr style=\"text-align: right;\">\n",
       "      <th></th>\n",
       "      <th>0</th>\n",
       "      <th>AH</th>\n",
       "    </tr>\n",
       "  </thead>\n",
       "  <tbody>\n",
       "    <tr>\n",
       "      <th>0</th>\n",
       "      <td>1.49</td>\n",
       "      <td>1.45</td>\n",
       "    </tr>\n",
       "    <tr>\n",
       "      <th>1</th>\n",
       "      <td>0.64</td>\n",
       "      <td>0.46</td>\n",
       "    </tr>\n",
       "    <tr>\n",
       "      <th>2</th>\n",
       "      <td>1.05</td>\n",
       "      <td>1.07</td>\n",
       "    </tr>\n",
       "    <tr>\n",
       "      <th>3</th>\n",
       "      <td>1.60</td>\n",
       "      <td>1.13</td>\n",
       "    </tr>\n",
       "    <tr>\n",
       "      <th>4</th>\n",
       "      <td>1.06</td>\n",
       "      <td>1.45</td>\n",
       "    </tr>\n",
       "    <tr>\n",
       "      <th>...</th>\n",
       "      <td>...</td>\n",
       "      <td>...</td>\n",
       "    </tr>\n",
       "    <tr>\n",
       "      <th>771</th>\n",
       "      <td>1.02</td>\n",
       "      <td>1.00</td>\n",
       "    </tr>\n",
       "    <tr>\n",
       "      <th>772</th>\n",
       "      <td>0.39</td>\n",
       "      <td>0.41</td>\n",
       "    </tr>\n",
       "    <tr>\n",
       "      <th>773</th>\n",
       "      <td>0.81</td>\n",
       "      <td>0.77</td>\n",
       "    </tr>\n",
       "    <tr>\n",
       "      <th>774</th>\n",
       "      <td>1.37</td>\n",
       "      <td>1.72</td>\n",
       "    </tr>\n",
       "    <tr>\n",
       "      <th>775</th>\n",
       "      <td>0.33</td>\n",
       "      <td>0.45</td>\n",
       "    </tr>\n",
       "  </tbody>\n",
       "</table>\n",
       "<p>776 rows × 2 columns</p>\n",
       "</div>"
      ],
      "text/plain": [
       "       0   AH\n",
       "0   1.49 1.45\n",
       "1   0.64 0.46\n",
       "2   1.05 1.07\n",
       "3   1.60 1.13\n",
       "4   1.06 1.45\n",
       "..   ...  ...\n",
       "771 1.02 1.00\n",
       "772 0.39 0.41\n",
       "773 0.81 0.77\n",
       "774 1.37 1.72\n",
       "775 0.33 0.45\n",
       "\n",
       "[776 rows x 2 columns]"
      ]
     },
     "execution_count": 93,
     "metadata": {},
     "output_type": "execute_result"
    }
   ],
   "source": [
    "pd.concat([pd.Series(y_pred), y_test.reset_index(drop=True)], axis=1)"
   ]
  },
  {
   "cell_type": "code",
   "execution_count": 94,
   "metadata": {
    "colab": {
     "base_uri": "https://localhost:8080/"
    },
    "id": "jje5mFZ_VWQE",
    "outputId": "19785dfa-930c-4732-ddb5-efb823bfbcf7"
   },
   "outputs": [
    {
     "data": {
      "text/plain": [
       "[('PT08S4', 0.5543028530524021),\n",
       " ('T', 0.28915011404097735),\n",
       " ('NO2GT', 0.15654703290662048)]"
      ]
     },
     "execution_count": 94,
     "metadata": {},
     "output_type": "execute_result"
    }
   ],
   "source": [
    "sorted(zip(X.columns, rf_model.feature_importances_),\n",
    "        key=lambda x: x[1], reverse=True)"
   ]
  },
  {
   "cell_type": "markdown",
   "metadata": {},
   "source": [
    "We can conclude that out of all the metallic harmful gasses that are recorded, tungsten oxide is effecting our humidity, following by Temparature."
   ]
  },
  {
   "cell_type": "markdown",
   "metadata": {},
   "source": [
    "# Doing Analysis with Bayesian Model"
   ]
  },
  {
   "cell_type": "markdown",
   "metadata": {
    "id": "5e0RAd20UHBG"
   },
   "source": [
    "# Bayesian Estimation using pymc3 module"
   ]
  },
  {
   "cell_type": "code",
   "execution_count": 102,
   "metadata": {
    "id": "8ziZXHWVVaa7"
   },
   "outputs": [],
   "source": [
    "from pymc3 import Model, Uniform, Normal, Gamma\n",
    "\n",
    "with Model() as absoluteHumidity:\n",
    "    alpha = Uniform('alpha', 0, 10)\n",
    "    beta = Uniform('beta', 0, 20)"
   ]
  },
  {
   "cell_type": "code",
   "execution_count": 103,
   "metadata": {
    "id": "uNIJe8OBVm3f"
   },
   "outputs": [],
   "source": [
    "with absoluteHumidity:    \n",
    "    y = Gamma('y', alpha = alpha, beta = beta, observed=dfSQforAnalysis[\"AH\"]) #likelihood"
   ]
  },
  {
   "cell_type": "code",
   "execution_count": 104,
   "metadata": {
    "colab": {
     "base_uri": "https://localhost:8080/"
    },
    "id": "444H1j3FVth-",
    "outputId": "588ec34a-628b-41ac-da7f-726b3d434fab"
   },
   "outputs": [
    {
     "ename": "TypeError",
     "evalue": "Unknown parameter type: <class 'theano.tensor.var.TensorVariable'>",
     "output_type": "error",
     "traceback": [
      "\u001b[1;31m---------------------------------------------------------------------------\u001b[0m",
      "\u001b[1;31mTypeError\u001b[0m                                 Traceback (most recent call last)",
      "\u001b[1;32m<ipython-input-104-357ec8730c66>\u001b[0m in \u001b[0;36m<module>\u001b[1;34m\u001b[0m\n\u001b[0;32m      4\u001b[0m \u001b[1;32mwith\u001b[0m \u001b[0mabsoluteHumidity\u001b[0m\u001b[1;33m:\u001b[0m\u001b[1;33m\u001b[0m\u001b[1;33m\u001b[0m\u001b[0m\n\u001b[0;32m      5\u001b[0m \u001b[1;33m\u001b[0m\u001b[0m\n\u001b[1;32m----> 6\u001b[1;33m     \u001b[0msamplesGamma1\u001b[0m \u001b[1;33m=\u001b[0m \u001b[0mfit\u001b[0m\u001b[1;33m(\u001b[0m\u001b[0mrandom_seed\u001b[0m\u001b[1;33m=\u001b[0m\u001b[0mRANDOM_SEED\u001b[0m\u001b[1;33m)\u001b[0m\u001b[1;33m.\u001b[0m\u001b[0msample\u001b[0m\u001b[1;33m(\u001b[0m\u001b[1;36m500\u001b[0m\u001b[1;33m)\u001b[0m\u001b[1;33m\u001b[0m\u001b[1;33m\u001b[0m\u001b[0m\n\u001b[0m",
      "\u001b[1;32m~\\anaconda3\\lib\\site-packages\\pymc3\\variational\\inference.py\u001b[0m in \u001b[0;36mfit\u001b[1;34m(n, local_rv, method, model, random_seed, start, inf_kwargs, **kwargs)\u001b[0m\n\u001b[0;32m    788\u001b[0m     \u001b[0mmore_obj_params\u001b[0m\u001b[1;33m:\u001b[0m\u001b[0;31m \u001b[0m\u001b[0;31m`\u001b[0m\u001b[0mlist\u001b[0m\u001b[0;31m`\u001b[0m\u001b[1;33m\u001b[0m\u001b[1;33m\u001b[0m\u001b[0m\n\u001b[0;32m    789\u001b[0m         \u001b[0mAdd\u001b[0m \u001b[0mcustom\u001b[0m \u001b[0mparams\u001b[0m \u001b[1;32mfor\u001b[0m \u001b[0mobjective\u001b[0m \u001b[0moptimizer\u001b[0m\u001b[1;33m\u001b[0m\u001b[1;33m\u001b[0m\u001b[0m\n\u001b[1;32m--> 790\u001b[1;33m     \u001b[0mmore_tf_params\u001b[0m\u001b[1;33m:\u001b[0m\u001b[0;31m \u001b[0m\u001b[0;31m`\u001b[0m\u001b[0mlist\u001b[0m\u001b[0;31m`\u001b[0m\u001b[1;33m\u001b[0m\u001b[1;33m\u001b[0m\u001b[0m\n\u001b[0m\u001b[0;32m    791\u001b[0m         \u001b[0mAdd\u001b[0m \u001b[0mcustom\u001b[0m \u001b[0mparams\u001b[0m \u001b[1;32mfor\u001b[0m \u001b[0mtest\u001b[0m \u001b[0mfunction\u001b[0m \u001b[0moptimizer\u001b[0m\u001b[1;33m\u001b[0m\u001b[1;33m\u001b[0m\u001b[0m\n\u001b[0;32m    792\u001b[0m     \u001b[0mmore_updates\u001b[0m\u001b[1;33m:\u001b[0m\u001b[0;31m \u001b[0m\u001b[0;31m`\u001b[0m\u001b[0mdict\u001b[0m\u001b[0;31m`\u001b[0m\u001b[1;33m\u001b[0m\u001b[1;33m\u001b[0m\u001b[0m\n",
      "\u001b[1;32m~\\anaconda3\\lib\\site-packages\\pymc3\\variational\\inference.py\u001b[0m in \u001b[0;36mfit\u001b[1;34m(self, n, score, callbacks, progressbar, **kwargs)\u001b[0m\n\u001b[0;32m    129\u001b[0m             \u001b[0mAdd\u001b[0m \u001b[0mcustom\u001b[0m \u001b[0mupdates\u001b[0m \u001b[0mto\u001b[0m \u001b[0mresulting\u001b[0m \u001b[0mupdates\u001b[0m\u001b[1;33m\u001b[0m\u001b[1;33m\u001b[0m\u001b[0m\n\u001b[0;32m    130\u001b[0m         \u001b[0mtotal_grad_norm_constraint\u001b[0m\u001b[1;33m:\u001b[0m\u001b[0;31m \u001b[0m\u001b[0;31m`\u001b[0m\u001b[0mfloat\u001b[0m\u001b[0;31m`\u001b[0m\u001b[1;33m\u001b[0m\u001b[1;33m\u001b[0m\u001b[0m\n\u001b[1;32m--> 131\u001b[1;33m             \u001b[0mBounds\u001b[0m \u001b[0mgradient\u001b[0m \u001b[0mnorm\u001b[0m\u001b[1;33m,\u001b[0m \u001b[0mprevents\u001b[0m \u001b[0mexploding\u001b[0m \u001b[0mgradient\u001b[0m \u001b[0mproblem\u001b[0m\u001b[1;33m\u001b[0m\u001b[1;33m\u001b[0m\u001b[0m\n\u001b[0m\u001b[0;32m    132\u001b[0m         \u001b[0mfn_kwargs\u001b[0m\u001b[1;33m:\u001b[0m\u001b[0;31m \u001b[0m\u001b[0;31m`\u001b[0m\u001b[0mdict\u001b[0m\u001b[0;31m`\u001b[0m\u001b[1;33m\u001b[0m\u001b[1;33m\u001b[0m\u001b[0m\n\u001b[0;32m    133\u001b[0m             \u001b[0mAdd\u001b[0m \u001b[0mkwargs\u001b[0m \u001b[0mto\u001b[0m \u001b[0mtheano\u001b[0m\u001b[1;33m.\u001b[0m\u001b[0mfunction\u001b[0m \u001b[1;33m(\u001b[0m\u001b[0me\u001b[0m\u001b[1;33m.\u001b[0m\u001b[0mg\u001b[0m\u001b[1;33m.\u001b[0m\u001b[0;31m \u001b[0m\u001b[0;31m`\u001b[0m\u001b[1;33m{\u001b[0m\u001b[1;34m'profile'\u001b[0m\u001b[1;33m:\u001b[0m \u001b[1;32mTrue\u001b[0m\u001b[1;33m}\u001b[0m\u001b[0;31m`\u001b[0m\u001b[1;33m)\u001b[0m\u001b[1;33m\u001b[0m\u001b[1;33m\u001b[0m\u001b[0m\n",
      "\u001b[1;32m~\\anaconda3\\lib\\site-packages\\theano\\configparser.py\u001b[0m in \u001b[0;36mres\u001b[1;34m(*args, **kwargs)\u001b[0m\n\u001b[0;32m    115\u001b[0m         \u001b[0mReturn\u001b[0m \u001b[0ma\u001b[0m \u001b[0mstring\u001b[0m \u001b[0msha256\u001b[0m \u001b[0mof\u001b[0m \u001b[0mthe\u001b[0m \u001b[0mcurrent\u001b[0m \u001b[0mconfig\u001b[0m \u001b[0moptions\u001b[0m\u001b[1;33m.\u001b[0m \u001b[0mIn\u001b[0m \u001b[0mthe\u001b[0m \u001b[0mpast\u001b[0m\u001b[1;33m,\u001b[0m\u001b[1;33m\u001b[0m\u001b[1;33m\u001b[0m\u001b[0m\n\u001b[0;32m    116\u001b[0m         \u001b[0mit\u001b[0m \u001b[0mwas\u001b[0m \u001b[0mmd5\u001b[0m\u001b[1;33m.\u001b[0m\u001b[1;33m\u001b[0m\u001b[1;33m\u001b[0m\u001b[0m\n\u001b[1;32m--> 117\u001b[1;33m \u001b[1;33m\u001b[0m\u001b[0m\n\u001b[0m\u001b[0;32m    118\u001b[0m         \u001b[0mThe\u001b[0m \u001b[0mstring\u001b[0m \u001b[0mshould\u001b[0m \u001b[0mbe\u001b[0m \u001b[0msuch\u001b[0m \u001b[0mthat\u001b[0m \u001b[0mwe\u001b[0m \u001b[0mcan\u001b[0m \u001b[0msafely\u001b[0m \u001b[0massume\u001b[0m \u001b[0mthat\u001b[0m \u001b[0mtwo\u001b[0m \u001b[0mdifferent\u001b[0m\u001b[1;33m\u001b[0m\u001b[1;33m\u001b[0m\u001b[0m\n\u001b[0;32m    119\u001b[0m         \u001b[0mconfig\u001b[0m \u001b[0msetups\u001b[0m \u001b[0mwill\u001b[0m \u001b[0mlead\u001b[0m \u001b[0mto\u001b[0m \u001b[0mtwo\u001b[0m \u001b[0mdifferent\u001b[0m \u001b[0mstrings\u001b[0m\u001b[1;33m.\u001b[0m\u001b[1;33m\u001b[0m\u001b[1;33m\u001b[0m\u001b[0m\n",
      "\u001b[1;32m~\\anaconda3\\lib\\site-packages\\pymc3\\variational\\opvi.py\u001b[0m in \u001b[0;36mstep_function\u001b[1;34m(self, obj_n_mc, tf_n_mc, obj_optimizer, test_optimizer, more_obj_params, more_tf_params, more_updates, more_replacements, total_grad_norm_constraint, score, fn_kwargs)\u001b[0m\n\u001b[0;32m    308\u001b[0m     ):\n\u001b[0;32m    309\u001b[0m         R\"\"\"Step function that should be called on each optimization step.\n\u001b[1;32m--> 310\u001b[1;33m \u001b[1;33m\u001b[0m\u001b[0m\n\u001b[0m\u001b[0;32m    311\u001b[0m         \u001b[0mGenerally\u001b[0m \u001b[0mit\u001b[0m \u001b[0msolves\u001b[0m \u001b[0mthe\u001b[0m \u001b[0mfollowing\u001b[0m \u001b[0mproblem\u001b[0m\u001b[1;33m:\u001b[0m\u001b[1;33m\u001b[0m\u001b[1;33m\u001b[0m\u001b[0m\n\u001b[0;32m    312\u001b[0m \u001b[1;33m\u001b[0m\u001b[0m\n",
      "\u001b[1;32m~\\anaconda3\\lib\\site-packages\\pymc3\\variational\\opvi.py\u001b[0m in \u001b[0;36mupdates\u001b[1;34m(self, obj_n_mc, tf_n_mc, obj_optimizer, test_optimizer, more_obj_params, more_tf_params, more_updates, more_replacements, total_grad_norm_constraint)\u001b[0m\n\u001b[0;32m    213\u001b[0m         \u001b[0mmore_replacements\u001b[0m \u001b[1;33m:\u001b[0m \u001b[0mdict\u001b[0m\u001b[1;33m\u001b[0m\u001b[1;33m\u001b[0m\u001b[0m\n\u001b[0;32m    214\u001b[0m             \u001b[0mApply\u001b[0m \u001b[0mcustom\u001b[0m \u001b[0mreplacements\u001b[0m \u001b[0mbefore\u001b[0m \u001b[0mcalculating\u001b[0m \u001b[0mgradients\u001b[0m\u001b[1;33m\u001b[0m\u001b[1;33m\u001b[0m\u001b[0m\n\u001b[1;32m--> 215\u001b[1;33m         \u001b[0mtotal_grad_norm_constraint\u001b[0m \u001b[1;33m:\u001b[0m \u001b[0mfloat\u001b[0m\u001b[1;33m\u001b[0m\u001b[1;33m\u001b[0m\u001b[0m\n\u001b[0m\u001b[0;32m    216\u001b[0m             \u001b[0mBounds\u001b[0m \u001b[0mgradient\u001b[0m \u001b[0mnorm\u001b[0m\u001b[1;33m,\u001b[0m \u001b[0mprevents\u001b[0m \u001b[0mexploding\u001b[0m \u001b[0mgradient\u001b[0m \u001b[0mproblem\u001b[0m\u001b[1;33m\u001b[0m\u001b[1;33m\u001b[0m\u001b[0m\n\u001b[0;32m    217\u001b[0m \u001b[1;33m\u001b[0m\u001b[0m\n",
      "\u001b[1;32m~\\anaconda3\\lib\\site-packages\\pymc3\\variational\\opvi.py\u001b[0m in \u001b[0;36madd_obj_updates\u001b[1;34m(self, updates, obj_n_mc, obj_optimizer, more_obj_params, more_replacements, total_grad_norm_constraint)\u001b[0m\n\u001b[0;32m    248\u001b[0m         \u001b[1;32mreturn\u001b[0m \u001b[0mresulting_updates\u001b[0m\u001b[1;33m\u001b[0m\u001b[1;33m\u001b[0m\u001b[0m\n\u001b[0;32m    249\u001b[0m \u001b[1;33m\u001b[0m\u001b[0m\n\u001b[1;32m--> 250\u001b[1;33m     def add_test_updates(\n\u001b[0m\u001b[0;32m    251\u001b[0m         \u001b[0mself\u001b[0m\u001b[1;33m,\u001b[0m\u001b[1;33m\u001b[0m\u001b[1;33m\u001b[0m\u001b[0m\n\u001b[0;32m    252\u001b[0m         \u001b[0mupdates\u001b[0m\u001b[1;33m,\u001b[0m\u001b[1;33m\u001b[0m\u001b[1;33m\u001b[0m\u001b[0m\n",
      "\u001b[1;32m~\\anaconda3\\lib\\site-packages\\theano\\configparser.py\u001b[0m in \u001b[0;36mres\u001b[1;34m(*args, **kwargs)\u001b[0m\n\u001b[0;32m    115\u001b[0m         \u001b[0mReturn\u001b[0m \u001b[0ma\u001b[0m \u001b[0mstring\u001b[0m \u001b[0msha256\u001b[0m \u001b[0mof\u001b[0m \u001b[0mthe\u001b[0m \u001b[0mcurrent\u001b[0m \u001b[0mconfig\u001b[0m \u001b[0moptions\u001b[0m\u001b[1;33m.\u001b[0m \u001b[0mIn\u001b[0m \u001b[0mthe\u001b[0m \u001b[0mpast\u001b[0m\u001b[1;33m,\u001b[0m\u001b[1;33m\u001b[0m\u001b[1;33m\u001b[0m\u001b[0m\n\u001b[0;32m    116\u001b[0m         \u001b[0mit\u001b[0m \u001b[0mwas\u001b[0m \u001b[0mmd5\u001b[0m\u001b[1;33m.\u001b[0m\u001b[1;33m\u001b[0m\u001b[1;33m\u001b[0m\u001b[0m\n\u001b[1;32m--> 117\u001b[1;33m \u001b[1;33m\u001b[0m\u001b[0m\n\u001b[0m\u001b[0;32m    118\u001b[0m         \u001b[0mThe\u001b[0m \u001b[0mstring\u001b[0m \u001b[0mshould\u001b[0m \u001b[0mbe\u001b[0m \u001b[0msuch\u001b[0m \u001b[0mthat\u001b[0m \u001b[0mwe\u001b[0m \u001b[0mcan\u001b[0m \u001b[0msafely\u001b[0m \u001b[0massume\u001b[0m \u001b[0mthat\u001b[0m \u001b[0mtwo\u001b[0m \u001b[0mdifferent\u001b[0m\u001b[1;33m\u001b[0m\u001b[1;33m\u001b[0m\u001b[0m\n\u001b[0;32m    119\u001b[0m         \u001b[0mconfig\u001b[0m \u001b[0msetups\u001b[0m \u001b[0mwill\u001b[0m \u001b[0mlead\u001b[0m \u001b[0mto\u001b[0m \u001b[0mtwo\u001b[0m \u001b[0mdifferent\u001b[0m \u001b[0mstrings\u001b[0m\u001b[1;33m.\u001b[0m\u001b[1;33m\u001b[0m\u001b[1;33m\u001b[0m\u001b[0m\n",
      "\u001b[1;32m~\\anaconda3\\lib\\site-packages\\pymc3\\variational\\opvi.py\u001b[0m in \u001b[0;36m__call__\u001b[1;34m(self, nmc, **kwargs)\u001b[0m\n\u001b[0;32m    355\u001b[0m             \u001b[0mmore_obj_params\u001b[0m\u001b[1;33m=\u001b[0m\u001b[0mmore_obj_params\u001b[0m\u001b[1;33m,\u001b[0m\u001b[1;33m\u001b[0m\u001b[1;33m\u001b[0m\u001b[0m\n\u001b[0;32m    356\u001b[0m             \u001b[0mmore_tf_params\u001b[0m\u001b[1;33m=\u001b[0m\u001b[0mmore_tf_params\u001b[0m\u001b[1;33m,\u001b[0m\u001b[1;33m\u001b[0m\u001b[1;33m\u001b[0m\u001b[0m\n\u001b[1;32m--> 357\u001b[1;33m             \u001b[0mmore_updates\u001b[0m\u001b[1;33m=\u001b[0m\u001b[0mmore_updates\u001b[0m\u001b[1;33m,\u001b[0m\u001b[1;33m\u001b[0m\u001b[1;33m\u001b[0m\u001b[0m\n\u001b[0m\u001b[0;32m    358\u001b[0m             \u001b[0mmore_replacements\u001b[0m\u001b[1;33m=\u001b[0m\u001b[0mmore_replacements\u001b[0m\u001b[1;33m,\u001b[0m\u001b[1;33m\u001b[0m\u001b[1;33m\u001b[0m\u001b[0m\n\u001b[0;32m    359\u001b[0m             \u001b[0mtotal_grad_norm_constraint\u001b[0m\u001b[1;33m=\u001b[0m\u001b[0mtotal_grad_norm_constraint\u001b[0m\u001b[1;33m,\u001b[0m\u001b[1;33m\u001b[0m\u001b[1;33m\u001b[0m\u001b[0m\n",
      "\u001b[1;32m~\\anaconda3\\lib\\site-packages\\pymc3\\variational\\operators.py\u001b[0m in \u001b[0;36mapply\u001b[1;34m(self, f)\u001b[0m\n\u001b[0;32m     41\u001b[0m \u001b[1;33m\u001b[0m\u001b[0m\n\u001b[0;32m     42\u001b[0m \u001b[1;33m\u001b[0m\u001b[0m\n\u001b[1;32m---> 43\u001b[1;33m     \u001b[0mParameters\u001b[0m\u001b[1;33m\u001b[0m\u001b[1;33m\u001b[0m\u001b[0m\n\u001b[0m\u001b[0;32m     44\u001b[0m     \u001b[1;33m-\u001b[0m\u001b[1;33m-\u001b[0m\u001b[1;33m-\u001b[0m\u001b[1;33m-\u001b[0m\u001b[1;33m-\u001b[0m\u001b[1;33m-\u001b[0m\u001b[1;33m-\u001b[0m\u001b[1;33m-\u001b[0m\u001b[1;33m-\u001b[0m\u001b[1;33m-\u001b[0m\u001b[1;33m\u001b[0m\u001b[1;33m\u001b[0m\u001b[0m\n\u001b[0;32m     45\u001b[0m     \u001b[0mapprox\u001b[0m\u001b[1;33m:\u001b[0m \u001b[1;33m:\u001b[0m\u001b[1;32mclass\u001b[0m\u001b[1;33m:\u001b[0m\u001b[0;31m`\u001b[0m\u001b[0mApproximation\u001b[0m\u001b[0;31m`\u001b[0m\u001b[1;33m\u001b[0m\u001b[1;33m\u001b[0m\u001b[0m\n",
      "\u001b[1;32m~\\anaconda3\\lib\\site-packages\\pymc3\\variational\\opvi.py\u001b[0m in \u001b[0;36m<lambda>\u001b[1;34m(self)\u001b[0m\n\u001b[0;32m    396\u001b[0m     \u001b[1;32mdef\u001b[0m \u001b[0m__call__\u001b[0m\u001b[1;33m(\u001b[0m\u001b[0mself\u001b[0m\u001b[1;33m,\u001b[0m \u001b[0mnmc\u001b[0m\u001b[1;33m,\u001b[0m \u001b[1;33m**\u001b[0m\u001b[0mkwargs\u001b[0m\u001b[1;33m)\u001b[0m\u001b[1;33m:\u001b[0m\u001b[1;33m\u001b[0m\u001b[1;33m\u001b[0m\u001b[0m\n\u001b[0;32m    397\u001b[0m         \u001b[1;32mif\u001b[0m \u001b[1;34m\"more_tf_params\"\u001b[0m \u001b[1;32min\u001b[0m \u001b[0mkwargs\u001b[0m\u001b[1;33m:\u001b[0m\u001b[1;33m\u001b[0m\u001b[1;33m\u001b[0m\u001b[0m\n\u001b[1;32m--> 398\u001b[1;33m             \u001b[0mm\u001b[0m \u001b[1;33m=\u001b[0m \u001b[1;33m-\u001b[0m\u001b[1;36m1.0\u001b[0m\u001b[1;33m\u001b[0m\u001b[1;33m\u001b[0m\u001b[0m\n\u001b[0m\u001b[0;32m    399\u001b[0m         \u001b[1;32melse\u001b[0m\u001b[1;33m:\u001b[0m\u001b[1;33m\u001b[0m\u001b[1;33m\u001b[0m\u001b[0m\n\u001b[0;32m    400\u001b[0m             \u001b[0mm\u001b[0m \u001b[1;33m=\u001b[0m \u001b[1;36m1.0\u001b[0m\u001b[1;33m\u001b[0m\u001b[1;33m\u001b[0m\u001b[0m\n",
      "\u001b[1;32m~\\anaconda3\\lib\\site-packages\\pymc3\\memoize.py\u001b[0m in \u001b[0;36mmemoizer\u001b[1;34m(*args, **kwargs)\u001b[0m\n\u001b[0;32m     29\u001b[0m     \u001b[0mIt\u001b[0m \u001b[0muses\u001b[0m \u001b[0ma\u001b[0m \u001b[0mcustom\u001b[0m\u001b[0;31m \u001b[0m\u001b[0;31m`\u001b[0m\u001b[0mhashable\u001b[0m\u001b[0;31m`\u001b[0m \u001b[0mhelper\u001b[0m \u001b[0mfunction\u001b[0m \u001b[0mto\u001b[0m \u001b[0mhash\u001b[0m \u001b[0mtypically\u001b[0m \u001b[0munhashable\u001b[0m \u001b[0mPython\u001b[0m \u001b[0mobjects\u001b[0m\u001b[1;33m.\u001b[0m\u001b[1;33m\u001b[0m\u001b[1;33m\u001b[0m\u001b[0m\n\u001b[0;32m     30\u001b[0m \u001b[1;33m\u001b[0m\u001b[0m\n\u001b[1;32m---> 31\u001b[1;33m     \u001b[0mParameters\u001b[0m\u001b[1;33m\u001b[0m\u001b[1;33m\u001b[0m\u001b[0m\n\u001b[0m\u001b[0;32m     32\u001b[0m     \u001b[1;33m-\u001b[0m\u001b[1;33m-\u001b[0m\u001b[1;33m-\u001b[0m\u001b[1;33m-\u001b[0m\u001b[1;33m-\u001b[0m\u001b[1;33m-\u001b[0m\u001b[1;33m-\u001b[0m\u001b[1;33m-\u001b[0m\u001b[1;33m-\u001b[0m\u001b[1;33m-\u001b[0m\u001b[1;33m\u001b[0m\u001b[1;33m\u001b[0m\u001b[0m\n\u001b[0;32m     33\u001b[0m     \u001b[0mobj\u001b[0m \u001b[1;33m:\u001b[0m \u001b[0mcallable\u001b[0m\u001b[1;33m\u001b[0m\u001b[1;33m\u001b[0m\u001b[0m\n",
      "\u001b[1;32m~\\anaconda3\\lib\\site-packages\\theano\\configparser.py\u001b[0m in \u001b[0;36mres\u001b[1;34m(*args, **kwargs)\u001b[0m\n\u001b[0;32m    115\u001b[0m         \u001b[0mReturn\u001b[0m \u001b[0ma\u001b[0m \u001b[0mstring\u001b[0m \u001b[0msha256\u001b[0m \u001b[0mof\u001b[0m \u001b[0mthe\u001b[0m \u001b[0mcurrent\u001b[0m \u001b[0mconfig\u001b[0m \u001b[0moptions\u001b[0m\u001b[1;33m.\u001b[0m \u001b[0mIn\u001b[0m \u001b[0mthe\u001b[0m \u001b[0mpast\u001b[0m\u001b[1;33m,\u001b[0m\u001b[1;33m\u001b[0m\u001b[1;33m\u001b[0m\u001b[0m\n\u001b[0;32m    116\u001b[0m         \u001b[0mit\u001b[0m \u001b[0mwas\u001b[0m \u001b[0mmd5\u001b[0m\u001b[1;33m.\u001b[0m\u001b[1;33m\u001b[0m\u001b[1;33m\u001b[0m\u001b[0m\n\u001b[1;32m--> 117\u001b[1;33m \u001b[1;33m\u001b[0m\u001b[0m\n\u001b[0m\u001b[0;32m    118\u001b[0m         \u001b[0mThe\u001b[0m \u001b[0mstring\u001b[0m \u001b[0mshould\u001b[0m \u001b[0mbe\u001b[0m \u001b[0msuch\u001b[0m \u001b[0mthat\u001b[0m \u001b[0mwe\u001b[0m \u001b[0mcan\u001b[0m \u001b[0msafely\u001b[0m \u001b[0massume\u001b[0m \u001b[0mthat\u001b[0m \u001b[0mtwo\u001b[0m \u001b[0mdifferent\u001b[0m\u001b[1;33m\u001b[0m\u001b[1;33m\u001b[0m\u001b[0m\n\u001b[0;32m    119\u001b[0m         \u001b[0mconfig\u001b[0m \u001b[0msetups\u001b[0m \u001b[0mwill\u001b[0m \u001b[0mlead\u001b[0m \u001b[0mto\u001b[0m \u001b[0mtwo\u001b[0m \u001b[0mdifferent\u001b[0m \u001b[0mstrings\u001b[0m\u001b[1;33m.\u001b[0m\u001b[1;33m\u001b[0m\u001b[1;33m\u001b[0m\u001b[0m\n",
      "\u001b[1;32m~\\anaconda3\\lib\\site-packages\\pymc3\\variational\\opvi.py\u001b[0m in \u001b[0;36mdatalogp_norm\u001b[1;34m(self)\u001b[0m\n\u001b[0;32m   1402\u001b[0m         \u001b[1;32mreturn\u001b[0m \u001b[0mself\u001b[0m\u001b[1;33m.\u001b[0m\u001b[0msized_symbolic_datalogp\u001b[0m\u001b[1;33m.\u001b[0m\u001b[0mmean\u001b[0m\u001b[1;33m(\u001b[0m\u001b[1;36m0\u001b[0m\u001b[1;33m)\u001b[0m\u001b[1;33m\u001b[0m\u001b[1;33m\u001b[0m\u001b[0m\n\u001b[0;32m   1403\u001b[0m \u001b[1;33m\u001b[0m\u001b[0m\n\u001b[1;32m-> 1404\u001b[1;33m     \u001b[1;33m@\u001b[0m\u001b[0mnode_property\u001b[0m\u001b[1;33m\u001b[0m\u001b[1;33m\u001b[0m\u001b[0m\n\u001b[0m\u001b[0;32m   1405\u001b[0m     \u001b[1;32mdef\u001b[0m \u001b[0m_single_symbolic_varlogp_and_datalogp\u001b[0m\u001b[1;33m(\u001b[0m\u001b[0mself\u001b[0m\u001b[1;33m)\u001b[0m\u001b[1;33m:\u001b[0m\u001b[1;33m\u001b[0m\u001b[1;33m\u001b[0m\u001b[0m\n\u001b[0;32m   1406\u001b[0m         \u001b[1;34m\"\"\"*Dev* - computes sampled prior term from model via `theano.scan`\"\"\"\u001b[0m\u001b[1;33m\u001b[0m\u001b[1;33m\u001b[0m\u001b[0m\n",
      "\u001b[1;32m~\\anaconda3\\lib\\site-packages\\pymc3\\memoize.py\u001b[0m in \u001b[0;36mmemoizer\u001b[1;34m(*args, **kwargs)\u001b[0m\n\u001b[0;32m     29\u001b[0m     \u001b[0mIt\u001b[0m \u001b[0muses\u001b[0m \u001b[0ma\u001b[0m \u001b[0mcustom\u001b[0m\u001b[0;31m \u001b[0m\u001b[0;31m`\u001b[0m\u001b[0mhashable\u001b[0m\u001b[0;31m`\u001b[0m \u001b[0mhelper\u001b[0m \u001b[0mfunction\u001b[0m \u001b[0mto\u001b[0m \u001b[0mhash\u001b[0m \u001b[0mtypically\u001b[0m \u001b[0munhashable\u001b[0m \u001b[0mPython\u001b[0m \u001b[0mobjects\u001b[0m\u001b[1;33m.\u001b[0m\u001b[1;33m\u001b[0m\u001b[1;33m\u001b[0m\u001b[0m\n\u001b[0;32m     30\u001b[0m \u001b[1;33m\u001b[0m\u001b[0m\n\u001b[1;32m---> 31\u001b[1;33m     \u001b[0mParameters\u001b[0m\u001b[1;33m\u001b[0m\u001b[1;33m\u001b[0m\u001b[0m\n\u001b[0m\u001b[0;32m     32\u001b[0m     \u001b[1;33m-\u001b[0m\u001b[1;33m-\u001b[0m\u001b[1;33m-\u001b[0m\u001b[1;33m-\u001b[0m\u001b[1;33m-\u001b[0m\u001b[1;33m-\u001b[0m\u001b[1;33m-\u001b[0m\u001b[1;33m-\u001b[0m\u001b[1;33m-\u001b[0m\u001b[1;33m-\u001b[0m\u001b[1;33m\u001b[0m\u001b[1;33m\u001b[0m\u001b[0m\n\u001b[0;32m     33\u001b[0m     \u001b[0mobj\u001b[0m \u001b[1;33m:\u001b[0m \u001b[0mcallable\u001b[0m\u001b[1;33m\u001b[0m\u001b[1;33m\u001b[0m\u001b[0m\n",
      "\u001b[1;32m~\\anaconda3\\lib\\site-packages\\theano\\configparser.py\u001b[0m in \u001b[0;36mres\u001b[1;34m(*args, **kwargs)\u001b[0m\n\u001b[0;32m    115\u001b[0m         \u001b[0mReturn\u001b[0m \u001b[0ma\u001b[0m \u001b[0mstring\u001b[0m \u001b[0msha256\u001b[0m \u001b[0mof\u001b[0m \u001b[0mthe\u001b[0m \u001b[0mcurrent\u001b[0m \u001b[0mconfig\u001b[0m \u001b[0moptions\u001b[0m\u001b[1;33m.\u001b[0m \u001b[0mIn\u001b[0m \u001b[0mthe\u001b[0m \u001b[0mpast\u001b[0m\u001b[1;33m,\u001b[0m\u001b[1;33m\u001b[0m\u001b[1;33m\u001b[0m\u001b[0m\n\u001b[0;32m    116\u001b[0m         \u001b[0mit\u001b[0m \u001b[0mwas\u001b[0m \u001b[0mmd5\u001b[0m\u001b[1;33m.\u001b[0m\u001b[1;33m\u001b[0m\u001b[1;33m\u001b[0m\u001b[0m\n\u001b[1;32m--> 117\u001b[1;33m \u001b[1;33m\u001b[0m\u001b[0m\n\u001b[0m\u001b[0;32m    118\u001b[0m         \u001b[0mThe\u001b[0m \u001b[0mstring\u001b[0m \u001b[0mshould\u001b[0m \u001b[0mbe\u001b[0m \u001b[0msuch\u001b[0m \u001b[0mthat\u001b[0m \u001b[0mwe\u001b[0m \u001b[0mcan\u001b[0m \u001b[0msafely\u001b[0m \u001b[0massume\u001b[0m \u001b[0mthat\u001b[0m \u001b[0mtwo\u001b[0m \u001b[0mdifferent\u001b[0m\u001b[1;33m\u001b[0m\u001b[1;33m\u001b[0m\u001b[0m\n\u001b[0;32m    119\u001b[0m         \u001b[0mconfig\u001b[0m \u001b[0msetups\u001b[0m \u001b[0mwill\u001b[0m \u001b[0mlead\u001b[0m \u001b[0mto\u001b[0m \u001b[0mtwo\u001b[0m \u001b[0mdifferent\u001b[0m \u001b[0mstrings\u001b[0m\u001b[1;33m.\u001b[0m\u001b[1;33m\u001b[0m\u001b[1;33m\u001b[0m\u001b[0m\n",
      "\u001b[1;32m~\\anaconda3\\lib\\site-packages\\pymc3\\variational\\opvi.py\u001b[0m in \u001b[0;36mdatalogp\u001b[1;34m(self)\u001b[0m\n\u001b[0;32m   1362\u001b[0m     \u001b[1;32mdef\u001b[0m \u001b[0mlogq_norm\u001b[0m\u001b[1;33m(\u001b[0m\u001b[0mself\u001b[0m\u001b[1;33m)\u001b[0m\u001b[1;33m:\u001b[0m\u001b[1;33m\u001b[0m\u001b[1;33m\u001b[0m\u001b[0m\n\u001b[0;32m   1363\u001b[0m         \u001b[1;34m\"\"\"*Dev* - collects `logQ` for all groups and normalizes it\"\"\"\u001b[0m\u001b[1;33m\u001b[0m\u001b[1;33m\u001b[0m\u001b[0m\n\u001b[1;32m-> 1364\u001b[1;33m         \u001b[1;32mreturn\u001b[0m \u001b[0mself\u001b[0m\u001b[1;33m.\u001b[0m\u001b[0mlogq\u001b[0m \u001b[1;33m/\u001b[0m \u001b[0mself\u001b[0m\u001b[1;33m.\u001b[0m\u001b[0msymbolic_normalizing_constant\u001b[0m\u001b[1;33m\u001b[0m\u001b[1;33m\u001b[0m\u001b[0m\n\u001b[0m\u001b[0;32m   1365\u001b[0m \u001b[1;33m\u001b[0m\u001b[0m\n\u001b[0;32m   1366\u001b[0m     \u001b[1;33m@\u001b[0m\u001b[0mnode_property\u001b[0m\u001b[1;33m\u001b[0m\u001b[1;33m\u001b[0m\u001b[0m\n",
      "\u001b[1;32m~\\anaconda3\\lib\\site-packages\\pymc3\\memoize.py\u001b[0m in \u001b[0;36mmemoizer\u001b[1;34m(*args, **kwargs)\u001b[0m\n\u001b[0;32m     29\u001b[0m     \u001b[0mIt\u001b[0m \u001b[0muses\u001b[0m \u001b[0ma\u001b[0m \u001b[0mcustom\u001b[0m\u001b[0;31m \u001b[0m\u001b[0;31m`\u001b[0m\u001b[0mhashable\u001b[0m\u001b[0;31m`\u001b[0m \u001b[0mhelper\u001b[0m \u001b[0mfunction\u001b[0m \u001b[0mto\u001b[0m \u001b[0mhash\u001b[0m \u001b[0mtypically\u001b[0m \u001b[0munhashable\u001b[0m \u001b[0mPython\u001b[0m \u001b[0mobjects\u001b[0m\u001b[1;33m.\u001b[0m\u001b[1;33m\u001b[0m\u001b[1;33m\u001b[0m\u001b[0m\n\u001b[0;32m     30\u001b[0m \u001b[1;33m\u001b[0m\u001b[0m\n\u001b[1;32m---> 31\u001b[1;33m     \u001b[0mParameters\u001b[0m\u001b[1;33m\u001b[0m\u001b[1;33m\u001b[0m\u001b[0m\n\u001b[0m\u001b[0;32m     32\u001b[0m     \u001b[1;33m-\u001b[0m\u001b[1;33m-\u001b[0m\u001b[1;33m-\u001b[0m\u001b[1;33m-\u001b[0m\u001b[1;33m-\u001b[0m\u001b[1;33m-\u001b[0m\u001b[1;33m-\u001b[0m\u001b[1;33m-\u001b[0m\u001b[1;33m-\u001b[0m\u001b[1;33m-\u001b[0m\u001b[1;33m\u001b[0m\u001b[1;33m\u001b[0m\u001b[0m\n\u001b[0;32m     33\u001b[0m     \u001b[0mobj\u001b[0m \u001b[1;33m:\u001b[0m \u001b[0mcallable\u001b[0m\u001b[1;33m\u001b[0m\u001b[1;33m\u001b[0m\u001b[0m\n",
      "\u001b[1;32m~\\anaconda3\\lib\\site-packages\\theano\\configparser.py\u001b[0m in \u001b[0;36mres\u001b[1;34m(*args, **kwargs)\u001b[0m\n\u001b[0;32m    115\u001b[0m         \u001b[0mReturn\u001b[0m \u001b[0ma\u001b[0m \u001b[0mstring\u001b[0m \u001b[0msha256\u001b[0m \u001b[0mof\u001b[0m \u001b[0mthe\u001b[0m \u001b[0mcurrent\u001b[0m \u001b[0mconfig\u001b[0m \u001b[0moptions\u001b[0m\u001b[1;33m.\u001b[0m \u001b[0mIn\u001b[0m \u001b[0mthe\u001b[0m \u001b[0mpast\u001b[0m\u001b[1;33m,\u001b[0m\u001b[1;33m\u001b[0m\u001b[1;33m\u001b[0m\u001b[0m\n\u001b[0;32m    116\u001b[0m         \u001b[0mit\u001b[0m \u001b[0mwas\u001b[0m \u001b[0mmd5\u001b[0m\u001b[1;33m.\u001b[0m\u001b[1;33m\u001b[0m\u001b[1;33m\u001b[0m\u001b[0m\n\u001b[1;32m--> 117\u001b[1;33m \u001b[1;33m\u001b[0m\u001b[0m\n\u001b[0m\u001b[0;32m    118\u001b[0m         \u001b[0mThe\u001b[0m \u001b[0mstring\u001b[0m \u001b[0mshould\u001b[0m \u001b[0mbe\u001b[0m \u001b[0msuch\u001b[0m \u001b[0mthat\u001b[0m \u001b[0mwe\u001b[0m \u001b[0mcan\u001b[0m \u001b[0msafely\u001b[0m \u001b[0massume\u001b[0m \u001b[0mthat\u001b[0m \u001b[0mtwo\u001b[0m \u001b[0mdifferent\u001b[0m\u001b[1;33m\u001b[0m\u001b[1;33m\u001b[0m\u001b[0m\n\u001b[0;32m    119\u001b[0m         \u001b[0mconfig\u001b[0m \u001b[0msetups\u001b[0m \u001b[0mwill\u001b[0m \u001b[0mlead\u001b[0m \u001b[0mto\u001b[0m \u001b[0mtwo\u001b[0m \u001b[0mdifferent\u001b[0m \u001b[0mstrings\u001b[0m\u001b[1;33m.\u001b[0m\u001b[1;33m\u001b[0m\u001b[1;33m\u001b[0m\u001b[0m\n",
      "\u001b[1;32m~\\anaconda3\\lib\\site-packages\\pymc3\\variational\\opvi.py\u001b[0m in \u001b[0;36msized_symbolic_datalogp\u001b[1;34m(self)\u001b[0m\n\u001b[0;32m   1342\u001b[0m         \u001b[0mHere\u001b[0m \u001b[0mthe\u001b[0m \u001b[0meffect\u001b[0m \u001b[1;32mis\u001b[0m \u001b[0mcontrolled\u001b[0m \u001b[0mby\u001b[0m\u001b[0;31m \u001b[0m\u001b[0;31m`\u001b[0m\u001b[0mself\u001b[0m\u001b[1;33m.\u001b[0m\u001b[0mscale_cost_to_minibatch\u001b[0m\u001b[0;31m`\u001b[0m\u001b[1;33m\u001b[0m\u001b[1;33m\u001b[0m\u001b[0m\n\u001b[0;32m   1343\u001b[0m         \"\"\"\n\u001b[1;32m-> 1344\u001b[1;33m         t = tt.max(\n\u001b[0m\u001b[0;32m   1345\u001b[0m             \u001b[0mself\u001b[0m\u001b[1;33m.\u001b[0m\u001b[0mcollect\u001b[0m\u001b[1;33m(\u001b[0m\u001b[1;34m\"symbolic_normalizing_constant\"\u001b[0m\u001b[1;33m)\u001b[0m\u001b[1;33m\u001b[0m\u001b[1;33m\u001b[0m\u001b[0m\n\u001b[0;32m   1346\u001b[0m             \u001b[1;33m+\u001b[0m \u001b[1;33m[\u001b[0m\u001b[0mvar\u001b[0m\u001b[1;33m.\u001b[0m\u001b[0mscaling\u001b[0m \u001b[1;32mfor\u001b[0m \u001b[0mvar\u001b[0m \u001b[1;32min\u001b[0m \u001b[0mself\u001b[0m\u001b[1;33m.\u001b[0m\u001b[0mmodel\u001b[0m\u001b[1;33m.\u001b[0m\u001b[0mobserved_RVs\u001b[0m\u001b[1;33m]\u001b[0m\u001b[1;33m\u001b[0m\u001b[1;33m\u001b[0m\u001b[0m\n",
      "\u001b[1;32m~\\anaconda3\\lib\\site-packages\\pymc3\\memoize.py\u001b[0m in \u001b[0;36mmemoizer\u001b[1;34m(*args, **kwargs)\u001b[0m\n\u001b[0;32m     29\u001b[0m     \u001b[0mIt\u001b[0m \u001b[0muses\u001b[0m \u001b[0ma\u001b[0m \u001b[0mcustom\u001b[0m\u001b[0;31m \u001b[0m\u001b[0;31m`\u001b[0m\u001b[0mhashable\u001b[0m\u001b[0;31m`\u001b[0m \u001b[0mhelper\u001b[0m \u001b[0mfunction\u001b[0m \u001b[0mto\u001b[0m \u001b[0mhash\u001b[0m \u001b[0mtypically\u001b[0m \u001b[0munhashable\u001b[0m \u001b[0mPython\u001b[0m \u001b[0mobjects\u001b[0m\u001b[1;33m.\u001b[0m\u001b[1;33m\u001b[0m\u001b[1;33m\u001b[0m\u001b[0m\n\u001b[0;32m     30\u001b[0m \u001b[1;33m\u001b[0m\u001b[0m\n\u001b[1;32m---> 31\u001b[1;33m     \u001b[0mParameters\u001b[0m\u001b[1;33m\u001b[0m\u001b[1;33m\u001b[0m\u001b[0m\n\u001b[0m\u001b[0;32m     32\u001b[0m     \u001b[1;33m-\u001b[0m\u001b[1;33m-\u001b[0m\u001b[1;33m-\u001b[0m\u001b[1;33m-\u001b[0m\u001b[1;33m-\u001b[0m\u001b[1;33m-\u001b[0m\u001b[1;33m-\u001b[0m\u001b[1;33m-\u001b[0m\u001b[1;33m-\u001b[0m\u001b[1;33m-\u001b[0m\u001b[1;33m\u001b[0m\u001b[1;33m\u001b[0m\u001b[0m\n\u001b[0;32m     33\u001b[0m     \u001b[0mobj\u001b[0m \u001b[1;33m:\u001b[0m \u001b[0mcallable\u001b[0m\u001b[1;33m\u001b[0m\u001b[1;33m\u001b[0m\u001b[0m\n",
      "\u001b[1;32m~\\anaconda3\\lib\\site-packages\\theano\\configparser.py\u001b[0m in \u001b[0;36mres\u001b[1;34m(*args, **kwargs)\u001b[0m\n\u001b[0;32m    115\u001b[0m         \u001b[0mReturn\u001b[0m \u001b[0ma\u001b[0m \u001b[0mstring\u001b[0m \u001b[0msha256\u001b[0m \u001b[0mof\u001b[0m \u001b[0mthe\u001b[0m \u001b[0mcurrent\u001b[0m \u001b[0mconfig\u001b[0m \u001b[0moptions\u001b[0m\u001b[1;33m.\u001b[0m \u001b[0mIn\u001b[0m \u001b[0mthe\u001b[0m \u001b[0mpast\u001b[0m\u001b[1;33m,\u001b[0m\u001b[1;33m\u001b[0m\u001b[1;33m\u001b[0m\u001b[0m\n\u001b[0;32m    116\u001b[0m         \u001b[0mit\u001b[0m \u001b[0mwas\u001b[0m \u001b[0mmd5\u001b[0m\u001b[1;33m.\u001b[0m\u001b[1;33m\u001b[0m\u001b[1;33m\u001b[0m\u001b[0m\n\u001b[1;32m--> 117\u001b[1;33m \u001b[1;33m\u001b[0m\u001b[0m\n\u001b[0m\u001b[0;32m    118\u001b[0m         \u001b[0mThe\u001b[0m \u001b[0mstring\u001b[0m \u001b[0mshould\u001b[0m \u001b[0mbe\u001b[0m \u001b[0msuch\u001b[0m \u001b[0mthat\u001b[0m \u001b[0mwe\u001b[0m \u001b[0mcan\u001b[0m \u001b[0msafely\u001b[0m \u001b[0massume\u001b[0m \u001b[0mthat\u001b[0m \u001b[0mtwo\u001b[0m \u001b[0mdifferent\u001b[0m\u001b[1;33m\u001b[0m\u001b[1;33m\u001b[0m\u001b[0m\n\u001b[0;32m    119\u001b[0m         \u001b[0mconfig\u001b[0m \u001b[0msetups\u001b[0m \u001b[0mwill\u001b[0m \u001b[0mlead\u001b[0m \u001b[0mto\u001b[0m \u001b[0mtwo\u001b[0m \u001b[0mdifferent\u001b[0m \u001b[0mstrings\u001b[0m\u001b[1;33m.\u001b[0m\u001b[1;33m\u001b[0m\u001b[1;33m\u001b[0m\u001b[0m\n",
      "\u001b[1;32m~\\anaconda3\\lib\\site-packages\\pymc3\\variational\\opvi.py\u001b[0m in \u001b[0;36m_sized_symbolic_varlogp_and_datalogp\u001b[1;34m(self)\u001b[0m\n\u001b[0;32m   1330\u001b[0m     \u001b[1;33m@\u001b[0m\u001b[0mproperty\u001b[0m\u001b[1;33m\u001b[0m\u001b[1;33m\u001b[0m\u001b[0m\n\u001b[0;32m   1331\u001b[0m     \u001b[1;32mdef\u001b[0m \u001b[0mscale_cost_to_minibatch\u001b[0m\u001b[1;33m(\u001b[0m\u001b[0mself\u001b[0m\u001b[1;33m)\u001b[0m\u001b[1;33m:\u001b[0m\u001b[1;33m\u001b[0m\u001b[1;33m\u001b[0m\u001b[0m\n\u001b[1;32m-> 1332\u001b[1;33m         \u001b[1;34m\"\"\"*Dev* - Property to control scaling cost to minibatch\"\"\"\u001b[0m\u001b[1;33m\u001b[0m\u001b[1;33m\u001b[0m\u001b[0m\n\u001b[0m\u001b[0;32m   1333\u001b[0m         \u001b[1;32mreturn\u001b[0m \u001b[0mbool\u001b[0m\u001b[1;33m(\u001b[0m\u001b[0mself\u001b[0m\u001b[1;33m.\u001b[0m\u001b[0m_scale_cost_to_minibatch\u001b[0m\u001b[1;33m.\u001b[0m\u001b[0mget_value\u001b[0m\u001b[1;33m(\u001b[0m\u001b[1;33m)\u001b[0m\u001b[1;33m)\u001b[0m\u001b[1;33m\u001b[0m\u001b[1;33m\u001b[0m\u001b[0m\n\u001b[0;32m   1334\u001b[0m \u001b[1;33m\u001b[0m\u001b[0m\n",
      "\u001b[1;32m~\\anaconda3\\lib\\site-packages\\pymc3\\variational\\opvi.py\u001b[0m in \u001b[0;36msymbolic_sample_over_posterior\u001b[1;34m(self, node)\u001b[0m\n\u001b[0;32m   1478\u001b[0m         \u001b[1;33m:\u001b[0m\u001b[0mfunc\u001b[0m\u001b[1;33m:\u001b[0m\u001b[0;31m`\u001b[0m\u001b[0msymbolic_single_sample\u001b[0m\u001b[0;31m`\u001b[0m \u001b[0mnew\u001b[0m \u001b[0mrandom\u001b[0m \u001b[0mgenerator\u001b[0m \u001b[0mcan\u001b[0m \u001b[0mbe\u001b[0m \u001b[0mallocated\u001b[0m \u001b[1;32mand\u001b[0m \u001b[0mapplied\u001b[0m \u001b[0mto\u001b[0m \u001b[0mnode\u001b[0m\u001b[1;33m\u001b[0m\u001b[1;33m\u001b[0m\u001b[0m\n\u001b[0;32m   1479\u001b[0m \u001b[1;33m\u001b[0m\u001b[0m\n\u001b[1;32m-> 1480\u001b[1;33m         \u001b[0mParameters\u001b[0m\u001b[1;33m\u001b[0m\u001b[1;33m\u001b[0m\u001b[0m\n\u001b[0m\u001b[0;32m   1481\u001b[0m         \u001b[1;33m-\u001b[0m\u001b[1;33m-\u001b[0m\u001b[1;33m-\u001b[0m\u001b[1;33m-\u001b[0m\u001b[1;33m-\u001b[0m\u001b[1;33m-\u001b[0m\u001b[1;33m-\u001b[0m\u001b[1;33m-\u001b[0m\u001b[1;33m-\u001b[0m\u001b[1;33m-\u001b[0m\u001b[1;33m\u001b[0m\u001b[1;33m\u001b[0m\u001b[0m\n\u001b[0;32m   1482\u001b[0m         \u001b[0mnode\u001b[0m\u001b[1;33m:\u001b[0m \u001b[1;33m:\u001b[0m\u001b[1;32mclass\u001b[0m\u001b[1;33m:\u001b[0m\u001b[0;31m`\u001b[0m\u001b[0mVariable\u001b[0m\u001b[0;31m`\u001b[0m\u001b[1;33m\u001b[0m\u001b[1;33m\u001b[0m\u001b[0m\n",
      "\u001b[1;32m~\\anaconda3\\lib\\site-packages\\theano\\scan_module\\scan.py\u001b[0m in \u001b[0;36mscan\u001b[1;34m(fn, sequences, outputs_info, non_sequences, n_steps, truncate_gradient, go_backwards, mode, name, profile, allow_gc, strict, return_list)\u001b[0m\n\u001b[0;32m    841\u001b[0m     \u001b[1;31m# user if inputs of the inner function are missing.\u001b[0m\u001b[1;33m\u001b[0m\u001b[1;33m\u001b[0m\u001b[1;33m\u001b[0m\u001b[0m\n\u001b[0;32m    842\u001b[0m     \u001b[1;32mtry\u001b[0m\u001b[1;33m:\u001b[0m\u001b[1;33m\u001b[0m\u001b[1;33m\u001b[0m\u001b[0m\n\u001b[1;32m--> 843\u001b[1;33m         dummy_f = function(dummy_args,\n\u001b[0m\u001b[0;32m    844\u001b[0m                            \u001b[0mdummy_outs\u001b[0m\u001b[1;33m,\u001b[0m\u001b[1;33m\u001b[0m\u001b[1;33m\u001b[0m\u001b[0m\n\u001b[0;32m    845\u001b[0m                            \u001b[0mupdates\u001b[0m\u001b[1;33m=\u001b[0m\u001b[0mupdates\u001b[0m\u001b[1;33m,\u001b[0m\u001b[1;33m\u001b[0m\u001b[1;33m\u001b[0m\u001b[0m\n",
      "\u001b[1;32m~\\anaconda3\\lib\\site-packages\\theano\\compile\\function\\__init__.py\u001b[0m in \u001b[0;36mfunction\u001b[1;34m(inputs, outputs, mode, updates, givens, no_default_updates, accept_inplace, name, rebuild_strict, allow_input_downcast, profile, on_unused_input)\u001b[0m\n\u001b[0;32m    335\u001b[0m         \u001b[1;31m# note: pfunc will also call orig_function -- orig_function is\u001b[0m\u001b[1;33m\u001b[0m\u001b[1;33m\u001b[0m\u001b[1;33m\u001b[0m\u001b[0m\n\u001b[0;32m    336\u001b[0m         \u001b[1;31m#      a choke point that all compilation must pass through\u001b[0m\u001b[1;33m\u001b[0m\u001b[1;33m\u001b[0m\u001b[1;33m\u001b[0m\u001b[0m\n\u001b[1;32m--> 337\u001b[1;33m         fn = pfunc(\n\u001b[0m\u001b[0;32m    338\u001b[0m             \u001b[0mparams\u001b[0m\u001b[1;33m=\u001b[0m\u001b[0minputs\u001b[0m\u001b[1;33m,\u001b[0m\u001b[1;33m\u001b[0m\u001b[1;33m\u001b[0m\u001b[0m\n\u001b[0;32m    339\u001b[0m             \u001b[0moutputs\u001b[0m\u001b[1;33m=\u001b[0m\u001b[0moutputs\u001b[0m\u001b[1;33m,\u001b[0m\u001b[1;33m\u001b[0m\u001b[1;33m\u001b[0m\u001b[0m\n",
      "\u001b[1;32m~\\anaconda3\\lib\\site-packages\\theano\\compile\\function\\pfunc.py\u001b[0m in \u001b[0;36mpfunc\u001b[1;34m(params, outputs, mode, updates, givens, no_default_updates, accept_inplace, name, rebuild_strict, allow_input_downcast, profile, on_unused_input, output_keys)\u001b[0m\n\u001b[0;32m    424\u001b[0m \u001b[1;33m\u001b[0m\u001b[0m\n\u001b[0;32m    425\u001b[0m     \u001b[1;31m# transform params into theano.compile.In objects.\u001b[0m\u001b[1;33m\u001b[0m\u001b[1;33m\u001b[0m\u001b[1;33m\u001b[0m\u001b[0m\n\u001b[1;32m--> 426\u001b[1;33m     inputs = [\n\u001b[0m\u001b[0;32m    427\u001b[0m         \u001b[0m_pfunc_param_to_in\u001b[0m\u001b[1;33m(\u001b[0m\u001b[0mp\u001b[0m\u001b[1;33m,\u001b[0m \u001b[0mallow_downcast\u001b[0m\u001b[1;33m=\u001b[0m\u001b[0mallow_input_downcast\u001b[0m\u001b[1;33m)\u001b[0m \u001b[1;32mfor\u001b[0m \u001b[0mp\u001b[0m \u001b[1;32min\u001b[0m \u001b[0mparams\u001b[0m\u001b[1;33m\u001b[0m\u001b[1;33m\u001b[0m\u001b[0m\n\u001b[0;32m    428\u001b[0m     ]\n",
      "\u001b[1;32m~\\anaconda3\\lib\\site-packages\\theano\\compile\\function\\pfunc.py\u001b[0m in \u001b[0;36m<listcomp>\u001b[1;34m(.0)\u001b[0m\n\u001b[0;32m    425\u001b[0m     \u001b[1;31m# transform params into theano.compile.In objects.\u001b[0m\u001b[1;33m\u001b[0m\u001b[1;33m\u001b[0m\u001b[1;33m\u001b[0m\u001b[0m\n\u001b[0;32m    426\u001b[0m     inputs = [\n\u001b[1;32m--> 427\u001b[1;33m         \u001b[0m_pfunc_param_to_in\u001b[0m\u001b[1;33m(\u001b[0m\u001b[0mp\u001b[0m\u001b[1;33m,\u001b[0m \u001b[0mallow_downcast\u001b[0m\u001b[1;33m=\u001b[0m\u001b[0mallow_input_downcast\u001b[0m\u001b[1;33m)\u001b[0m \u001b[1;32mfor\u001b[0m \u001b[0mp\u001b[0m \u001b[1;32min\u001b[0m \u001b[0mparams\u001b[0m\u001b[1;33m\u001b[0m\u001b[1;33m\u001b[0m\u001b[0m\n\u001b[0m\u001b[0;32m    428\u001b[0m     ]\n\u001b[0;32m    429\u001b[0m \u001b[1;33m\u001b[0m\u001b[0m\n",
      "\u001b[1;32m~\\anaconda3\\lib\\site-packages\\theano\\compile\\function\\pfunc.py\u001b[0m in \u001b[0;36m_pfunc_param_to_in\u001b[1;34m(param, strict, allow_downcast)\u001b[0m\n\u001b[0;32m    541\u001b[0m     \u001b[1;32melif\u001b[0m \u001b[0misinstance\u001b[0m\u001b[1;33m(\u001b[0m\u001b[0mparam\u001b[0m\u001b[1;33m,\u001b[0m \u001b[0mIn\u001b[0m\u001b[1;33m)\u001b[0m\u001b[1;33m:\u001b[0m\u001b[1;33m\u001b[0m\u001b[1;33m\u001b[0m\u001b[0m\n\u001b[0;32m    542\u001b[0m         \u001b[1;32mreturn\u001b[0m \u001b[0mparam\u001b[0m\u001b[1;33m\u001b[0m\u001b[1;33m\u001b[0m\u001b[0m\n\u001b[1;32m--> 543\u001b[1;33m     \u001b[1;32mraise\u001b[0m \u001b[0mTypeError\u001b[0m\u001b[1;33m(\u001b[0m\u001b[1;34mf\"Unknown parameter type: {type(param)}\"\u001b[0m\u001b[1;33m)\u001b[0m\u001b[1;33m\u001b[0m\u001b[1;33m\u001b[0m\u001b[0m\n\u001b[0m\u001b[0;32m    544\u001b[0m \u001b[1;33m\u001b[0m\u001b[0m\n\u001b[0;32m    545\u001b[0m \u001b[1;33m\u001b[0m\u001b[0m\n",
      "\u001b[1;31mTypeError\u001b[0m: Unknown parameter type: <class 'theano.tensor.var.TensorVariable'>"
     ]
    }
   ],
   "source": [
    "from pymc3 import fit\n",
    "RANDOM_SEED = 20090425\n",
    "\n",
    "with absoluteHumidity:\n",
    "\n",
    "    samplesGamma1 = fit(random_seed=RANDOM_SEED).sample(500)"
   ]
  },
  {
   "cell_type": "code",
   "execution_count": 98,
   "metadata": {
    "id": "oG4NTD7yVxxY"
   },
   "outputs": [
    {
     "ename": "NameError",
     "evalue": "name 'samplesGamma1' is not defined",
     "output_type": "error",
     "traceback": [
      "\u001b[1;31m---------------------------------------------------------------------------\u001b[0m",
      "\u001b[1;31mNameError\u001b[0m                                 Traceback (most recent call last)",
      "\u001b[1;32m<ipython-input-98-10c60cc17b38>\u001b[0m in \u001b[0;36m<module>\u001b[1;34m\u001b[0m\n\u001b[1;32m----> 1\u001b[1;33m \u001b[0malphas\u001b[0m \u001b[1;33m=\u001b[0m \u001b[0msamplesGamma1\u001b[0m\u001b[1;33m[\u001b[0m\u001b[1;34m'alpha'\u001b[0m\u001b[1;33m]\u001b[0m\u001b[1;33m\u001b[0m\u001b[1;33m\u001b[0m\u001b[0m\n\u001b[0m\u001b[0;32m      2\u001b[0m \u001b[0mbetas\u001b[0m \u001b[1;33m=\u001b[0m \u001b[0msamplesGamma1\u001b[0m\u001b[1;33m[\u001b[0m\u001b[1;34m'beta'\u001b[0m\u001b[1;33m]\u001b[0m\u001b[1;33m\u001b[0m\u001b[1;33m\u001b[0m\u001b[0m\n",
      "\u001b[1;31mNameError\u001b[0m: name 'samplesGamma1' is not defined"
     ]
    }
   ],
   "source": [
    "alphas = samplesGamma1['alpha']\n",
    "betas = samplesGamma1['beta']"
   ]
  },
  {
   "cell_type": "code",
   "execution_count": null,
   "metadata": {
    "id": "UoCS6rw4Vz8z"
   },
   "outputs": [],
   "source": [
    "humidSample = Gamma.dist(alpha = alphas, beta = betas).random()"
   ]
  },
  {
   "cell_type": "code",
   "execution_count": null,
   "metadata": {
    "colab": {
     "base_uri": "https://localhost:8080/",
     "height": 383
    },
    "id": "3Kl6PD2tWUDl",
    "outputId": "01ed03f0-b328-4eac-845f-6fbc27e67dc3"
   },
   "outputs": [],
   "source": [
    "import matplotlib.pyplot as plt\n",
    "import seaborn as sns\n",
    "\n",
    "sns.distplot(humidSample, label='simulated')\n",
    "sns.distplot(dfSQforAnalysis[\"AH\"], label='observed')\n",
    "plt.legend()"
   ]
  },
  {
   "cell_type": "markdown",
   "metadata": {
    "id": "Sq9B4H9qUcA2"
   },
   "source": [
    "# Repeating the model with Linear algebra multivariate distribution\n"
   ]
  },
  {
   "cell_type": "code",
   "execution_count": 49,
   "metadata": {
    "colab": {
     "base_uri": "https://localhost:8080/"
    },
    "id": "06SnlCDTWjvL",
    "outputId": "5af0c500-60ef-4b44-a478-e1e63eb0460e"
   },
   "outputs": [
    {
     "name": "stderr",
     "output_type": "stream",
     "text": [
      "Auto-assigning NUTS sampler...\n",
      "Initializing NUTS using adapt_diag...\n"
     ]
    },
    {
     "ename": "TypeError",
     "evalue": "Unknown parameter type: <class 'theano.tensor.var.TensorVariable'>",
     "output_type": "error",
     "traceback": [
      "\u001b[1;31m---------------------------------------------------------------------------\u001b[0m",
      "\u001b[1;31mTypeError\u001b[0m                                 Traceback (most recent call last)",
      "\u001b[1;32m<ipython-input-49-6665322ef857>\u001b[0m in \u001b[0;36m<module>\u001b[1;34m\u001b[0m\n\u001b[0;32m      4\u001b[0m                             \u001b[0mdfSQforAnalysis\u001b[0m\u001b[1;33m,\u001b[0m\u001b[1;33m\u001b[0m\u001b[1;33m\u001b[0m\u001b[0m\n\u001b[0;32m      5\u001b[0m                             family=pm.glm.families.Normal())\n\u001b[1;32m----> 6\u001b[1;33m     \u001b[0mtrace2\u001b[0m \u001b[1;33m=\u001b[0m \u001b[0mpm\u001b[0m\u001b[1;33m.\u001b[0m\u001b[0msample\u001b[0m\u001b[1;33m(\u001b[0m\u001b[1;36m1000\u001b[0m\u001b[1;33m,\u001b[0m \u001b[0mtune\u001b[0m\u001b[1;33m=\u001b[0m\u001b[1;36m1000\u001b[0m\u001b[1;33m,\u001b[0m \u001b[0minit\u001b[0m\u001b[1;33m=\u001b[0m\u001b[1;34m'adapt_diag'\u001b[0m\u001b[1;33m,\u001b[0m \u001b[0mcores\u001b[0m\u001b[1;33m=\u001b[0m\u001b[1;36m1\u001b[0m\u001b[1;33m)\u001b[0m\u001b[1;33m\u001b[0m\u001b[1;33m\u001b[0m\u001b[0m\n\u001b[0m",
      "\u001b[1;32m~\\anaconda3\\lib\\site-packages\\pymc3\\sampling.py\u001b[0m in \u001b[0;36msample\u001b[1;34m(draws, step, init, n_init, start, trace, chain_idx, chains, cores, tune, progressbar, model, random_seed, discard_tuned_samples, compute_convergence_checks, **kwargs)\u001b[0m\n\u001b[0;32m    413\u001b[0m             \u001b[1;31m# By default, try to use NUTS\u001b[0m\u001b[1;33m\u001b[0m\u001b[1;33m\u001b[0m\u001b[1;33m\u001b[0m\u001b[0m\n\u001b[0;32m    414\u001b[0m             \u001b[0m_log\u001b[0m\u001b[1;33m.\u001b[0m\u001b[0minfo\u001b[0m\u001b[1;33m(\u001b[0m\u001b[1;34m\"Auto-assigning NUTS sampler...\"\u001b[0m\u001b[1;33m)\u001b[0m\u001b[1;33m\u001b[0m\u001b[1;33m\u001b[0m\u001b[0m\n\u001b[1;32m--> 415\u001b[1;33m             start_, step = init_nuts(\n\u001b[0m\u001b[0;32m    416\u001b[0m                 \u001b[0minit\u001b[0m\u001b[1;33m=\u001b[0m\u001b[0minit\u001b[0m\u001b[1;33m,\u001b[0m\u001b[1;33m\u001b[0m\u001b[1;33m\u001b[0m\u001b[0m\n\u001b[0;32m    417\u001b[0m                 \u001b[0mchains\u001b[0m\u001b[1;33m=\u001b[0m\u001b[0mchains\u001b[0m\u001b[1;33m,\u001b[0m\u001b[1;33m\u001b[0m\u001b[1;33m\u001b[0m\u001b[0m\n",
      "\u001b[1;32m~\\anaconda3\\lib\\site-packages\\pymc3\\sampling.py\u001b[0m in \u001b[0;36minit_nuts\u001b[1;34m(init, chains, n_init, model, random_seed, progressbar, **kwargs)\u001b[0m\n\u001b[0;32m   1687\u001b[0m         \u001b[1;32mraise\u001b[0m \u001b[0mValueError\u001b[0m\u001b[1;33m(\u001b[0m\u001b[1;34m\"Unknown initializer: {}.\"\u001b[0m\u001b[1;33m.\u001b[0m\u001b[0mformat\u001b[0m\u001b[1;33m(\u001b[0m\u001b[0minit\u001b[0m\u001b[1;33m)\u001b[0m\u001b[1;33m)\u001b[0m\u001b[1;33m\u001b[0m\u001b[1;33m\u001b[0m\u001b[0m\n\u001b[0;32m   1688\u001b[0m \u001b[1;33m\u001b[0m\u001b[0m\n\u001b[1;32m-> 1689\u001b[1;33m     \u001b[0mstep\u001b[0m \u001b[1;33m=\u001b[0m \u001b[0mpm\u001b[0m\u001b[1;33m.\u001b[0m\u001b[0mNUTS\u001b[0m\u001b[1;33m(\u001b[0m\u001b[0mpotential\u001b[0m\u001b[1;33m=\u001b[0m\u001b[0mpotential\u001b[0m\u001b[1;33m,\u001b[0m \u001b[0mmodel\u001b[0m\u001b[1;33m=\u001b[0m\u001b[0mmodel\u001b[0m\u001b[1;33m,\u001b[0m \u001b[1;33m**\u001b[0m\u001b[0mkwargs\u001b[0m\u001b[1;33m)\u001b[0m\u001b[1;33m\u001b[0m\u001b[1;33m\u001b[0m\u001b[0m\n\u001b[0m\u001b[0;32m   1690\u001b[0m \u001b[1;33m\u001b[0m\u001b[0m\n\u001b[0;32m   1691\u001b[0m     \u001b[1;32mreturn\u001b[0m \u001b[0mstart\u001b[0m\u001b[1;33m,\u001b[0m \u001b[0mstep\u001b[0m\u001b[1;33m\u001b[0m\u001b[1;33m\u001b[0m\u001b[0m\n",
      "\u001b[1;32m~\\anaconda3\\lib\\site-packages\\pymc3\\step_methods\\hmc\\nuts.py\u001b[0m in \u001b[0;36m__init__\u001b[1;34m(self, vars, max_treedepth, early_max_treedepth, **kwargs)\u001b[0m\n\u001b[0;32m    146\u001b[0m         \u001b[0;31m`\u001b[0m\u001b[0mpm\u001b[0m\u001b[1;33m.\u001b[0m\u001b[0msample\u001b[0m\u001b[0;31m`\u001b[0m \u001b[0mto\u001b[0m \u001b[0mthe\u001b[0m \u001b[0mdesired\u001b[0m \u001b[0mnumber\u001b[0m \u001b[0mof\u001b[0m \u001b[0mtuning\u001b[0m \u001b[0msteps\u001b[0m\u001b[1;33m.\u001b[0m\u001b[1;33m\u001b[0m\u001b[1;33m\u001b[0m\u001b[0m\n\u001b[0;32m    147\u001b[0m         \"\"\"\n\u001b[1;32m--> 148\u001b[1;33m         \u001b[0msuper\u001b[0m\u001b[1;33m(\u001b[0m\u001b[1;33m)\u001b[0m\u001b[1;33m.\u001b[0m\u001b[0m__init__\u001b[0m\u001b[1;33m(\u001b[0m\u001b[0mvars\u001b[0m\u001b[1;33m,\u001b[0m \u001b[1;33m**\u001b[0m\u001b[0mkwargs\u001b[0m\u001b[1;33m)\u001b[0m\u001b[1;33m\u001b[0m\u001b[1;33m\u001b[0m\u001b[0m\n\u001b[0m\u001b[0;32m    149\u001b[0m \u001b[1;33m\u001b[0m\u001b[0m\n\u001b[0;32m    150\u001b[0m         \u001b[0mself\u001b[0m\u001b[1;33m.\u001b[0m\u001b[0mmax_treedepth\u001b[0m \u001b[1;33m=\u001b[0m \u001b[0mmax_treedepth\u001b[0m\u001b[1;33m\u001b[0m\u001b[1;33m\u001b[0m\u001b[0m\n",
      "\u001b[1;32m~\\anaconda3\\lib\\site-packages\\pymc3\\step_methods\\hmc\\base_hmc.py\u001b[0m in \u001b[0;36m__init__\u001b[1;34m(self, vars, scaling, step_scale, is_cov, model, blocked, potential, dtype, Emax, target_accept, gamma, k, t0, adapt_step_size, step_rand, **theano_kwargs)\u001b[0m\n\u001b[0;32m     70\u001b[0m         \u001b[0mvars\u001b[0m \u001b[1;33m=\u001b[0m \u001b[0minputvars\u001b[0m\u001b[1;33m(\u001b[0m\u001b[0mvars\u001b[0m\u001b[1;33m)\u001b[0m\u001b[1;33m\u001b[0m\u001b[1;33m\u001b[0m\u001b[0m\n\u001b[0;32m     71\u001b[0m \u001b[1;33m\u001b[0m\u001b[0m\n\u001b[1;32m---> 72\u001b[1;33m         \u001b[0msuper\u001b[0m\u001b[1;33m(\u001b[0m\u001b[1;33m)\u001b[0m\u001b[1;33m.\u001b[0m\u001b[0m__init__\u001b[0m\u001b[1;33m(\u001b[0m\u001b[0mvars\u001b[0m\u001b[1;33m,\u001b[0m \u001b[0mblocked\u001b[0m\u001b[1;33m=\u001b[0m\u001b[0mblocked\u001b[0m\u001b[1;33m,\u001b[0m \u001b[0mmodel\u001b[0m\u001b[1;33m=\u001b[0m\u001b[0mmodel\u001b[0m\u001b[1;33m,\u001b[0m \u001b[0mdtype\u001b[0m\u001b[1;33m=\u001b[0m\u001b[0mdtype\u001b[0m\u001b[1;33m,\u001b[0m \u001b[1;33m**\u001b[0m\u001b[0mtheano_kwargs\u001b[0m\u001b[1;33m)\u001b[0m\u001b[1;33m\u001b[0m\u001b[1;33m\u001b[0m\u001b[0m\n\u001b[0m\u001b[0;32m     73\u001b[0m \u001b[1;33m\u001b[0m\u001b[0m\n\u001b[0;32m     74\u001b[0m         \u001b[0mself\u001b[0m\u001b[1;33m.\u001b[0m\u001b[0madapt_step_size\u001b[0m \u001b[1;33m=\u001b[0m \u001b[0madapt_step_size\u001b[0m\u001b[1;33m\u001b[0m\u001b[1;33m\u001b[0m\u001b[0m\n",
      "\u001b[1;32m~\\anaconda3\\lib\\site-packages\\pymc3\\step_methods\\arraystep.py\u001b[0m in \u001b[0;36m__init__\u001b[1;34m(self, vars, model, blocked, dtype, **theano_kwargs)\u001b[0m\n\u001b[0;32m    225\u001b[0m         \u001b[0mself\u001b[0m\u001b[1;33m.\u001b[0m\u001b[0mblocked\u001b[0m \u001b[1;33m=\u001b[0m \u001b[0mblocked\u001b[0m\u001b[1;33m\u001b[0m\u001b[1;33m\u001b[0m\u001b[0m\n\u001b[0;32m    226\u001b[0m \u001b[1;33m\u001b[0m\u001b[0m\n\u001b[1;32m--> 227\u001b[1;33m         func = model.logp_dlogp_function(\n\u001b[0m\u001b[0;32m    228\u001b[0m             vars, dtype=dtype, **theano_kwargs)\n\u001b[0;32m    229\u001b[0m \u001b[1;33m\u001b[0m\u001b[0m\n",
      "\u001b[1;32m~\\anaconda3\\lib\\site-packages\\pymc3\\model.py\u001b[0m in \u001b[0;36mlogp_dlogp_function\u001b[1;34m(self, grad_vars, **kwargs)\u001b[0m\n\u001b[0;32m    817\u001b[0m         \u001b[0mvarnames\u001b[0m \u001b[1;33m=\u001b[0m \u001b[1;33m[\u001b[0m\u001b[0mvar\u001b[0m\u001b[1;33m.\u001b[0m\u001b[0mname\u001b[0m \u001b[1;32mfor\u001b[0m \u001b[0mvar\u001b[0m \u001b[1;32min\u001b[0m \u001b[0mgrad_vars\u001b[0m\u001b[1;33m]\u001b[0m\u001b[1;33m\u001b[0m\u001b[1;33m\u001b[0m\u001b[0m\n\u001b[0;32m    818\u001b[0m         \u001b[0mextra_vars\u001b[0m \u001b[1;33m=\u001b[0m \u001b[1;33m[\u001b[0m\u001b[0mvar\u001b[0m \u001b[1;32mfor\u001b[0m \u001b[0mvar\u001b[0m \u001b[1;32min\u001b[0m \u001b[0mself\u001b[0m\u001b[1;33m.\u001b[0m\u001b[0mfree_RVs\u001b[0m \u001b[1;32mif\u001b[0m \u001b[0mvar\u001b[0m\u001b[1;33m.\u001b[0m\u001b[0mname\u001b[0m \u001b[1;32mnot\u001b[0m \u001b[1;32min\u001b[0m \u001b[0mvarnames\u001b[0m\u001b[1;33m]\u001b[0m\u001b[1;33m\u001b[0m\u001b[1;33m\u001b[0m\u001b[0m\n\u001b[1;32m--> 819\u001b[1;33m         \u001b[1;32mreturn\u001b[0m \u001b[0mValueGradFunction\u001b[0m\u001b[1;33m(\u001b[0m\u001b[0mself\u001b[0m\u001b[1;33m.\u001b[0m\u001b[0mlogpt\u001b[0m\u001b[1;33m,\u001b[0m \u001b[0mgrad_vars\u001b[0m\u001b[1;33m,\u001b[0m \u001b[0mextra_vars\u001b[0m\u001b[1;33m,\u001b[0m \u001b[1;33m**\u001b[0m\u001b[0mkwargs\u001b[0m\u001b[1;33m)\u001b[0m\u001b[1;33m\u001b[0m\u001b[1;33m\u001b[0m\u001b[0m\n\u001b[0m\u001b[0;32m    820\u001b[0m \u001b[1;33m\u001b[0m\u001b[0m\n\u001b[0;32m    821\u001b[0m     \u001b[1;33m@\u001b[0m\u001b[0mproperty\u001b[0m\u001b[1;33m\u001b[0m\u001b[1;33m\u001b[0m\u001b[0m\n",
      "\u001b[1;32m~\\anaconda3\\lib\\site-packages\\pymc3\\model.py\u001b[0m in \u001b[0;36m__init__\u001b[1;34m(self, cost, grad_vars, extra_vars, dtype, casting, **kwargs)\u001b[0m\n\u001b[0;32m    552\u001b[0m         \u001b[0minputs\u001b[0m \u001b[1;33m=\u001b[0m \u001b[1;33m[\u001b[0m\u001b[0mself\u001b[0m\u001b[1;33m.\u001b[0m\u001b[0m_vars_joined\u001b[0m\u001b[1;33m]\u001b[0m\u001b[1;33m\u001b[0m\u001b[1;33m\u001b[0m\u001b[0m\n\u001b[0;32m    553\u001b[0m \u001b[1;33m\u001b[0m\u001b[0m\n\u001b[1;32m--> 554\u001b[1;33m         self._theano_function = theano.function(\n\u001b[0m\u001b[0;32m    555\u001b[0m             inputs, [self._cost_joined, grad], givens=givens, **kwargs)\n\u001b[0;32m    556\u001b[0m \u001b[1;33m\u001b[0m\u001b[0m\n",
      "\u001b[1;32m~\\anaconda3\\lib\\site-packages\\theano\\compile\\function\\__init__.py\u001b[0m in \u001b[0;36mfunction\u001b[1;34m(inputs, outputs, mode, updates, givens, no_default_updates, accept_inplace, name, rebuild_strict, allow_input_downcast, profile, on_unused_input)\u001b[0m\n\u001b[0;32m    335\u001b[0m         \u001b[1;31m# note: pfunc will also call orig_function -- orig_function is\u001b[0m\u001b[1;33m\u001b[0m\u001b[1;33m\u001b[0m\u001b[1;33m\u001b[0m\u001b[0m\n\u001b[0;32m    336\u001b[0m         \u001b[1;31m#      a choke point that all compilation must pass through\u001b[0m\u001b[1;33m\u001b[0m\u001b[1;33m\u001b[0m\u001b[1;33m\u001b[0m\u001b[0m\n\u001b[1;32m--> 337\u001b[1;33m         fn = pfunc(\n\u001b[0m\u001b[0;32m    338\u001b[0m             \u001b[0mparams\u001b[0m\u001b[1;33m=\u001b[0m\u001b[0minputs\u001b[0m\u001b[1;33m,\u001b[0m\u001b[1;33m\u001b[0m\u001b[1;33m\u001b[0m\u001b[0m\n\u001b[0;32m    339\u001b[0m             \u001b[0moutputs\u001b[0m\u001b[1;33m=\u001b[0m\u001b[0moutputs\u001b[0m\u001b[1;33m,\u001b[0m\u001b[1;33m\u001b[0m\u001b[1;33m\u001b[0m\u001b[0m\n",
      "\u001b[1;32m~\\anaconda3\\lib\\site-packages\\theano\\compile\\function\\pfunc.py\u001b[0m in \u001b[0;36mpfunc\u001b[1;34m(params, outputs, mode, updates, givens, no_default_updates, accept_inplace, name, rebuild_strict, allow_input_downcast, profile, on_unused_input, output_keys)\u001b[0m\n\u001b[0;32m    424\u001b[0m \u001b[1;33m\u001b[0m\u001b[0m\n\u001b[0;32m    425\u001b[0m     \u001b[1;31m# transform params into theano.compile.In objects.\u001b[0m\u001b[1;33m\u001b[0m\u001b[1;33m\u001b[0m\u001b[1;33m\u001b[0m\u001b[0m\n\u001b[1;32m--> 426\u001b[1;33m     inputs = [\n\u001b[0m\u001b[0;32m    427\u001b[0m         \u001b[0m_pfunc_param_to_in\u001b[0m\u001b[1;33m(\u001b[0m\u001b[0mp\u001b[0m\u001b[1;33m,\u001b[0m \u001b[0mallow_downcast\u001b[0m\u001b[1;33m=\u001b[0m\u001b[0mallow_input_downcast\u001b[0m\u001b[1;33m)\u001b[0m \u001b[1;32mfor\u001b[0m \u001b[0mp\u001b[0m \u001b[1;32min\u001b[0m \u001b[0mparams\u001b[0m\u001b[1;33m\u001b[0m\u001b[1;33m\u001b[0m\u001b[0m\n\u001b[0;32m    428\u001b[0m     ]\n",
      "\u001b[1;32m~\\anaconda3\\lib\\site-packages\\theano\\compile\\function\\pfunc.py\u001b[0m in \u001b[0;36m<listcomp>\u001b[1;34m(.0)\u001b[0m\n\u001b[0;32m    425\u001b[0m     \u001b[1;31m# transform params into theano.compile.In objects.\u001b[0m\u001b[1;33m\u001b[0m\u001b[1;33m\u001b[0m\u001b[1;33m\u001b[0m\u001b[0m\n\u001b[0;32m    426\u001b[0m     inputs = [\n\u001b[1;32m--> 427\u001b[1;33m         \u001b[0m_pfunc_param_to_in\u001b[0m\u001b[1;33m(\u001b[0m\u001b[0mp\u001b[0m\u001b[1;33m,\u001b[0m \u001b[0mallow_downcast\u001b[0m\u001b[1;33m=\u001b[0m\u001b[0mallow_input_downcast\u001b[0m\u001b[1;33m)\u001b[0m \u001b[1;32mfor\u001b[0m \u001b[0mp\u001b[0m \u001b[1;32min\u001b[0m \u001b[0mparams\u001b[0m\u001b[1;33m\u001b[0m\u001b[1;33m\u001b[0m\u001b[0m\n\u001b[0m\u001b[0;32m    428\u001b[0m     ]\n\u001b[0;32m    429\u001b[0m \u001b[1;33m\u001b[0m\u001b[0m\n",
      "\u001b[1;32m~\\anaconda3\\lib\\site-packages\\theano\\compile\\function\\pfunc.py\u001b[0m in \u001b[0;36m_pfunc_param_to_in\u001b[1;34m(param, strict, allow_downcast)\u001b[0m\n\u001b[0;32m    541\u001b[0m     \u001b[1;32melif\u001b[0m \u001b[0misinstance\u001b[0m\u001b[1;33m(\u001b[0m\u001b[0mparam\u001b[0m\u001b[1;33m,\u001b[0m \u001b[0mIn\u001b[0m\u001b[1;33m)\u001b[0m\u001b[1;33m:\u001b[0m\u001b[1;33m\u001b[0m\u001b[1;33m\u001b[0m\u001b[0m\n\u001b[0;32m    542\u001b[0m         \u001b[1;32mreturn\u001b[0m \u001b[0mparam\u001b[0m\u001b[1;33m\u001b[0m\u001b[1;33m\u001b[0m\u001b[0m\n\u001b[1;32m--> 543\u001b[1;33m     \u001b[1;32mraise\u001b[0m \u001b[0mTypeError\u001b[0m\u001b[1;33m(\u001b[0m\u001b[1;34mf\"Unknown parameter type: {type(param)}\"\u001b[0m\u001b[1;33m)\u001b[0m\u001b[1;33m\u001b[0m\u001b[1;33m\u001b[0m\u001b[0m\n\u001b[0m\u001b[0;32m    544\u001b[0m \u001b[1;33m\u001b[0m\u001b[0m\n\u001b[0;32m    545\u001b[0m \u001b[1;33m\u001b[0m\u001b[0m\n",
      "\u001b[1;31mTypeError\u001b[0m: Unknown parameter type: <class 'theano.tensor.var.TensorVariable'>"
     ]
    }
   ],
   "source": [
    "import pymc3 as pm\n",
    "with pm.Model() as glm_model:\n",
    "    pm.glm.GLM.from_formula('AH ~ PT08S4 + NO2GT + T',\n",
    "                            dfSQforAnalysis,\n",
    "                            family=pm.glm.families.Normal())\n",
    "    trace2 = pm.sample(1000, tune=1000, init='adapt_diag', cores=1)"
   ]
  },
  {
   "cell_type": "code",
   "execution_count": null,
   "metadata": {
    "colab": {
     "base_uri": "https://localhost:8080/",
     "height": 1000
    },
    "id": "ScK8g9VjWlgF",
    "outputId": "6cac4664-69a3-47a6-e9d5-2c4caa53ff4d"
   },
   "outputs": [],
   "source": [
    "import arviz as arviz\n",
    "arviz.plot_trace(trace2)"
   ]
  },
  {
   "cell_type": "code",
   "execution_count": null,
   "metadata": {
    "colab": {
     "base_uri": "https://localhost:8080/",
     "height": 342
    },
    "id": "SA4YMATRWmzT",
    "outputId": "98ce6881-e946-44d7-8baf-0fe4b1ca8b05"
   },
   "outputs": [],
   "source": [
    "arviz.plot_posterior(trace2[500:], var_names=['Intercept', 'PT08S4', 'NO2GT', 'T'])"
   ]
  },
  {
   "cell_type": "markdown",
   "metadata": {},
   "source": [
    "After our analysis we can conclude that our Humidity is depending on these three parameters. And by linear analysis we can make a dependency Equation as follows\n",
    "\n",
    "$$AH= -0.075 + 0.0069 \\text{PTO8S4} - 0.0018\\text{NO2GT} + 0.012 * \\text{T}$$"
   ]
  },
  {
   "cell_type": "markdown",
   "metadata": {
    "id": "ViptKSkyWYKu"
   },
   "source": [
    "## Conclusion \n",
    "Using above model we have analysed the real time data that was recorded in Italy and analyzed on what harmful chemicals are actually effecting our Humidity"
   ]
  }
 ],
 "metadata": {
  "colab": {
   "name": "finalDsemRun.ipynb",
   "provenance": []
  },
  "kernelspec": {
   "display_name": "Python 3",
   "language": "python",
   "name": "python3"
  },
  "language_info": {
   "codemirror_mode": {
    "name": "ipython",
    "version": 3
   },
   "file_extension": ".py",
   "mimetype": "text/x-python",
   "name": "python",
   "nbconvert_exporter": "python",
   "pygments_lexer": "ipython3",
   "version": "3.8.5"
  }
 },
 "nbformat": 4,
 "nbformat_minor": 1
}
